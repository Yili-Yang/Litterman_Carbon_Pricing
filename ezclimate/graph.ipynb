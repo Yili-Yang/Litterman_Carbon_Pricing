{
 "cells": [
  {
   "cell_type": "code",
   "execution_count": 1,
   "metadata": {
    "collapsed": false
   },
   "outputs": [],
   "source": [
    "import matplotlib.pyplot as plt\n",
    "\n",
    "import pickle\n",
    "import numpy as np"
   ]
  },
  {
   "cell_type": "code",
<<<<<<< Updated upstream
   "execution_count": 8,
   "metadata": {
    "collapsed": false
   },
   "outputs": [],
   "source": [
    "with open('sensitive_analysis_2G_26.pkl','r') as inputs:\n",
=======
   "execution_count": 65,
   "metadata": {},
   "outputs": [],
   "source": [
    "with open('sensitive_analysis_1v30_2v30_3v3.pkl','r') as inputs:\n",
>>>>>>> Stashed changes
    "    data = pickle.load(inputs)\n",
    "with open('sensitive_analysis_1v34.pkl','r') as inputs:\n",
    "    data.extend(pickle.load(inputs))\n",
    "with open('sensitive_analysis_1v36.pkl','r') as inputs:\n",
    "    data.extend(pickle.load(inputs))\n",
    "#with open('sensitive_analysis_1G_49.pkl','r') as inputs:\n",
    "#    data.extend(pickle.load(inputs))\n",
    "\n",
    "with open('sensitive_analysis_base_renewal.pkl','r') as inputsbase:\n",
    "    data_base = pickle.load(inputsbase)"
   ]
  },
  {
   "cell_type": "code",
<<<<<<< Updated upstream
   "execution_count": 3,
=======
   "execution_count": 66,
>>>>>>> Stashed changes
   "metadata": {
    "collapsed": true
   },
   "outputs": [],
   "source": [
    "def get_price_stat_ave(data,decision_times): #period average for each sample\n",
    "    mitigation = []\n",
    "    utility = []\n",
    "    price = []\n",
    "    a650 = []\n",
    "    from tree import TreeModel \n",
    "    for i in range(len(data)): #load corresponding results\n",
    "        mitigation.append(data[i][2])\n",
    "        utility.append(data[i][3])\n",
    "        price.append(data[i][4])\n",
    "        a650.append(data[i][1][0][1])\n",
    "    print(np.mean(a650))\n",
    "    \n",
    "    t = TreeModel(decision_times)\n",
    "    nodes_index = []\n",
    "    for i in range(t.num_periods):\n",
    "        nodes_index.append(t.get_nodes_in_period(i)) #get nodes for slicing\n",
    "    price_stat_ave = np.zeros((len(data), t.num_periods))\n",
    "    for i in range(len(data)):\n",
    "        for j in range(t.num_periods):\n",
    "            price_stat_ave[i,j] = np.average(data[i][4][nodes_index[j][0]:nodes_index[j][1]+1])\n",
    "    return price_stat_ave\n",
    "\n",
    "def get_90_quantile(price_stat_ave):\n",
    "    list0 = price_stat_ave[:,0]\n",
    "    list1 = price_stat_ave[:,1]\n",
    "    list2 = price_stat_ave[:,2]\n",
    "    list3 = price_stat_ave[:,3]\n",
    "    list4 = price_stat_ave[:,4]\n",
    "    list5 = price_stat_ave[:,5]\n",
    "    list_ = [list0,list1,list2,list3,list4,list5]\n",
    "    for i in range(len(list_)):\n",
    "        list_[i]=np.sort(list_[i])[5:95] #take the 90% of the sorted results\n",
    "    list_min = []\n",
    "    list_max = []\n",
    "    for i in list_:\n",
    "        list_min.append(i[0])\n",
    "        list_max.append(i[-1])   \n",
    "    return list_min,list_max #take the lower and upper bounds for the test results"
   ]
  },
  {
   "cell_type": "code",
<<<<<<< Updated upstream
   "execution_count": null,
   "metadata": {
    "collapsed": false
   },
   "outputs": [],
=======
   "execution_count": 67,
   "metadata": {},
   "outputs": [
    {
     "name": "stdout",
     "output_type": "stream",
     "text": [
      "4.62068351716\n",
      "nan\n"
     ]
    },
    {
     "data": {
      "image/png": "iVBORw0KGgoAAAANSUhEUgAAAYwAAAEeCAYAAACZlyICAAAABHNCSVQICAgIfAhkiAAAAAlwSFlz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\nEQcMMzNrxAHDzMwaccAwM7NG/gIhmIobdUUytwAAAABJRU5ErkJggg==\n",
      "text/plain": [
       "<matplotlib.figure.Figure at 0x10fcfcc50>"
      ]
     },
     "metadata": {},
     "output_type": "display_data"
    }
   ],
>>>>>>> Stashed changes
   "source": [
    "decision_times=[0, 15, 45, 85, 185, 285, 385]\n",
    "price_stat_ave= get_price_stat_ave(data,decision_times)\n",
    "price_stat_ave_base =get_price_stat_ave_B(data_base,decision_times)\n",
    "\n",
    "list_min,list_max = get_90_quantile(price_stat_ave)\n",
    "plt.figure()\n",
    "plt.plot(decision_times[:-1],list_min, 'r--')\n",
    "plt.plot(decision_times[:-1],list_max,'r--')\n",
    "plt.plot(decision_times[:-1],price_stat_ave_base[0,:],'b')\n",
    "plt.title('Sensitivity Analysis for Variable a650', size ='xx-large')\n",
    "plt.ylabel('Price in $', size = 'x-large')\n",
    "plt.xlabel('Period Index', size = 'x-large')\n",
    "plt.savefig('sensitivity_analysis_a650')\n",
    "#plt.xlim(decision_times)"
   ]
  },
  {
   "cell_type": "code",
   "execution_count": 4,
   "metadata": {
    "collapsed": true
   },
   "outputs": [],
   "source": [
    "def get_price_stat_ave_G(data,decision_times): #period average for each sample\n",
    "    mitigation = []\n",
    "    utility = []\n",
    "    price = []\n",
    "    a650 = []\n",
    "    from tree import TreeModel \n",
    "    for i in range(len(data)): #load corresponding results\n",
    "        mitigation.append(data[i][3])\n",
    "        utility.append(data[i][4])\n",
    "        price.append(data[i][5])\n",
    "        a650.append(data[i][2])\n",
    "    print(np.mean(a650))\n",
    "    \n",
    "    t = TreeModel(decision_times)\n",
    "    nodes_index = []\n",
    "    for i in range(t.num_periods):\n",
    "        nodes_index.append(t.get_nodes_in_period(i)) #get nodes for slicing\n",
    "    price_stat_ave = np.zeros((len(data), t.num_periods))\n",
    "    for i in range(len(data)):\n",
    "        for j in range(t.num_periods):\n",
    "            price_stat_ave[i,j] = np.average(data[i][5][nodes_index[j][0]:nodes_index[j][1]+1])\n",
    "    return price_stat_ave\n"
   ]
  },
  {
   "cell_type": "code",
   "execution_count": 5,
   "metadata": {
    "collapsed": true
   },
   "outputs": [],
   "source": [
    "def get_price_stat_ave_B(data,decision_times): #period average for each sample\n",
    "    mitigation = []\n",
    "    utility = []\n",
    "    price = []\n",
    "    a650 = []\n",
    "    from tree import TreeModel \n",
    "    for i in range(len(data)): #load corresponding results\n",
    "        mitigation.append(data[i][-3])\n",
    "        utility.append(data[i][-2])\n",
    "        price.append(data[i][-1])\n",
    "        #a650.append(data[i][2])\n",
    "    print(np.mean(a650))\n",
    "    \n",
    "    t = TreeModel(decision_times)\n",
    "    nodes_index = []\n",
    "    for i in range(t.num_periods):\n",
    "        nodes_index.append(t.get_nodes_in_period(i)) #get nodes for slicing\n",
    "    price_stat_ave = np.zeros((len(data), t.num_periods))\n",
    "    for i in range(len(data)):\n",
    "        for j in range(t.num_periods):\n",
    "            price_stat_ave[i,j] = np.average(data[i][-1][nodes_index[j][0]:nodes_index[j][1]+1])\n",
    "    return price_stat_ave\n"
   ]
  },
  {
   "cell_type": "code",
   "execution_count": 6,
   "metadata": {
    "collapsed": false
   },
   "outputs": [
    {
     "name": "stdout",
     "output_type": "stream",
     "text": [
      "93.4859790229\n",
      "nan\n"
     ]
    },
    {
     "name": "stderr",
     "output_type": "stream",
     "text": [
      "d:\\ted_yang\\anaconda\\envs\\py27\\lib\\site-packages\\numpy\\core\\fromnumeric.py:2909: RuntimeWarning: Mean of empty slice.\n",
      "  out=out, **kwargs)\n",
      "d:\\ted_yang\\anaconda\\envs\\py27\\lib\\site-packages\\numpy\\core\\_methods.py:80: RuntimeWarning: invalid value encountered in double_scalars\n",
      "  ret = ret.dtype.type(ret / rcount)\n"
     ]
    }
   ],
   "source": [
    "decision_times=[0, 15, 45, 85, 185, 285, 385]\n",
    "price_stat_ave= get_price_stat_ave_G(data[:101],decision_times)\n",
    "price_stat_ave_base =get_price_stat_ave_B(data_base,decision_times)\n",
    "\n",
    "list_min,list_max = get_90_quantile(price_stat_ave)\n",
    "plt.figure()\n",
    "plt.plot(decision_times[:-1],list_min, 'r--')\n",
    "plt.plot(decision_times[:-1],list_max,'r--')\n",
    "plt.plot(decision_times[:-1],price_stat_ave_base[0,:],'b')\n",
    "plt.title('Sensitivity Analysis for Variable x100', size ='xx-large')\n",
    "plt.ylabel('Price in $', size = 'x-large')\n",
    "plt.xlabel('Period Index', size = 'x-large')\n",
    "plt.show\n",
    "plt.savefig('sensitivity_analysis_x100')\n",
    "#plt.xlim(decision_times)"
   ]
  },
  {
   "cell_type": "code",
   "execution_count": null,
   "metadata": {
    "collapsed": false
   },
   "outputs": [],
   "source": [
    "list_min"
   ]
  },
  {
   "cell_type": "code",
   "execution_count": null,
   "metadata": {
    "collapsed": false
   },
   "outputs": [],
   "source": [
    "list_max"
   ]
  },
  {
   "cell_type": "code",
   "execution_count": 7,
   "metadata": {
    "collapsed": false
   },
   "outputs": [
    {
     "data": {
      "image/png": "iVBORw0KGgoAAAANSUhEUgAAAYwAAAEeCAYAAACZlyICAAAABHNCSVQICAgIfAhkiAAAAAlwSFlz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\n",
      "text/plain": [
       "<matplotlib.figure.Figure at 0x643f4e0>"
      ]
     },
     "metadata": {},
     "output_type": "display_data"
    }
   ],
   "source": [
    "plt.plot(decision_times[:-1],list_min, 'r--')\n",
    "plt.plot(decision_times[:-1],list_max,'r--')\n",
    "plt.plot(decision_times[:-1],price_stat_ave_base[0,:],'b')\n",
    "plt.title('Sensitivity Analysis for Variable x60', size ='xx-large')\n",
    "plt.ylabel('Price in $', size = 'x-large')\n",
    "plt.xlabel('Period Index', size = 'x-large')\n",
    "plt.show()\n",
    "plt.savefig('sensitivity_analysis_x60')"
   ]
  },
  {
   "cell_type": "code",
   "execution_count": null,
   "metadata": {
    "collapsed": true
   },
   "outputs": [],
   "source": []
  }
 ],
 "metadata": {
  "kernelspec": {
   "display_name": "python2.7",
   "language": "python",
   "name": "python2.7"
  },
  "language_info": {
   "codemirror_mode": {
    "name": "ipython",
    "version": 2
   },
   "file_extension": ".py",
   "mimetype": "text/x-python",
   "name": "python",
   "nbconvert_exporter": "python",
   "pygments_lexer": "ipython2",
   "version": "2.7.13"
  }
 },
 "nbformat": 4,
 "nbformat_minor": 2
}
