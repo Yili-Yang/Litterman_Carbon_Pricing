{
 "cells": [
  {
   "cell_type": "code",
   "execution_count": 1,
   "metadata": {
    "collapsed": false
   },
   "outputs": [],
   "source": [
    "import matplotlib.pyplot as plt\n",
    "\n",
    "import pickle\n",
    "import numpy as np"
   ]
  },
  {
   "cell_type": "code",
   "execution_count": 2,
   "metadata": {
    "collapsed": false
   },
   "outputs": [],
   "source": [
    "with open('sensitive_analysis_2G_100.pkl','r') as inputs:\n",
    "    data = pickle.load(inputs)\n",
    "\n",
    "with open('sensitive_analysis_base_renewal.pkl','r') as inputsbase:\n",
    "    data_base = pickle.load(inputsbase)"
   ]
  },
  {
   "cell_type": "code",
   "execution_count": 6,
   "metadata": {
    "collapsed": false
   },
   "outputs": [
    {
     "data": {
      "text/plain": [
       "([0, 0.0, 0.0, 0.0, 18.673, 0.0, 454.513],\n",
       " [3.697761559796065, 101.12088460651056],\n",
       " array([  7.46509303e-01,   9.01022927e-01,   6.05138366e-01,\n",
       "          1.18337968e+00,   9.36778130e-01,   9.37988295e-01,\n",
       "          2.85838812e-01,   1.17705545e+00,   1.12340691e+00,\n",
       "          1.28701331e+00,   1.13708802e+00,   1.27596305e+00,\n",
       "          1.02271564e+00,   3.73818090e-01,   4.88806506e-01,\n",
       "          9.36234595e-01,   9.49308023e-01,   7.57788981e-01,\n",
       "          1.02167544e+00,   9.58223025e-01,   1.01080369e+00,\n",
       "          5.01898315e-01,   2.98313712e-01,   9.58787155e-01,\n",
       "          1.00661692e+00,   1.24774806e+00,   2.70049292e-01,\n",
       "          3.81267883e-01,   9.86536930e-01,   7.23488973e-01,\n",
       "          6.65724194e-01,   9.77424159e-01,   1.00923450e+00,\n",
       "          8.47502619e-01,   2.48659853e-01,   1.31005944e+00,\n",
       "          7.30704987e-01,   1.01131288e+00,   9.18980909e-01,\n",
       "          9.62665667e-01,   4.72147800e-01,   9.22081970e-01,\n",
       "          3.79503527e-01,   1.41844706e+00,   1.49664259e+00,\n",
       "          1.48010813e+00,   1.00000000e-05,   1.15519294e+00,\n",
       "          8.09732425e-01,   1.31072081e-01,   2.36001614e-01,\n",
       "          8.54448572e-01,   3.94951188e-01,   1.06906471e+00,\n",
       "          9.98370962e-01,   7.47669039e-01,   3.71786234e-01,\n",
       "          1.35417850e+00,   4.12070163e-01,   6.98467239e-01,\n",
       "          5.29981039e-01,   5.53452147e-01,   6.64649461e-01]),\n",
       " 9.2796448528426545,\n",
       " [169.92569038535987,\n",
       "  225.01503156099395,\n",
       "  76.880975222601762,\n",
       "  298.31982427222692,\n",
       "  158.81557748074795,\n",
       "  159.36966863409057,\n",
       "  6.4588253054176761,\n",
       "  160.63979411387353,\n",
       "  141.64357332140514,\n",
       "  204.40378867075177,\n",
       "  146.34537856549991,\n",
       "  199.7036377292591,\n",
       "  109.94516340646632,\n",
       "  7.2777620230253506,\n",
       "  15.004601525956692,\n",
       "  19.11108631640727,\n",
       "  19.839584402603364,\n",
       "  10.802701923837683,\n",
       "  24.188387057598561,\n",
       "  20.346232964790222,\n",
       "  23.500263850257749,\n",
       "  3.5547945681798749,\n",
       "  0.87352388323720076,\n",
       "  20.37856386210149,\n",
       "  23.238589802890679,\n",
       "  41.477303351726476,\n",
       "  0.66780543954900462,\n",
       "  1.6933256884692069,\n",
       "  22.00908325229528,\n",
       "  9.5337369176209208,\n",
       "  7.6167989668619933,\n",
       "  4.7353519419612278,\n",
       "  5.1626837002746298,\n",
       "  3.2229033009711014,\n",
       "  0.11792128831528785,\n",
       "  10.435885579662687,\n",
       "  2.16029966142841,\n",
       "  5.1914160613319362,\n",
       "  4.0097320709535014,\n",
       "  4.5449232218796416,\n",
       "  0.66503562455973864,\n",
       "  4.0463392726968648,\n",
       "  0.36891741306225251,\n",
       "  12.931886589456777,\n",
       "  14.94628336604247,\n",
       "  14.504989679611185,\n",
       "  1.6341166614415207e-13,\n",
       "  7.4324665205718183,\n",
       "  2.8499211026606495,\n",
       "  0.020958301895639946,\n",
       "  0.10241841468605647,\n",
       "  3.2946594104443476,\n",
       "  0.41084211825934519,\n",
       "  6.0304782832221084,\n",
       "  5.0141304697965632,\n",
       "  2.2982829481200788,\n",
       "  0.34902643412368939,\n",
       "  11.411333978783182,\n",
       "  0.46066867009728524,\n",
       "  1.9127073236752576,\n",
       "  0.90829119890608501,\n",
       "  1.0209308927526719,\n",
       "  1.673025521758178])"
      ]
     },
     "execution_count": 6,
     "metadata": {},
     "output_type": "execute_result"
    }
   ],
   "source": [
    "data[2]"
   ]
  },
  {
   "cell_type": "code",
   "execution_count": 21,
   "metadata": {
    "collapsed": true
   },
   "outputs": [],
   "source": [
    "def get_price_stat_ave(data,decision_times): #period average for each sample\n",
    "    mitigation = []\n",
    "    utility = []\n",
    "    price = []\n",
    "    a650 = []\n",
    "    from tree import TreeModel \n",
    "    for i in range(len(data)): #load corresponding results\n",
    "        mitigation.append(data[i][-3])\n",
    "        utility.append(data[i][-2])\n",
    "        price.append(data[i][-1])\n",
    "        #a650.append(data[i][2])\n",
    "    #print(np.mean(a650))\n",
    "    \n",
    "    t = TreeModel(decision_times)\n",
    "    nodes_index = []\n",
    "    for i in range(t.num_periods):\n",
    "        nodes_index.append(t.get_nodes_in_period(i)) #get nodes for slicing\n",
    "    price_stat_ave = np.zeros((len(data), t.num_periods))\n",
    "    for i in range(len(data)):\n",
    "        for j in range(t.num_periods):\n",
    "            price_stat_ave[i,j] = np.average(data[i][-1][nodes_index[j][0]:nodes_index[j][1]+1])\n",
    "    return price_stat_ave\n",
    "\n",
    "def get_90_quantile(price_stat_ave):\n",
    "    list0 = price_stat_ave[:,0]\n",
    "    list1 = price_stat_ave[:,1]\n",
    "    list2 = price_stat_ave[:,2]\n",
    "    list3 = price_stat_ave[:,3]\n",
    "    list4 = price_stat_ave[:,4]\n",
    "    list5 = price_stat_ave[:,5]\n",
    "    list_ = [list0,list1,list2,list3,list4,list5]\n",
    "    fivepercent = int(len(list0)*0.05)\n",
    "    for i in range(len(list_)):\n",
    "        list_[i]=np.sort(list_[i])[fivepercent:-fivepercent] #take the 90% of the sorted results\n",
    "    list_min = []\n",
    "    list_max = []\n",
    "    for i in list_:\n",
    "        list_min.append(i[0])\n",
    "        list_max.append(i[-1])   \n",
    "    return list_min,list_max #take the lower and upper bounds for the test results"
   ]
  },
  {
   "cell_type": "code",
   "execution_count": 22,
   "metadata": {
    "collapsed": false
   },
   "outputs": [],
   "source": [
    "decision_times=[0, 15, 45, 85, 185, 285, 385]\n",
    "price_stat_ave= get_price_stat_ave(data,decision_times)\n",
    "price_stat_ave_base =get_price_stat_ave(data_base,decision_times)\n",
    "\n",
    "list_min,list_max = get_90_quantile(price_stat_ave)\n",
    "plt.figure()\n",
    "plt.plot(decision_times[:-1],list_min, 'r--')\n",
    "plt.plot(decision_times[:-1],list_max,'r--')\n",
    "plt.plot(decision_times[:-1],price_stat_ave_base[0,:],'b')\n",
    "plt.title('Sensitivity Analysis for Variable x60', size ='xx-large')\n",
    "plt.ylabel('Price in $', size = 'x-large')\n",
    "plt.xlabel('Period Index', size = 'x-large')\n",
    "plt.savefig('sensitivity_analysis_x60')\n",
    "#plt.xlim(decision_times)"
   ]
  },
  {
   "cell_type": "code",
   "execution_count": null,
   "metadata": {
    "collapsed": true
   },
   "outputs": [],
   "source": []
  },
  {
   "cell_type": "code",
   "execution_count": null,
   "metadata": {
    "collapsed": true
   },
   "outputs": [],
   "source": []
  }
 ],
 "metadata": {
  "kernelspec": {
   "display_name": "python2.7",
   "language": "python",
   "name": "python2.7"
  },
  "language_info": {
   "codemirror_mode": {
    "name": "ipython",
    "version": 2
   },
   "file_extension": ".py",
   "mimetype": "text/x-python",
   "name": "python",
   "nbconvert_exporter": "python",
   "pygments_lexer": "ipython2",
   "version": "2.7.13"
  }
 },
 "nbformat": 4,
 "nbformat_minor": 2
}
