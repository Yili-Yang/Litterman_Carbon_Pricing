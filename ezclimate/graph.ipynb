{
 "cells": [
  {
   "cell_type": "code",
   "execution_count": 1,
   "metadata": {
    "collapsed": true
   },
   "outputs": [],
   "source": [
    "import matplotlib.pyplot as plt\n",
    "%matplotlib inline\n",
    "\n",
    "import pickle\n",
    "import numpy as np"
   ]
  },
  {
   "cell_type": "code",
   "execution_count": 2,
   "metadata": {},
   "outputs": [
    {
     "name": "stdout",
     "output_type": "stream",
     "text": [
      "Requirement already satisfied: matplotlib in /Library/Frameworks/Python.framework/Versions/2.7/lib/python2.7/site-packages\n",
      "Requirement already satisfied: python-dateutil in /Library/Frameworks/Python.framework/Versions/2.7/lib/python2.7/site-packages (from matplotlib)\n",
      "Requirement already satisfied: subprocess32 in /Library/Frameworks/Python.framework/Versions/2.7/lib/python2.7/site-packages (from matplotlib)\n",
      "Requirement already satisfied: cycler>=0.10 in /Library/Frameworks/Python.framework/Versions/2.7/lib/python2.7/site-packages (from matplotlib)\n",
      "Requirement already satisfied: six>=1.10 in /Library/Frameworks/Python.framework/Versions/2.7/lib/python2.7/site-packages (from matplotlib)\n",
      "Requirement already satisfied: pytz in /Library/Frameworks/Python.framework/Versions/2.7/lib/python2.7/site-packages (from matplotlib)\n",
      "Requirement already satisfied: functools32 in /Library/Frameworks/Python.framework/Versions/2.7/lib/python2.7/site-packages (from matplotlib)\n",
      "Requirement already satisfied: numpy>=1.7.1 in /Library/Frameworks/Python.framework/Versions/2.7/lib/python2.7/site-packages (from matplotlib)\n",
      "Requirement already satisfied: pyparsing!=2.0.4,!=2.1.2,!=2.1.6,>=1.5.6 in /Library/Frameworks/Python.framework/Versions/2.7/lib/python2.7/site-packages (from matplotlib)\n",
      "Requirement already satisfied: numpy in /Library/Frameworks/Python.framework/Versions/2.7/lib/python2.7/site-packages\n"
     ]
    }
   ],
   "source": [
    "!pip install matplotlib\n",
    "!pip install numpy"
   ]
  },
  {
   "cell_type": "code",
   "execution_count": 15,
   "metadata": {},
   "outputs": [],
   "source": [
    "with open('sensitive_analysis_1v30_2v30_3v3.pkl','r') as inputs:\n",
    "    data = pickle.load(inputs)[30:60]\n",
    "with open('sensitive_analysis_2v2.pkl','r') as inputs:\n",
    "    data.extend(pickle.load(inputs))\n",
    "with open('sensitive_analysis_2v26.pkl','r') as inputs:\n",
    "    data.extend(pickle.load(inputs))\n",
    "with open('sensitive_analysis_2v42.pkl','r') as inputs:\n",
    "    data.extend(pickle.load(inputs))\n",
    "with open('sensitive_analysis_base.pkl','r') as inputsbase:\n",
    "    data_base = pickle.load(inputsbase)"
   ]
  },
  {
   "cell_type": "code",
   "execution_count": 22,
   "metadata": {},
   "outputs": [
    {
     "data": {
      "text/plain": [
       "([0, 0.0, 0.0, 0.0, 17.659, 0.0, 517.902],\n",
       " [[2.81, 4.349780148837676, 6.1], [0.6, 0.63, 0.67], [-0.25, -0.5, -1.0]],\n",
       " array([ 0.8040038 ,  0.97353309,  0.80904658,  1.28988973,  1.01965266,\n",
       "         1.02162822,  0.88179992,  1.11677714,  1.09820726,  1.19260846,\n",
       "         1.14585622,  1.21789031,  1.18350025,  1.22933556,  0.85616904,\n",
       "         1.02526636,  0.99005862,  1.02654848,  0.99351106,  1.03762271,\n",
       "         1.00354166,  1.05218366,  1.0179243 ,  1.04345911,  1.00987898,\n",
       "         1.06351444,  1.02761032,  1.0651697 ,  1.03628994,  1.38403668,\n",
       "         0.67004585,  0.93981327,  0.92772609,  0.95820911,  0.93680078,\n",
       "         0.95716982,  0.93561362,  0.97054172,  0.9509749 ,  0.95339411,\n",
       "         0.93251296,  0.96568631,  0.94929798,  0.96228733,  0.94411585,\n",
       "         0.97983538,  0.89497647,  0.95202645,  0.93280968,  0.96347806,\n",
       "         0.94727369,  0.96217479,  0.94220658,  0.97932347,  0.90251149,\n",
       "         0.95757859,  0.9389028 ,  0.97675911,  0.90631972,  1.01500186,\n",
       "         0.99132093,  1.5386414 ,  0.14371663]),\n",
       " 9.4071165506853678,\n",
       " [185.64762665987462,\n",
       "  234.82013885201621,\n",
       "  150.23986204624106,\n",
       "  294.23569368054336,\n",
       "  166.85040594316581,\n",
       "  167.63152473211792,\n",
       "  117.51949308479725,\n",
       "  113.53359565980548,\n",
       "  109.03161165295322,\n",
       "  133.03643217684095,\n",
       "  120.79868010158624,\n",
       "  139.94381731304853,\n",
       "  130.59797217235445,\n",
       "  143.13833946887317,\n",
       "  59.792582974705105,\n",
       "  20.377608525820722,\n",
       "  18.72983795391864,\n",
       "  20.43915252360463,\n",
       "  18.887826514391769,\n",
       "  20.975266199094321,\n",
       "  19.351256663277304,\n",
       "  21.692577502887683,\n",
       "  20.027267636587538,\n",
       "  21.261087107397156,\n",
       "  19.647447885042908,\n",
       "  22.260557900764876,\n",
       "  20.490204984498387,\n",
       "  22.344251684194958,\n",
       "  20.910314781610268,\n",
       "  42.033291539403663,\n",
       "  7.3012034690235277,\n",
       "  3.643985213524374,\n",
       "  3.5319227206292063,\n",
       "  3.818484078050373,\n",
       "  3.615864020710037,\n",
       "  3.808498065096412,\n",
       "  3.6048170705846214,\n",
       "  3.9381529693176072,\n",
       "  3.7492916047184583,\n",
       "  3.7723479401005555,\n",
       "  3.5760576226155156,\n",
       "  3.8907805923617804,\n",
       "  3.7333581831280207,\n",
       "  3.8578176729080838,\n",
       "  3.6843706433090202,\n",
       "  4.0297653523923467,\n",
       "  3.2385359447557174,\n",
       "  3.7593032955746195,\n",
       "  3.5788039206945594,\n",
       "  3.8693465252292296,\n",
       "  3.7141771153509042,\n",
       "  3.8567290573084021,\n",
       "  3.666417470663383,\n",
       "  4.0246870741301679,\n",
       "  3.3047206079916105,\n",
       "  3.8124238606577308,\n",
       "  3.6354726459213129,\n",
       "  3.9993043803108006,\n",
       "  3.3384692086813508,\n",
       "  4.387647940168149,\n",
       "  4.1446926785500304,\n",
       "  11.972638438881257,\n",
       "  0.039236633499315068])"
      ]
     },
     "execution_count": 22,
     "metadata": {},
     "output_type": "execute_result"
    }
   ],
   "source": [
    "data[1]"
   ]
  },
  {
   "cell_type": "code",
   "execution_count": 29,
   "metadata": {
    "collapsed": true
   },
   "outputs": [],
   "source": [
    "def get_price_stat_ave(data,decision_times): #period average for each sample\n",
    "    mitigation = []\n",
    "    utility = []\n",
    "    price = []\n",
    "    a650 = []\n",
    "    from tree import TreeModel \n",
    "    for i in range(len(data)): #load corresponding results\n",
    "        mitigation.append(data[i][2])\n",
    "        utility.append(data[i][3])\n",
    "        price.append(data[i][4])\n",
    "        a650.append(data[i][1][0][1])\n",
    "    print(np.mean(a650))\n",
    "    \n",
    "    t = TreeModel(decision_times)\n",
    "    nodes_index = []\n",
    "    for i in range(t.num_periods):\n",
    "        nodes_index.append(t.get_nodes_in_period(i)) #get nodes for slicing\n",
    "    price_stat_ave = np.zeros((len(data), t.num_periods))\n",
    "    for i in range(len(data)):\n",
    "        for j in range(t.num_periods):\n",
    "            price_stat_ave[i,j] = np.average(data[i][4][nodes_index[j][0]:nodes_index[j][1]+1])\n",
    "    return price_stat_ave\n",
    "\n",
    "def get_90_quantile(price_stat_ave):\n",
    "    list0 = price_stat_ave[:,0]\n",
    "    list1 = price_stat_ave[:,1]\n",
    "    list2 = price_stat_ave[:,2]\n",
    "    list3 = price_stat_ave[:,3]\n",
    "    list4 = price_stat_ave[:,4]\n",
    "    list5 = price_stat_ave[:,5]\n",
    "    list_ = [list0,list1,list2,list3,list4,list5]\n",
    "    for i in range(len(list_)):\n",
    "        list_[i]=np.sort(list_[i])[5:95] #take the 90% of the sorted results\n",
    "    list_min = []\n",
    "    list_max = []\n",
    "    for i in list_:\n",
    "        list_min.append(i[0])\n",
    "        list_max.append(i[-1])   \n",
    "    return list_min,list_max #take the lower and upper bounds for the test results"
   ]
  },
  {
   "cell_type": "code",
   "execution_count": 30,
   "metadata": {},
   "outputs": [
    {
     "name": "stdout",
     "output_type": "stream",
     "text": [
      "4.61136382497\n",
      "4.63\n"
     ]
    },
    {
     "data": {
      "image/png": "[encoded data removed]",
      "text/plain": [
       "<matplotlib.figure.Figure at 0x104258950>"
      ]
     },
     "metadata": {},
     "output_type": "display_data"
    }
   ],
   "source": [
    "decision_times=[0, 15, 45, 85, 185, 285, 385]\n",
    "price_stat_ave= get_price_stat_ave(data,decision_times)\n",
    "price_stat_ave_base =get_price_stat_ave(data_base,decision_times)\n",
    "\n",
    "list_min,list_max = get_90_quantile(price_stat_ave)\n",
    "plt.figure()\n",
    "plt.plot(decision_times[:-1],list_min, 'r--')\n",
    "plt.plot(decision_times[:-1],list_max,'r--')\n",
    "plt.plot(decision_times[:-1],price_stat_ave_base[0,:],'b')\n",
    "plt.title('Sensitivity Analysis for Variable a650', size ='xx-large')\n",
    "plt.ylabel('Price in $', size = 'x-large')\n",
    "plt.xlabel('Period Index', size = 'x-large')\n",
    "plt.savefig('sensitivity_analysis_a650')\n",
    "#plt.xlim(decision_times)"
   ]
  },
  {
   "cell_type": "code",
   "execution_count": null,
   "metadata": {
    "collapsed": true
   },
   "outputs": [],
   "source": [
    "price_stat_ave_base"
   ]
  },
  {
   "cell_type": "code",
   "execution_count": null,
   "metadata": {
    "collapsed": true
   },
   "outputs": [],
   "source": [
    "!pip install numpy"
   ]
  },
  {
   "cell_type": "code",
   "execution_count": null,
   "metadata": {
    "collapsed": true
   },
   "outputs": [],
   "source": [
    "# -*- coding: utf-8 -*-\n",
    "\"\"\"\n",
    "Created on Tue Jun 20 10:26:46 2017\n",
    "\n",
    "@author: matlabyy\n",
    "\"\"\"\n",
    "\n",
    "# -*- coding: utf-8 -*-\n",
    "\"\"\"\n",
    "Created on Fri Jun 16 15:16:44 2017\n",
    "\n",
    "@author: Ted Yang\n",
    "\"\"\"\n",
    "\n",
    "import datetime as dt\n",
    "from tree import TreeModel\n",
    "from bau import DLWBusinessAsUsual\n",
    "from cost import DLWCost\n",
    "from damage_Yili import DLWDamage\n",
    "from utility import EZUtility\n",
    "from optimization import GeneticAlgorithm, GradientSearch\n",
    "import numpy as np\n",
    "import pickle\n",
    "def base_case(change):\n",
    "    time_list =list()\n",
    "    print('Start',dt.datetime.time(dt.datetime.now()))\n",
    "    time_list.append(dt.datetime.time(dt.datetime.now()))\n",
    "    t = TreeModel(decision_times=[0, 15, 45, 85, 185, 285, 385])\n",
    "    print('End tree',dt.datetime.time(dt.datetime.now()))\n",
    "    time_list.append(dt.datetime.time(dt.datetime.now()))\n",
    "    bau_default_model = DLWBusinessAsUsual()\n",
    "    bau_default_model.bau_emissions_setup(tree=t)\n",
    "    print('End bau',dt.datetime.time(dt.datetime.now()))\n",
    "    time_list.append(dt.datetime.time(dt.datetime.now()))\n",
    "    c = DLWCost(t, bau_default_model.emit_level[0], g=92.08, a=3.413, join_price=2000.0, max_price=2500.0,\n",
    "\t\t\t\t\ttech_const=1.5, tech_scale=0.0, cons_at_0=30460.0)\n",
    "    print('End cost',dt.datetime.time(dt.datetime.now()))\n",
    "    time_list.append(dt.datetime.time(dt.datetime.now()))\n",
    "    df = DLWDamage(tree=t, bau=bau_default_model, cons_growth=0.015, ghg_levels=[450, 650, 1000], subinterval_len=5,change=change)    \n",
    "    df.damage_simulation( draws=4, peak_temp=6.0, disaster_tail=18.0, tip_on=True, \n",
    "\t\t\t\t\t\t\t temp_map=0, temp_dist_params=None, maxh=100.0)\n",
    "    print('End damage',dt.datetime.time(dt.datetime.now()))\n",
    "    time_list.append(dt.datetime.time(dt.datetime.now()))\n",
    "    u = EZUtility(tree=t, damage=df, cost=c, period_len=5.0, eis=0.9, ra=7.0, time_pref=0.005)\n",
    "    print('End utility',dt.datetime.time(dt.datetime.now()))\n",
    "    time_list.append(dt.datetime.time(dt.datetime.now()))\n",
    "    ga_model = GeneticAlgorithm(pop_amount=150, num_generations=1, cx_prob=0.8, mut_prob=0.5, \n",
    "\t                            bound=1.5, num_feature=63, utility=u, print_progress=True) \n",
    "    gs_model = GradientSearch(var_nums=63, utility=u, accuracy=1e-8, \n",
    "\t                          iterations=1, print_progress=True)\n",
    "    final_pop, fitness = ga_model.run()\n",
    "    sort_pop = final_pop[np.argsort(fitness)][::-1]\n",
    "    m_opt, u_opt = gs_model.run(initial_point_list=sort_pop, topk=1)\n",
    "\n",
    "    print(\"SCC: \", c.price(0, m_opt[0], 0))\n",
    "    print('End opt/End',dt.datetime.time(dt.datetime.now()))\n",
    "    time_list.append(dt.datetime.time(dt.datetime.now()))\n",
    "    result_time_list =[0]\n",
    "    #change dt.time to dt.timedelta so that it can be added or minused\n",
    "    temp_list =list()\n",
    "    for x in time_list:\n",
    "        temp_list.append( dt.timedelta(hours=x.hour, minutes=x.minute, seconds=x.second, microseconds=x.microsecond))\n",
    "    for i in range(len(temp_list)-1):\n",
    "        i+=1\n",
    "        result_time_list.append((temp_list[i]-temp_list[i-1]).total_seconds())\n",
    "    price_list = list()\n",
    "    for decision_time in range(len(t.decision_times)-1):\n",
    "    \tstart_node,end_node = t.get_nodes_in_period(decision_time)\n",
    "    \taverage_mit = df.average_mitigation(m_opt,decision_time)\n",
    "    \tfor index in range(end_node-start_node+1):\n",
    "    \t\tindex_ori =index + start_node\n",
    "    \t\tprice_list.append(c.price(t.decision_times[decision_time],m_opt[index_ori],average_mit[index]))\n",
    "    return result_time_list,df.parameter_list, m_opt,u_opt,price_list\n",
    "if __name__ == \"__main__\":\n",
    "    \n",
    "    result_list = list()\n",
    "    for change in range(9):\n",
    "        count =0\n",
    "        while count <10:\n",
    "\t        x= base_case(change)\n",
    "\t        result_list.append(x)\n",
    "\t        count +=1\n",
    "    with open('sensitive_analysis_9t30.pkl','wb') as f:\n",
    "        pickle.dump(result_list,f)\n",
    "#    with open('sensitive_analysis_100.pkl','rb') as inputs:\n",
    "#        re = pickle.load(inputs)\n",
    "#    print(re)"
   ]
  },
  {
   "cell_type": "code",
   "execution_count": null,
   "metadata": {
    "collapsed": true
   },
   "outputs": [],
   "source": []
  }
 ],
 "metadata": {
  "kernelspec": {
   "display_name": "Python 2",
   "language": "python",
   "name": "python2"
  },
  "language_info": {
   "codemirror_mode": {
    "name": "ipython",
    "version": 2
   },
   "file_extension": ".py",
   "mimetype": "text/x-python",
   "name": "python",
   "nbconvert_exporter": "python",
   "pygments_lexer": "ipython2",
   "version": "2.7.13"
  }
 },
 "nbformat": 4,
 "nbformat_minor": 2
}
