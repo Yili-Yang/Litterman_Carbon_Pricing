{
 "cells": [
  {
   "cell_type": "code",
   "execution_count": 3,
   "metadata": {
    "collapsed": false
   },
   "outputs": [],
   "source": [
    "import matplotlib.pyplot as plt\n",
    "\n",
    "import pickle\n",
    "import numpy as np"
   ]
  },
  {
   "cell_type": "code",
   "execution_count": 4,
   "metadata": {
    "collapsed": false
   },
   "outputs": [],
   "source": [
    "with open('sensitive_analysis_2G_26.pkl','r') as inputs:\n",
    "    data = pickle.load(inputs)\n",
    "with open('sensitive_analysis_2G_36.pkl','r') as inputs:\n",
    "    data.extend(pickle.load(inputs))\n",
    "with open('sensitive_analysis_2G_39.pkl','r') as inputs:\n",
    "    data.extend(pickle.load(inputs))\n",
    "#with open('sensitive_analysis_1G_49.pkl','r') as inputs:\n",
    "#    data.extend(pickle.load(inputs))\n",
    "\n",
    "with open('sensitive_analysis_base_renewal.pkl','r') as inputsbase:\n",
    "    data_base = pickle.load(inputsbase)"
   ]
  },
  {
   "cell_type": "code",
   "execution_count": 11,
   "metadata": {
    "collapsed": true
   },
   "outputs": [],
   "source": [
    "def get_price_stat_ave(data,decision_times): #period average for each sample\n",
    "    mitigation = []\n",
    "    utility = []\n",
    "    price = []\n",
    "    a650 = []\n",
    "    from tree import TreeModel \n",
    "    for i in range(len(data)): #load corresponding results\n",
    "        mitigation.append(data[i][2])\n",
    "        utility.append(data[i][3])\n",
    "        price.append(data[i][4])\n",
    "        a650.append(data[i][1][0][1])\n",
    "    print(np.mean(a650))\n",
    "    \n",
    "    t = TreeModel(decision_times)\n",
    "    nodes_index = []\n",
    "    for i in range(t.num_periods):\n",
    "        nodes_index.append(t.get_nodes_in_period(i)) #get nodes for slicing\n",
    "    price_stat_ave = np.zeros((len(data), t.num_periods))\n",
    "    for i in range(len(data)):\n",
    "        for j in range(t.num_periods):\n",
    "            price_stat_ave[i,j] = np.average(data[i][4][nodes_index[j][0]:nodes_index[j][1]+1])\n",
    "    return price_stat_ave\n",
    "\n",
    "def get_90_quantile(price_stat_ave):\n",
    "    list0 = price_stat_ave[:,0]\n",
    "    list1 = price_stat_ave[:,1]\n",
    "    list2 = price_stat_ave[:,2]\n",
    "    list3 = price_stat_ave[:,3]\n",
    "    list4 = price_stat_ave[:,4]\n",
    "    list5 = price_stat_ave[:,5]\n",
    "    list_ = [list0,list1,list2,list3,list4,list5]\n",
    "    fivepercent = int(len(list0)*0.05)\n",
    "    for i in range(len(list_)):\n",
    "        list_[i]=np.sort(list_[i])[fivepercent:-fivepercent] #take the 90% of the sorted results\n",
    "    list_min = []\n",
    "    list_max = []\n",
    "    for i in list_:\n",
    "        list_min.append(i[0])\n",
    "        list_max.append(i[-1])   \n",
    "    return list_min,list_max #take the lower and upper bounds for the test results"
   ]
  },
  {
   "cell_type": "code",
   "execution_count": 12,
   "metadata": {
    "collapsed": false
   },
   "outputs": [
    {
     "ename": "TypeError",
     "evalue": "'DLWCost' object does not support indexing",
     "output_type": "error",
     "traceback": [
      "\u001b[1;31m---------------------------------------------------------------------------\u001b[0m",
      "\u001b[1;31mTypeError\u001b[0m                                 Traceback (most recent call last)",
      "\u001b[1;32m<ipython-input-12-1a893f07448c>\u001b[0m in \u001b[0;36m<module>\u001b[1;34m()\u001b[0m\n\u001b[0;32m      1\u001b[0m \u001b[0mdecision_times\u001b[0m\u001b[1;33m=\u001b[0m\u001b[1;33m[\u001b[0m\u001b[1;36m0\u001b[0m\u001b[1;33m,\u001b[0m \u001b[1;36m15\u001b[0m\u001b[1;33m,\u001b[0m \u001b[1;36m45\u001b[0m\u001b[1;33m,\u001b[0m \u001b[1;36m85\u001b[0m\u001b[1;33m,\u001b[0m \u001b[1;36m185\u001b[0m\u001b[1;33m,\u001b[0m \u001b[1;36m285\u001b[0m\u001b[1;33m,\u001b[0m \u001b[1;36m385\u001b[0m\u001b[1;33m]\u001b[0m\u001b[1;33m\u001b[0m\u001b[0m\n\u001b[1;32m----> 2\u001b[1;33m \u001b[0mprice_stat_ave\u001b[0m\u001b[1;33m=\u001b[0m \u001b[0mget_price_stat_ave\u001b[0m\u001b[1;33m(\u001b[0m\u001b[0mdata\u001b[0m\u001b[1;33m,\u001b[0m\u001b[0mdecision_times\u001b[0m\u001b[1;33m)\u001b[0m\u001b[1;33m\u001b[0m\u001b[0m\n\u001b[0m\u001b[0;32m      3\u001b[0m \u001b[0mprice_stat_ave_base\u001b[0m \u001b[1;33m=\u001b[0m\u001b[0mget_price_stat_ave_B\u001b[0m\u001b[1;33m(\u001b[0m\u001b[0mdata_base\u001b[0m\u001b[1;33m,\u001b[0m\u001b[0mdecision_times\u001b[0m\u001b[1;33m)\u001b[0m\u001b[1;33m\u001b[0m\u001b[0m\n\u001b[0;32m      4\u001b[0m \u001b[1;33m\u001b[0m\u001b[0m\n\u001b[0;32m      5\u001b[0m \u001b[0mlist_min\u001b[0m\u001b[1;33m,\u001b[0m\u001b[0mlist_max\u001b[0m \u001b[1;33m=\u001b[0m \u001b[0mget_90_quantile\u001b[0m\u001b[1;33m(\u001b[0m\u001b[0mprice_stat_ave\u001b[0m\u001b[1;33m)\u001b[0m\u001b[1;33m\u001b[0m\u001b[0m\n",
      "\u001b[1;32m<ipython-input-11-9ad6d2c763f5>\u001b[0m in \u001b[0;36mget_price_stat_ave\u001b[1;34m(data, decision_times)\u001b[0m\n\u001b[0;32m      9\u001b[0m         \u001b[0mutility\u001b[0m\u001b[1;33m.\u001b[0m\u001b[0mappend\u001b[0m\u001b[1;33m(\u001b[0m\u001b[0mdata\u001b[0m\u001b[1;33m[\u001b[0m\u001b[0mi\u001b[0m\u001b[1;33m]\u001b[0m\u001b[1;33m[\u001b[0m\u001b[1;36m3\u001b[0m\u001b[1;33m]\u001b[0m\u001b[1;33m)\u001b[0m\u001b[1;33m\u001b[0m\u001b[0m\n\u001b[0;32m     10\u001b[0m         \u001b[0mprice\u001b[0m\u001b[1;33m.\u001b[0m\u001b[0mappend\u001b[0m\u001b[1;33m(\u001b[0m\u001b[0mdata\u001b[0m\u001b[1;33m[\u001b[0m\u001b[0mi\u001b[0m\u001b[1;33m]\u001b[0m\u001b[1;33m[\u001b[0m\u001b[1;36m4\u001b[0m\u001b[1;33m]\u001b[0m\u001b[1;33m)\u001b[0m\u001b[1;33m\u001b[0m\u001b[0m\n\u001b[1;32m---> 11\u001b[1;33m         \u001b[0ma650\u001b[0m\u001b[1;33m.\u001b[0m\u001b[0mappend\u001b[0m\u001b[1;33m(\u001b[0m\u001b[0mdata\u001b[0m\u001b[1;33m[\u001b[0m\u001b[0mi\u001b[0m\u001b[1;33m]\u001b[0m\u001b[1;33m[\u001b[0m\u001b[1;36m1\u001b[0m\u001b[1;33m]\u001b[0m\u001b[1;33m[\u001b[0m\u001b[1;36m0\u001b[0m\u001b[1;33m]\u001b[0m\u001b[1;33m[\u001b[0m\u001b[1;36m1\u001b[0m\u001b[1;33m]\u001b[0m\u001b[1;33m)\u001b[0m\u001b[1;33m\u001b[0m\u001b[0m\n\u001b[0m\u001b[0;32m     12\u001b[0m     \u001b[1;32mprint\u001b[0m\u001b[1;33m(\u001b[0m\u001b[0mnp\u001b[0m\u001b[1;33m.\u001b[0m\u001b[0mmean\u001b[0m\u001b[1;33m(\u001b[0m\u001b[0ma650\u001b[0m\u001b[1;33m)\u001b[0m\u001b[1;33m)\u001b[0m\u001b[1;33m\u001b[0m\u001b[0m\n\u001b[0;32m     13\u001b[0m \u001b[1;33m\u001b[0m\u001b[0m\n",
      "\u001b[1;31mTypeError\u001b[0m: 'DLWCost' object does not support indexing"
     ]
    }
   ],
   "source": [
    "decision_times=[0, 15, 45, 85, 185, 285, 385]\n",
    "price_stat_ave= get_price_stat_ave(data,decision_times)\n",
    "price_stat_ave_base =get_price_stat_ave_B(data_base,decision_times)\n",
    "\n",
    "list_min,list_max = get_90_quantile(price_stat_ave)\n",
    "plt.figure()\n",
    "plt.plot(decision_times[:-1],list_min, 'r--')\n",
    "plt.plot(decision_times[:-1],list_max,'r--')\n",
    "plt.plot(decision_times[:-1],price_stat_ave_base[0,:],'b')\n",
    "plt.title('Sensitivity Analysis for Variable a650', size ='xx-large')\n",
    "plt.ylabel('Price in $', size = 'x-large')\n",
    "plt.xlabel('Period Index', size = 'x-large')\n",
    "plt.savefig('sensitivity_analysis_a650')\n",
    "#plt.xlim(decision_times)"
   ]
  },
  {
   "cell_type": "code",
   "execution_count": 13,
   "metadata": {
    "collapsed": true
   },
   "outputs": [],
   "source": [
    "def get_price_stat_ave_G(data,decision_times): #period average for each sample\n",
    "    mitigation = []\n",
    "    utility = []\n",
    "    price = []\n",
    "    a650 = []\n",
    "    from tree import TreeModel \n",
    "    for i in range(len(data)): #load corresponding results\n",
    "        mitigation.append(data[i][3])\n",
    "        utility.append(data[i][4])\n",
    "        price.append(data[i][5])\n",
    "        #a650.append(data[i][2])\n",
    "    #print(np.mean(a650))\n",
    "    \n",
    "    t = TreeModel(decision_times)\n",
    "    nodes_index = []\n",
    "    for i in range(t.num_periods):\n",
    "        nodes_index.append(t.get_nodes_in_period(i)) #get nodes for slicing\n",
    "    price_stat_ave = np.zeros((len(data), t.num_periods))\n",
    "    for i in range(len(data)):\n",
    "        for j in range(t.num_periods):\n",
    "            price_stat_ave[i,j] = np.average(data[i][5][nodes_index[j][0]:nodes_index[j][1]+1])\n",
    "    return price_stat_ave\n"
   ]
  },
  {
   "cell_type": "code",
   "execution_count": 14,
   "metadata": {
    "collapsed": true
   },
   "outputs": [],
   "source": [
    "def get_price_stat_ave_B(data,decision_times): #period average for each sample\n",
    "    mitigation = []\n",
    "    utility = []\n",
    "    price = []\n",
    "    a650 = []\n",
    "    from tree import TreeModel \n",
    "    for i in range(len(data)): #load corresponding results\n",
    "        mitigation.append(data[i][-3])\n",
    "        utility.append(data[i][-2])\n",
    "        price.append(data[i][-1])\n",
    "        #a650.append(data[i][2])\n",
    "    #print(np.mean(a650))\n",
    "    \n",
    "    t = TreeModel(decision_times)\n",
    "    nodes_index = []\n",
    "    for i in range(t.num_periods):\n",
    "        nodes_index.append(t.get_nodes_in_period(i)) #get nodes for slicing\n",
    "    price_stat_ave = np.zeros((len(data), t.num_periods))\n",
    "    for i in range(len(data)):\n",
    "        for j in range(t.num_periods):\n",
    "            price_stat_ave[i,j] = np.average(data[i][-1][nodes_index[j][0]:nodes_index[j][1]+1])\n",
    "    return price_stat_ave\n"
   ]
  },
  {
   "cell_type": "code",
   "execution_count": 17,
   "metadata": {
    "collapsed": false
   },
   "outputs": [],
   "source": [
    "decision_times=[0, 15, 45, 85, 185, 285, 385]\n",
    "price_stat_ave= get_price_stat_ave_G(data,decision_times)\n",
    "price_stat_ave_base =get_price_stat_ave_B(data_base,decision_times)\n",
    "\n",
    "list_min,list_max = get_90_quantile(price_stat_ave)\n",
    "plt.figure()\n",
    "plt.plot(decision_times[:-1],list_min, 'r--')\n",
    "plt.plot(decision_times[:-1],list_max,'r--')\n",
    "plt.plot(decision_times[:-1],price_stat_ave_base[0,:],'b')\n",
    "plt.title('Sensitivity Analysis for Variable x100', size ='xx-large')\n",
    "plt.ylabel('Price in $', size = 'x-large')\n",
    "plt.xlabel('Period Index', size = 'x-large')\n",
    "plt.show\n",
    "plt.savefig('sensitivity_analysis_x100')\n",
    "#plt.xlim(decision_times)"
   ]
  },
  {
   "cell_type": "code",
   "execution_count": 18,
   "metadata": {
    "collapsed": false
   },
   "outputs": [
    {
     "data": {
      "image/png": "[encoded data removed]",
      "text/plain": [
       "<matplotlib.figure.Figure at 0x747f978>"
      ]
     },
     "metadata": {},
     "output_type": "display_data"
    }
   ],
   "source": [
    "plt.show()"
   ]
  },
  {
   "cell_type": "code",
   "execution_count": null,
   "metadata": {
    "collapsed": true
   },
   "outputs": [],
   "source": []
  }
 ],
 "metadata": {
  "kernelspec": {
   "display_name": "python2.7",
   "language": "python",
   "name": "python2.7"
  },
  "language_info": {
   "codemirror_mode": {
    "name": "ipython",
    "version": 2
   },
   "file_extension": ".py",
   "mimetype": "text/x-python",
   "name": "python",
   "nbconvert_exporter": "python",
   "pygments_lexer": "ipython2",
   "version": "2.7.13"
  }
 },
 "nbformat": 4,
 "nbformat_minor": 2
}
