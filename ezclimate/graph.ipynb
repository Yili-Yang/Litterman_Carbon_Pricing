{
 "cells": [
  {
   "cell_type": "code",
   "execution_count": 16,
   "metadata": {
    "collapsed": false
   },
   "outputs": [],
   "source": [
    "import matplotlib.pyplot as plt\n",
    "\n",
    "import pickle\n",
    "import numpy as np"
   ]
  },
  {
   "cell_type": "code",
   "execution_count": 20,
   "metadata": {
    "collapsed": false
   },
   "outputs": [],
   "source": [
    "with open('sensitive_analysis_2G_100.pkl','r') as inputs:\n",
    "    data = pickle.load(inputs)\n",
    "\n",
    "with open('sensitive_analysis_base_renewal.pkl','r') as inputsbase:\n",
    "    data_base = pickle.load(inputsbase)"
   ]
  },
  {
   "cell_type": "code",
   "execution_count": 21,
   "metadata": {
    "collapsed": true
   },
   "outputs": [],
   "source": [
    "def get_price_stat_ave(data,decision_times): #period average for each sample\n",
    "    mitigation = []\n",
    "    utility = []\n",
    "    price = []\n",
    "    a650 = []\n",
    "    from tree import TreeModel \n",
    "    for i in range(len(data)): #load corresponding results\n",
    "        mitigation.append(data[i][-3])\n",
    "        utility.append(data[i][-2])\n",
    "        price.append(data[i][-1])\n",
    "        #a650.append(data[i][2])\n",
    "    #print(np.mean(a650))\n",
    "    \n",
    "    t = TreeModel(decision_times)\n",
    "    nodes_index = []\n",
    "    for i in range(t.num_periods):\n",
    "        nodes_index.append(t.get_nodes_in_period(i)) #get nodes for slicing\n",
    "    price_stat_ave = np.zeros((len(data), t.num_periods))\n",
    "    for i in range(len(data)):\n",
    "        for j in range(t.num_periods):\n",
    "            price_stat_ave[i,j] = np.average(data[i][-1][nodes_index[j][0]:nodes_index[j][1]+1])\n",
    "    return price_stat_ave\n",
    "\n",
    "def get_90_quantile(price_stat_ave):\n",
    "    list0 = price_stat_ave[:,0]\n",
    "    list1 = price_stat_ave[:,1]\n",
    "    list2 = price_stat_ave[:,2]\n",
    "    list3 = price_stat_ave[:,3]\n",
    "    list4 = price_stat_ave[:,4]\n",
    "    list5 = price_stat_ave[:,5]\n",
    "    list_ = [list0,list1,list2,list3,list4,list5]\n",
    "    fivepercent = int(len(list0)*0.05)\n",
    "    for i in range(len(list_)):\n",
    "        list_[i]=np.sort(list_[i])[fivepercent:-fivepercent] #take the 90% of the sorted results\n",
    "    list_min = []\n",
    "    list_max = []\n",
    "    for i in list_:\n",
    "        list_min.append(i[0])\n",
    "        list_max.append(i[-1])   \n",
    "    return list_min,list_max #take the lower and upper bounds for the test results"
   ]
  },
  {
   "cell_type": "code",
   "execution_count": 22,
   "metadata": {
    "collapsed": false
   },
   "outputs": [],
   "source": [
    "decision_times=[0, 15, 45, 85, 185, 285, 385]\n",
    "price_stat_ave= get_price_stat_ave(data,decision_times)\n",
    "price_stat_ave_base =get_price_stat_ave(data_base,decision_times)\n",
    "\n",
    "list_min,list_max = get_90_quantile(price_stat_ave)\n",
    "plt.figure()\n",
    "plt.plot(decision_times[:-1],list_min, 'r--')\n",
    "plt.plot(decision_times[:-1],list_max,'r--')\n",
    "plt.plot(decision_times[:-1],price_stat_ave_base[0,:],'b')\n",
    "plt.title('Sensitivity Analysis for Variable x60', size ='xx-large')\n",
    "plt.ylabel('Price in $', size = 'x-large')\n",
    "plt.xlabel('Period Index', size = 'x-large')\n",
    "plt.savefig('sensitivity_analysis_x60')\n",
    "#plt.xlim(decision_times)"
   ]
  },
  {
   "cell_type": "code",
   "execution_count": null,
   "metadata": {
    "collapsed": true
   },
   "outputs": [],
   "source": []
  },
  {
   "cell_type": "code",
   "execution_count": null,
   "metadata": {
    "collapsed": true
   },
   "outputs": [],
   "source": []
  }
 ],
 "metadata": {
  "kernelspec": {
   "display_name": "python2.7",
   "language": "python",
   "name": "python2.7"
  },
  "language_info": {
   "codemirror_mode": {
    "name": "ipython",
    "version": 2
   },
   "file_extension": ".py",
   "mimetype": "text/x-python",
   "name": "python",
   "nbconvert_exporter": "python",
   "pygments_lexer": "ipython2",
   "version": "2.7.13"
  }
 },
 "nbformat": 4,
 "nbformat_minor": 2
}
