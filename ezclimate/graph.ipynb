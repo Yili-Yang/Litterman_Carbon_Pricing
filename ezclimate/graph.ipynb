{
 "cells": [
  {
   "cell_type": "code",
   "execution_count": 2,
   "metadata": {
    "collapsed": false
   },
   "outputs": [],
   "source": [
    "import matplotlib.pyplot as plt\n",
    "\n",
    "import pickle\n",
    "import numpy as np"
   ]
  },
  {
   "cell_type": "code",
   "execution_count": 3,
   "metadata": {
    "collapsed": false
   },
   "outputs": [],
   "source": [
    "with open('sensitive_analysis_2G_100.pkl','r') as inputs:\n",
    "    data = pickle.load(inputs)\n",
    "\n",
    "with open('sensitive_analysis_base_renewal.pkl','r') as inputsbase:\n",
    "    data_base = pickle.load(inputsbase)"
   ]
  },
  {
   "cell_type": "code",
   "execution_count": 4,
   "metadata": {
    "collapsed": false
   },
   "outputs": [
    {
     "data": {
      "text/plain": [
       "[([0, 0.0, 0.016, 0.0, 20.596, 0.0, 467.399],\n",
       "  array([ 0.83008905,  0.9817648 ,  0.84516012,  1.27475337,  1.0244052 ,\n",
       "          1.03909195,  0.90698106,  1.12186177,  1.09019655,  1.18141355,\n",
       "          1.13557453,  1.20591082,  1.16437795,  1.20458391,  0.92221481,\n",
       "          1.02384782,  0.98053089,  1.02204561,  0.98350538,  1.03463193,\n",
       "          0.99621408,  1.04990327,  1.01224988,  1.03877083,  1.0030059 ,\n",
       "          1.05309382,  1.01533787,  1.0672604 ,  1.031859  ,  1.31708905,\n",
       "          1.20937849,  0.93862589,  0.92277154,  0.95910073,  0.93632036,\n",
       "          0.95944327,  0.93563764,  0.97310095,  0.94753735,  0.9559655 ,\n",
       "          0.9310757 ,  0.9718174 ,  0.95279428,  0.96421669,  0.94645136,\n",
       "          0.98412578,  0.88442933,  0.95401891,  0.92983628,  0.96817022,\n",
       "          0.94927958,  0.96347038,  0.94350084,  0.98101486,  0.88842749,\n",
       "          0.96121446,  0.94017485,  0.97685718,  0.8919154 ,  0.99293843,\n",
       "          0.97050499,  1.08664179,  0.14972177]),\n",
       "  9.4915710578994563,\n",
       "  [200.51619871763413,\n",
       "   239.63985855619046,\n",
       "   166.93555622468753,\n",
       "   285.97319029572753,\n",
       "   168.73312873083853,\n",
       "   174.62966677687388,\n",
       "   125.78141418345473,\n",
       "   114.78492138179016,\n",
       "   107.12239715188718,\n",
       "   130.04303395829857,\n",
       "   118.19974531588639,\n",
       "   136.64531645112658,\n",
       "   125.56423306997331,\n",
       "   136.28278946588932,\n",
       "   71.535403085458356,\n",
       "   20.309642835839234,\n",
       "   18.297860394017626,\n",
       "   20.223485882581897,\n",
       "   18.432086917431747,\n",
       "   20.829678134486247,\n",
       "   19.012062910432611,\n",
       "   21.579305833053326,\n",
       "   19.75893545796443,\n",
       "   21.031313007636015,\n",
       "   19.326337180258765,\n",
       "   21.737883998612958,\n",
       "   19.904697453535711,\n",
       "   22.45022557755939,\n",
       "   20.695225176714665,\n",
       "   37.29370878190371,\n",
       "   30.354768802430751,\n",
       "   3.6328859005527061,\n",
       "   3.4865795490431344,\n",
       "   3.8270634107962866,\n",
       "   3.6113911479319949,\n",
       "   3.8303623875782149,\n",
       "   3.6050403559437871,\n",
       "   3.9632575641322929,\n",
       "   3.7166721312151441,\n",
       "   3.796945535939142,\n",
       "   3.5627723941090546,\n",
       "   3.9506549611157,\n",
       "   3.7666235771531063,\n",
       "   3.8765082339164088,\n",
       "   3.7064017255788357,\n",
       "   4.072474821967659,\n",
       "   3.1472079767515933,\n",
       "   3.778316101130923,\n",
       "   3.5513391191698647,\n",
       "   3.9149731960302923,\n",
       "   3.7331835484649973,\n",
       "   3.8692721267175165,\n",
       "   3.6785820264527911,\n",
       "   4.0414803868627489,\n",
       "   3.1816481744003933,\n",
       "   3.8474471196522826,\n",
       "   3.6473691247093938,\n",
       "   4.0002733216364526,\n",
       "   3.211872477486772,\n",
       "   4.1610299920484142,\n",
       "   3.9377933074981843,\n",
       "   5.1725391335680149,\n",
       "   0.043310168874878117])]"
      ]
     },
     "execution_count": 4,
     "metadata": {},
     "output_type": "execute_result"
    }
   ],
   "source": [
    "data_base"
   ]
  },
  {
   "cell_type": "code",
   "execution_count": 21,
   "metadata": {
    "collapsed": true
   },
   "outputs": [],
   "source": [
    "def get_price_stat_ave(data,decision_times): #period average for each sample\n",
    "    mitigation = []\n",
    "    utility = []\n",
    "    price = []\n",
    "    a650 = []\n",
    "    from tree import TreeModel \n",
    "    for i in range(len(data)): #load corresponding results\n",
    "        mitigation.append(data[i][-3])\n",
    "        utility.append(data[i][-2])\n",
    "        price.append(data[i][-1])\n",
    "        #a650.append(data[i][2])\n",
    "    #print(np.mean(a650))\n",
    "    \n",
    "    t = TreeModel(decision_times)\n",
    "    nodes_index = []\n",
    "    for i in range(t.num_periods):\n",
    "        nodes_index.append(t.get_nodes_in_period(i)) #get nodes for slicing\n",
    "    price_stat_ave = np.zeros((len(data), t.num_periods))\n",
    "    for i in range(len(data)):\n",
    "        for j in range(t.num_periods):\n",
    "            price_stat_ave[i,j] = np.average(data[i][-1][nodes_index[j][0]:nodes_index[j][1]+1])\n",
    "    return price_stat_ave\n",
    "\n",
    "def get_90_quantile(price_stat_ave):\n",
    "    list0 = price_stat_ave[:,0]\n",
    "    list1 = price_stat_ave[:,1]\n",
    "    list2 = price_stat_ave[:,2]\n",
    "    list3 = price_stat_ave[:,3]\n",
    "    list4 = price_stat_ave[:,4]\n",
    "    list5 = price_stat_ave[:,5]\n",
    "    list_ = [list0,list1,list2,list3,list4,list5]\n",
    "    fivepercent = int(len(list0)*0.05)\n",
    "    for i in range(len(list_)):\n",
    "        list_[i]=np.sort(list_[i])[fivepercent:-fivepercent] #take the 90% of the sorted results\n",
    "    list_min = []\n",
    "    list_max = []\n",
    "    for i in list_:\n",
    "        list_min.append(i[0])\n",
    "        list_max.append(i[-1])   \n",
    "    return list_min,list_max #take the lower and upper bounds for the test results"
   ]
  },
  {
   "cell_type": "code",
   "execution_count": 22,
   "metadata": {
    "collapsed": false
   },
   "outputs": [],
   "source": [
    "decision_times=[0, 15, 45, 85, 185, 285, 385]\n",
    "price_stat_ave= get_price_stat_ave(data,decision_times)\n",
    "price_stat_ave_base =get_price_stat_ave(data_base,decision_times)\n",
    "\n",
    "list_min,list_max = get_90_quantile(price_stat_ave)\n",
    "plt.figure()\n",
    "plt.plot(decision_times[:-1],list_min, 'r--')\n",
    "plt.plot(decision_times[:-1],list_max,'r--')\n",
    "plt.plot(decision_times[:-1],price_stat_ave_base[0,:],'b')\n",
    "plt.title('Sensitivity Analysis for Variable x60', size ='xx-large')\n",
    "plt.ylabel('Price in $', size = 'x-large')\n",
    "plt.xlabel('Period Index', size = 'x-large')\n",
    "plt.savefig('sensitivity_analysis_x60')\n",
    "#plt.xlim(decision_times)"
   ]
  },
  {
   "cell_type": "code",
   "execution_count": null,
   "metadata": {
    "collapsed": true
   },
   "outputs": [],
   "source": []
  },
  {
   "cell_type": "code",
   "execution_count": null,
   "metadata": {
    "collapsed": true
   },
   "outputs": [],
   "source": []
  }
 ],
 "metadata": {
  "kernelspec": {
   "display_name": "python2.7",
   "language": "python",
   "name": "python2.7"
  },
  "language_info": {
   "codemirror_mode": {
    "name": "ipython",
    "version": 2
   },
   "file_extension": ".py",
   "mimetype": "text/x-python",
   "name": "python",
   "nbconvert_exporter": "python",
   "pygments_lexer": "ipython2",
   "version": "2.7.13"
  }
 },
 "nbformat": 4,
 "nbformat_minor": 2
}
