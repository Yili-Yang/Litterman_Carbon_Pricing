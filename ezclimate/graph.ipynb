{
 "cells": [
  {
   "cell_type": "code",
   "execution_count": 1,
   "metadata": {},
   "outputs": [],
   "source": [
    "import matplotlib.pyplot as plt\n",
    "\n",
    "import pickle\n",
    "import numpy as np"
   ]
  },
  {
   "cell_type": "code",
   "execution_count": 2,
   "metadata": {},
   "outputs": [],
   "source": [
    "with open('sensitive_analysis_1G_156.pkl','r') as inputs:\n",
    "    data = pickle.load(inputs)\n",
    "\n",
    "with open('sensitive_analysis_base_renewal.pkl','r') as inputsbase:\n",
    "    data_base = pickle.load(inputsbase)"
   ]
  },
  {
   "cell_type": "code",
   "execution_count": 3,
   "metadata": {},
   "outputs": [
    {
     "data": {
      "text/plain": [
       "([0, 0.001, 0.0, 0.0, 21.235, 0.015, 470.861],\n",
       " [3.195730480746087, 90.173123343088406],\n",
       " array([ 0.83750608,  0.99590746,  0.85115216,  1.30087807,  1.04443115,\n",
       "         1.0609384 ,  0.91598331,  1.10271588,  1.06841931,  1.17414509,\n",
       "         1.13281731,  1.19492335,  1.16537992,  1.21470839,  0.94271651,\n",
       "         1.02174468,  0.98711478,  1.02818247,  0.99319115,  1.03055977,\n",
       "         0.99413768,  1.04106646,  1.00266508,  1.03326026,  1.0022196 ,\n",
       "         1.04146302,  1.0047189 ,  1.05573805,  1.02065009,  1.28923561,\n",
       "         1.10491688,  0.93844852,  0.9250454 ,  0.96059646,  0.93864905,\n",
       "         0.96124139,  0.93647136,  0.97657306,  0.94866476,  0.9554677 ,\n",
       "         0.9312207 ,  0.96902825,  0.95024592,  0.96384885,  0.94465159,\n",
       "         0.98728405,  0.87974312,  0.95617828,  0.93154356,  0.97072252,\n",
       "         0.94919196,  0.96180818,  0.93641961,  0.97601815,  0.88142749,\n",
       "         0.96317825,  0.94183476,  0.98444145,  0.89151623,  0.98996147,\n",
       "         0.96457301,  1.15613736,  0.04099412]),\n",
       " 9.515490025372916,\n",
       " [195.22808618787971,\n",
       "  227.64780178739551,\n",
       "  161.24907630674133,\n",
       "  260.06349681166893,\n",
       "  160.5881279585993,\n",
       "  166.21349647877904,\n",
       "  120.38735257931775,\n",
       "  98.84243288521084,\n",
       "  92.217964688422811,\n",
       "  113.4466218799742,\n",
       "  104.86336338339834,\n",
       "  117.90122545576652,\n",
       "  111.59546537279863,\n",
       "  122.22987086786055,\n",
       "  70.058527726916253,\n",
       "  18.443581634493981,\n",
       "  17.098839592384209,\n",
       "  18.699691947327583,\n",
       "  17.330789208141915,\n",
       "  18.794753231083263,\n",
       "  17.367073900164428,\n",
       "  19.218030065976329,\n",
       "  17.69582999245932,\n",
       "  18.903056131775251,\n",
       "  17.678572264375873,\n",
       "  19.234106703495947,\n",
       "  17.775512457845938,\n",
       "  19.817695137899605,\n",
       "  18.400227103653968,\n",
       "  30.731188647656982,\n",
       "  21.901195890283372,\n",
       "  3.3758280829333707,\n",
       "  3.270871406308709,\n",
       "  3.5532271512243141,\n",
       "  3.3774120902890696,\n",
       "  3.558467066395095,\n",
       "  3.3602318182931019,\n",
       "  3.6842726456421664,\n",
       "  3.4570427861351414,\n",
       "  3.5117067686409205,\n",
       "  3.3190045038555809,\n",
       "  3.6220655192200533,\n",
       "  3.4697062792867981,\n",
       "  3.5796949158582603,\n",
       "  3.4250143547152514,\n",
       "  3.7735767937562903,\n",
       "  2.9294326069054413,\n",
       "  3.5174434711782081,\n",
       "  3.3215314984605144,\n",
       "  3.6359846215936633,\n",
       "  3.4612623106008837,\n",
       "  3.5630755338015767,\n",
       "  3.3598241592818034,\n",
       "  3.679677763522883,\n",
       "  2.9417612792992447,\n",
       "  3.5742288211944429,\n",
       "  3.4026306956439192,\n",
       "  3.7497627137394054,\n",
       "  3.016196079982703,\n",
       "  3.7960821230881163,\n",
       "  3.5856026558289664,\n",
       "  5.3370347985224029,\n",
       "  0.0034917135346268302])"
      ]
     },
     "execution_count": 3,
     "metadata": {},
     "output_type": "execute_result"
    }
   ],
   "source": [
    "data[1]"
   ]
  },
  {
   "cell_type": "code",
   "execution_count": 14,
   "metadata": {
    "collapsed": true
   },
   "outputs": [],
   "source": [
    "def get_price_stat_ave(data,decision_times): #period average for each sample\n",
    "    mitigation = []\n",
    "    utility = []\n",
    "    price = []\n",
    "    a650 = []\n",
    "    from tree import TreeModel \n",
    "    for i in range(len(data)): #load corresponding results\n",
    "        mitigation.append(data[i][-3])\n",
    "        utility.append(data[i][-2])\n",
    "        price.append(data[i][-1])\n",
    "        #a650.append(data[i][2])\n",
    "    #print(np.mean(a650))\n",
    "    \n",
    "    t = TreeModel(decision_times)\n",
    "    nodes_index = []\n",
    "    for i in range(t.num_periods):\n",
    "        nodes_index.append(t.get_nodes_in_period(i)) #get nodes for slicing\n",
    "    price_stat_ave = np.zeros((len(data), t.num_periods))\n",
    "    for i in range(len(data)):\n",
    "        for j in range(t.num_periods):\n",
    "            price_stat_ave[i,j] = np.average(data[i][-1][nodes_index[j][0]:nodes_index[j][1]+1])\n",
    "    return price_stat_ave\n",
    "\n",
    "def get_90_quantile(price_stat_ave):\n",
    "    list0 = price_stat_ave[:,0]\n",
    "    list1 = price_stat_ave[:,1]\n",
    "    list2 = price_stat_ave[:,2]\n",
    "    list3 = price_stat_ave[:,3]\n",
    "    list4 = price_stat_ave[:,4]\n",
    "    list5 = price_stat_ave[:,5]\n",
    "    list_ = [list0,list1,list2,list3,list4,list5]\n",
    "    fivepercent = int(len(list0)*0.05)\n",
    "    for i in range(len(list_)):\n",
    "        list_[i]=np.sort(list_[i])[fivepercent:-fivepercent] #take the 90% of the sorted results\n",
    "    list_min = []\n",
    "    list_max = []\n",
    "    for i in list_:\n",
    "        list_min.append(i[0])\n",
    "        list_max.append(i[-1])   \n",
    "    return list_min,list_max #take the lower and upper bounds for the test results"
   ]
  },
  {
   "cell_type": "code",
   "execution_count": 15,
   "metadata": {},
   "outputs": [],
   "source": [
    "decision_times=[0, 15, 45, 85, 185, 285, 385]\n",
    "price_stat_ave= get_price_stat_ave(data,decision_times)\n",
    "price_stat_ave_base =get_price_stat_ave(data_base,decision_times)\n",
    "\n",
    "list_min,list_max = get_90_quantile(price_stat_ave)\n",
    "plt.figure()\n",
    "plt.plot(decision_times[:-1],list_min, 'r--')\n",
    "plt.plot(decision_times[:-1],list_max,'r--')\n",
    "plt.plot(decision_times[:-1],price_stat_ave_base[0,:],'b')\n",
    "plt.title('Sensitivity Analysis for Variable x60', size ='xx-large')\n",
    "plt.ylabel('Price in $', size = 'x-large')\n",
    "plt.xlabel('Period Index', size = 'x-large')\n",
    "plt.savefig('sensitivity_analysis_x60')\n",
    "#plt.xlim(decision_times)"
   ]
  },
  {
   "cell_type": "code",
   "execution_count": null,
   "metadata": {
    "collapsed": true
   },
   "outputs": [],
   "source": []
  }
 ],
 "metadata": {
  "kernelspec": {
   "display_name": "Python 2",
   "language": "python",
   "name": "python2"
  },
  "language_info": {
   "codemirror_mode": {
    "name": "ipython",
    "version": 2
   },
   "file_extension": ".py",
   "mimetype": "text/x-python",
   "name": "python",
   "nbconvert_exporter": "python",
   "pygments_lexer": "ipython2",
   "version": "2.7.13"
  }
 },
 "nbformat": 4,
 "nbformat_minor": 2
}
