{
 "cells": [
  {
   "cell_type": "code",
   "execution_count": 26,
   "metadata": {
    "collapsed": false
   },
   "outputs": [],
   "source": [
    "from scipy.odr import Model, Data, ODR\n",
    "import datetime as dt\n",
    "from tree import TreeModel\n",
    "from bau import DLWBusinessAsUsual\n",
    "from cost import DLWCost\n",
    "#from damage import DLWDamage\n",
    "from utility import EZUtility\n",
    "from optimization import GeneticAlgorithm, GradientSearch\n",
    "import numpy as np\n",
    "\n",
    "class matlabmode():\n",
    "    def __init__(self,ind):\n",
    "        '''init the class with default settings:\n",
    "        1. decision time is set to [0, 15, 45, 85, 185, 285, 385]\n",
    "        2. cost is using default x60 = 0.543, x100 = 0.671 and euro to dollar exchange rate = 1.2\n",
    "        3. In the back stop tech model, join price is set to 2000, max prive is set to 2500, phi_0 = 1.5, phi_1 = 0 and constant = 30460\n",
    "        3. constant growth of consumption is set to 0.015, subinterval length is 5 and ghg levels are 450,650,1000.\n",
    "        4. Draws of simulation  = 4000000\n",
    "        5. Disaster model's set up is  peak_temperature=6.0, disaster_tail=18.0. \n",
    "        6. Damage is simulated by pindcyk method with time to hit the max temperature = 100\n",
    "        7. In utility, the parameter rho from the DLW-paper is set to 1-1/0.9, alpha is set to -6 and beta is set to 0.995^5 '''\n",
    "        ind = int(ind)\n",
    "        t = TreeModel(decision_times=[0, 15, 45, 85, 185, 285, 385])\n",
    "        self.t = t \n",
    "        bau_default_model = DLWBusinessAsUsual()\n",
    "        bau_default_model.bau_emissions_setup(tree=t)\n",
    "        if ind == -1:\n",
    "            from damage_fix_seed import DLWDamage\n",
    "            c = DLWCost(t, bau_default_model.emit_level[0], g=92.08, a=3.413, join_price=2000.0, max_price=2500.0,\n",
    "                            tech_const=1.5, tech_scale=0.0, cons_at_0=30460.0)\n",
    "            df = DLWDamage(tree=t, bau=bau_default_model, cons_growth=0.015, ghg_levels=[450, 650, 1000], subinterval_len=5)    \n",
    "            df.damage_simulation(draws=4000000, peak_temp=6.0, disaster_tail=18.0, tip_on=True, \n",
    "                                     temp_map=0, temp_dist_params=None, maxh=100.0)\n",
    "            u = EZUtility(tree=t, damage=df, cost=c, period_len=5.0, eis=0.9, ra=7.0, time_pref=0.005)\n",
    "            self.u = u\n",
    "            paralist = np.array([[2.81, 4.6134, 6.14],[1.6667, 1.5974, 1.53139],[-0.25, -0.5, -1.0]])\n",
    "        elif ind in [x for x in range(10)]:\n",
    "            from damage_Yili import DLWDamage\n",
    "            c = DLWCost(t, bau_default_model.emit_level[0], g=92.08, a=3.413, join_price=2000.0, max_price=2500.0,\n",
    "                            tech_const=1.5, tech_scale=0.0, cons_at_0=30460.0)\n",
    "            df = DLWDamage(tree=t, bau=bau_default_model, cons_growth=0.015, ghg_levels=[450, 650, 1000], subinterval_len=5,change=ind)    \n",
    "            df.damage_simulation( draws=4000000, peak_temp=6.0, disaster_tail=18.0, tip_on=True, \n",
    "                                     temp_map=0, temp_dist_params=None, maxh=100.0)\n",
    "            u = EZUtility(tree=t, damage=df, cost=c, period_len=5.0, eis=0.9, ra=7.0, time_pref=0.005)\n",
    "            self.u = u\n",
    "            paralist = np.array(self.u.damage.parameter_list)\n",
    "        elif ind in (10,11):\n",
    "            from damage import DLWDamage\n",
    "            aa,bb,cost,g = self.sensitivity_analysis_c_k(ind)\n",
    "            c = DLWCost(t, bau_default_model.emit_level[0], g=g, a=cost, join_price=2000.0, max_price=2500.0,\n",
    "                    tech_const=1.5, tech_scale=0.0, cons_at_0=30460.0)\n",
    "            df = DLWDamage(tree=t, bau=bau_default_model, cons_growth=0.015, ghg_levels=[450, 650, 1000], subinterval_len=5)    \n",
    "            df.damage_simulation( draws=4000000, peak_temp=6.0, disaster_tail=18.0, tip_on=True, \n",
    "                                     temp_map=0, temp_dist_params=None, maxh=100.0)\n",
    "            u = EZUtility(tree=t, damage=df, cost=c, period_len=5.0, eis=0.9, ra=7.0, time_pref=0.005)\n",
    "            self.u = u\n",
    "            paralist = np.array([aa,bb,cost,g])\n",
    "        else:\n",
    "            raise ValueError('Input indicator should be intergral within -1 to 11')\n",
    "        self.parameters = paralist.ravel()\n",
    "        #handle parameters:\n",
    "\n",
    "    def sensitivity_analysis_c_k(self,ind):\n",
    "        '''take fraction GHG reduction for different taxation rate from normal distribution\n",
    "        returns the modified c and k in project description page 2 equation (2.3)'''\n",
    "        #1.2 dollar = 1 euro\n",
    "        xdata = [60*1.2,100*1.2]\n",
    "        a = np.random.normal(0.543,0.0213)\n",
    "        b = np.random.normal(0.671,0.0213)\n",
    "        if ind == 0:\n",
    "            ydata = [a,0.671]\n",
    "        elif ind ==1:\n",
    "            ydata = [0.543,b]\n",
    "        else:\n",
    "            ydata = [a,b]\n",
    "        def f(p, x):\n",
    "            '''Linear function y = m*x + b'''\n",
    "            # B is a vector of the parameters.\n",
    "            # x is an array of the current x values.\n",
    "            # x is in the same format as the x passed to Data or RealData.\n",
    "            #\n",
    "            # Return an array in the same format as y passed to Data or RealData.\n",
    "            return p[0] * x ** p[1]\n",
    "\n",
    "        linear = Model(f)\n",
    "        #sx, sy are arrays of error estimates\n",
    "        mydata = Data(xdata, ydata)\n",
    "        #beta0 are the initial parameter estimates\n",
    "        myodr = ODR(mydata, linear, beta0=[1, -1.0])\n",
    "        myoutput = myodr.run()\n",
    "        x = myoutput.beta\n",
    "        c= (1/x[1])*(x[1]+1) \n",
    "        g= ((1/(x[0]**(1/x[1])))**(x[1]+1) )*(x[0]-x[0]/(x[1]+1))\n",
    "        return a,b,c,g\n",
    "\n",
    "    def get_start_point(self):\n",
    "        #use GA to get the start point for local optimizer\n",
    "        ga_model = GeneticAlgorithm(pop_amount=150, num_generations=75, cx_prob=0.8, mut_prob=0.5, \n",
    "                              bound=1.5, num_feature=63, utility=self.u, print_progress=True) \n",
    "        final_pop, fitness = ga_model.run()\n",
    "        sort_pop = final_pop[np.argsort(fitness)][::-1]\n",
    "        begin_pop = final_pop[np.argsort(fitness)][-1]\n",
    "        return sort_pop,begin_pop\n",
    "\n",
    "    def utility_grad(self,m):\n",
    "        #use finite differenciation to gradient and utility\n",
    "        return self.u.utility(m),self.grad(m)\n",
    "\n",
    "    def grad(self,m):\n",
    "        #use finite differenciation to gradient and utility\n",
    "        m = np.array(m)\n",
    "        gs_model = GradientSearch(var_nums=63, utility=self.u, accuracy=1e-8, \n",
    "                              iterations=1, print_progress=True)\n",
    "        grad = gs_model.numerical_gradient(m)\n",
    "        return grad\n",
    "\n",
    "    def utility(self,m):\n",
    "        m = np.array(m)\n",
    "        return self.u.utility(m)\n",
    "\n",
    "    def GS(self,m):\n",
    "        #m = np.array(m)\n",
    "        m=m[0]\n",
    "        gs_model = GradientSearch(var_nums=63, utility=self.u, accuracy=1e-8, \n",
    "                              iterations=200, print_progress=True)\n",
    "        m_opt, u_opt = gs_model.run(initial_point_list=m, topk=1)\n",
    "        return m_opt,u_opt\n",
    "\n",
    "    def get_price(self,m):\n",
    "        m = np.array(m)\n",
    "        t = self.t\n",
    "        price_list=list()\n",
    "        for decision_time in range(len(t.decision_times)-1):\n",
    "            start_node,end_node = t.get_nodes_in_period(decision_time)\n",
    "            average_mit = self.u.damage.average_mitigation(m,decision_time)\n",
    "            for index in range(end_node-start_node+1):\n",
    "                index_ori =index + start_node\n",
    "                price_list.append(self.u.cost.price(t.decision_times[decision_time],m[index_ori],average_mit[index]))\n",
    "        return np.array(price_list)\n",
    "\n",
    "    def utility_tree(self,m):\n",
    "        # get utility in a tree structure from utlity class\n",
    "        m = np.array(m)\n",
    "        utility_tree = self.u.utility(m,True)[0]\n",
    "        u_tree = utility_tree.tree\n",
    "        utility_at_each_node = np.array([])\n",
    "        for decision_time in self.t.decision_times[:-1]:\n",
    "            utility_at_each_node = np.append(utility_at_each_node,u_tree[decision_time])\n",
    "\n",
    "        return utility_at_each_node\n",
    "\n",
    "    def utility_sub_optimal(self,m):\n",
    "        # get utility from utlity class\n",
    "        m = np.array(m)\n",
    "        m = np.append(0,m)\n",
    "        return self.u.utility(m), self.grad(m)\n",
    "\n",
    "    def adj_utiltiy_cons(self,m,cons):\n",
    "        # get utility from utlity class\n",
    "        m = np.array(m)\n",
    "\n",
    "        return self.u.adjusted_utility(m,first_period_consadj=cons)"
   ]
  },
  {
   "cell_type": "code",
   "execution_count": 27,
   "metadata": {
    "collapsed": false
   },
   "outputs": [
    {
     "name": "stdout",
     "output_type": "stream",
     "text": [
      "Starting damage simulation..\n",
      "nothing is changed\n",
      "Done!\n"
     ]
    }
   ],
   "source": [
    "y =matlabmode(9)"
   ]
  },
  {
   "cell_type": "code",
   "execution_count": 33,
   "metadata": {
    "collapsed": false
   },
   "outputs": [
    {
     "data": {
      "text/plain": [
       "array([   9.11239894,   10.8225465 ,   11.73374651,   15.27802763,\n",
       "         17.3087368 ,   17.3087368 ,   18.25065986,   23.28494447,\n",
       "         28.1472818 ,   28.1472818 ,   30.57146494,   28.1472818 ,\n",
       "         30.57146494,   30.57146494,   31.81512524,   61.549315  ,\n",
       "         86.64732646,   86.64732646,  100.12692016,   86.64732646,\n",
       "        100.12692016,  100.12692016,  107.55398822,   86.64732646,\n",
       "        100.12692016,  100.12692016,  107.55398822,  100.12692016,\n",
       "        107.55398822,  107.55398822,  111.12865047,  123.92117006,\n",
       "        203.98124242,  203.98124242,  253.63080306,  203.98124242,\n",
       "        253.63080306,  253.63080306,  281.45246073,  203.98124242,\n",
       "        253.63080306,  253.63080306,  281.45246073,  253.63080306,\n",
       "        281.45246073,  281.45246073,  297.07893709,  203.98124242,\n",
       "        253.63080306,  253.63080306,  281.45246073,  253.63080306,\n",
       "        281.45246073,  281.45246073,  297.07893709,  253.63080306,\n",
       "        281.45246073,  281.45246073,  297.07893709,  281.45246073,\n",
       "        297.07893709,  297.07893709,  302.35752076])"
      ]
     },
     "execution_count": 33,
     "metadata": {},
     "output_type": "execute_result"
    }
   ],
   "source": [
    "get_utility_tree(np.ones((1,63))[0],y)."
   ]
  },
  {
   "cell_type": "code",
   "execution_count": 16,
   "metadata": {
    "collapsed": false
   },
   "outputs": [],
   "source": [
    "gs_model = GradientSearch(var_nums=63, utility=y.u, accuracy=1e-8, \n",
    "                      iterations=1, print_progress=True)\n",
    "grad = gs_model.numerical_gradient(m)"
   ]
  },
  {
   "cell_type": "code",
   "execution_count": 22,
   "metadata": {
    "collapsed": false
   },
   "outputs": [
    {
     "data": {
      "text/plain": [
       "(array([ 9.3360125]),\n",
       " array([  2.34352981e-01,   4.22684110e-04,   6.57252031e-06,\n",
       "          4.39381864e-04,   1.54898316e-04,   1.74527059e-04,\n",
       "          9.68114477e-05,   4.29256630e-04,   1.42907908e-04,\n",
       "          1.60227387e-04,   1.74527059e-04,   2.12274642e-04,\n",
       "          6.21724894e-07,   4.51372273e-04,  -2.12807549e-04,\n",
       "          1.25233157e-05,   2.38919995e-05,   9.59232693e-06,\n",
       "          1.21325172e-04,  -9.59232693e-06,   8.66862138e-05,\n",
       "         -2.69118061e-05,   4.42312853e-05,   3.28626015e-05,\n",
       "         -2.51354493e-05,   7.22977234e-05,  -4.12114787e-05,\n",
       "          2.71427325e-04,   1.99040784e-04,  -6.57252031e-06,\n",
       "          1.97175609e-05,  -2.69118061e-05,   3.55271368e-06,\n",
       "          1.07469589e-05,   3.55271368e-06,   9.50350909e-05,\n",
       "         -2.57571742e-05,  -5.25801624e-05,   1.07558407e-04,\n",
       "         -3.10862447e-05,  -2.69118061e-05,  -9.03277453e-05,\n",
       "          4.79616347e-06,   3.23296945e-05,  -2.57571742e-05,\n",
       "          2.21156427e-05,   1.55431223e-05,   2.51354493e-05,\n",
       "         -3.94351218e-05,   4.12114787e-05,  -1.78523862e-05,\n",
       "         -9.80548975e-05,   8.18900503e-05,  -3.41060513e-05,\n",
       "          1.15907284e-04,   1.10578213e-04,  -1.39266376e-04,\n",
       "         -4.36095604e-05,   6.45705711e-05,   4.66293670e-05,\n",
       "          4.36095604e-05,   2.45137244e-05,   0.00000000e+00]))"
      ]
     },
     "execution_count": 22,
     "metadata": {},
     "output_type": "execute_result"
    }
   ],
   "source": [
    "y.utility_grad(m)\n"
   ]
  },
  {
   "cell_type": "code",
   "execution_count": 36,
   "metadata": {
    "collapsed": false
   },
   "outputs": [
    {
     "data": {
      "text/plain": [
       "array([ 9.3378783])"
      ]
     },
     "execution_count": 36,
     "metadata": {},
     "output_type": "execute_result"
    }
   ],
   "source": [
    "y.adj_utiltiy_cons(opt_m,-0.3641)"
   ]
  },
  {
   "cell_type": "code",
   "execution_count": 33,
   "metadata": {
    "collapsed": false
   },
   "outputs": [
    {
     "data": {
      "text/plain": [
       "array([ 9.33788787])"
      ]
     },
     "execution_count": 33,
     "metadata": {},
     "output_type": "execute_result"
    }
   ],
   "source": [
    "y.utility(m)"
   ]
  },
  {
   "cell_type": "code",
   "execution_count": 24,
   "metadata": {
    "collapsed": false
   },
   "outputs": [
    {
     "data": {
      "text/plain": [
       "[0, 15, 45, 85, 185, 285]"
      ]
     },
     "execution_count": 24,
     "metadata": {},
     "output_type": "execute_result"
    }
   ],
   "source": [
    "[0, 15, 45, 85, 185, 285, 385][:-1]"
   ]
  },
  {
   "cell_type": "code",
   "execution_count": 25,
   "metadata": {
    "collapsed": false
   },
   "outputs": [
    {
     "data": {
      "text/plain": [
       "array([], dtype=float64)"
      ]
     },
     "execution_count": 25,
     "metadata": {},
     "output_type": "execute_result"
    }
   ],
   "source": [
    "np.array([])"
   ]
  },
  {
   "cell_type": "code",
   "execution_count": 32,
   "metadata": {
    "collapsed": false
   },
   "outputs": [],
   "source": [
    " m = np.array([0,\n",
    "0.923249731147440,\n",
    "0.754719483441788,\n",
    "1.20883338344189,\n",
    "1.04617671263710,\n",
    "1.06283596501822,\n",
    "0.764209719230075,\n",
    "1.24802827326655,\n",
    "1.21500326647379,\n",
    "1.26575432525466,\n",
    "1.22573195687188,\n",
    "1.30171212654056,\n",
    "1.25997799026830,\n",
    "1.21904674024527,\n",
    "0.403297122589292,\n",
    "1.02577454258961,\n",
    "0.994706872958886,\n",
    "1.03145446568197,\n",
    "0.994987147735444,\n",
    "1.04674007627225,\n",
    "1.01240549738639,\n",
    "1.05967813466921,\n",
    "1.02427403043297,\n",
    "1.04805524739605,\n",
    "1.01534566748373,\n",
    "1.06280539211635,\n",
    "1.02837250551094,\n",
    "1.23652106519627,\n",
    "1.20612936929712,\n",
    "0.699894190865766,\n",
    "0.436190781473611,\n",
    "0.938789054590447,\n",
    "0.924728408606642,\n",
    "0.955867322283848,\n",
    "0.930883850127116,\n",
    "0.953693393191365,\n",
    "0.929783215055321,\n",
    "0.968473638588558,\n",
    "0.949156242111391,\n",
    "0.953178704410817,\n",
    "0.929061076228053,\n",
    "0.965782081245918,\n",
    "0.944465733437724,\n",
    "0.960192293601782,\n",
    "0.938730199484934,\n",
    "0.976157870014003,\n",
    "0.897870204582257,\n",
    "0.952111435670195,\n",
    "0.928616743975446,\n",
    "0.962061864574879,\n",
    "0.941484004036435,\n",
    "0.960785148412293,\n",
    "0.936641727597721,\n",
    "0.974519294962464,\n",
    "0.871342018465326,\n",
    "0.955319684920212,\n",
    "0.933249837324057,\n",
    "0.965177720803444,\n",
    "0.937391371845865,\n",
    "1.01241586127786,\n",
    "0.305796220695870,\n",
    "0.764616402965820,\n",
    "0.181960386554750])"
   ]
  },
  {
   "cell_type": "code",
   "execution_count": 35,
   "metadata": {
    "collapsed": false
   },
   "outputs": [],
   "source": [
    "opt_m = [0.8338,\n",
    "0.9868,\n",
    "0.8448,\n",
    "1.2945,\n",
    "1.0234,\n",
    "1.0398,\n",
    "0.9092,\n",
    "1.1073,\n",
    "1.0714,\n",
    "1.1788,\n",
    "1.1350,\n",
    "1.2050,\n",
    "1.1633,\n",
    "1.2114,\n",
    "0.9166,\n",
    "1.0259,\n",
    "0.9896,\n",
    "1.0291,\n",
    "0.9897,\n",
    "1.0347,\n",
    "0.9973,\n",
    "1.0505,\n",
    "1.0142,\n",
    "1.0397,\n",
    "1.0032,\n",
    "1.0530,\n",
    "1.0171,\n",
    "1.0581,\n",
    "1.0236,\n",
    "1.3148,\n",
    "1.2111,\n",
    "0.9423,\n",
    "0.9250,\n",
    "0.9618,\n",
    "0.9366,\n",
    "0.9600,\n",
    "0.9348,\n",
    "0.9787,\n",
    "0.9559,\n",
    "0.9559,\n",
    "0.9311,\n",
    "0.9708,\n",
    "0.9538,\n",
    "0.9647,\n",
    "0.9452,\n",
    "0.9838,\n",
    "0.8843,\n",
    "0.9552,\n",
    "0.9302,\n",
    "0.9693,\n",
    "0.9507,\n",
    "0.9624,\n",
    "0.9447,\n",
    "0.9815,\n",
    "0.8856,\n",
    "0.9623,\n",
    "0.9412,\n",
    "0.9776,\n",
    "0.8342,\n",
    "1.0005,\n",
    "0.9768,\n",
    "1.0889,\n",
    "0.1412]"
   ]
  },
  {
   "cell_type": "code",
   "execution_count": 9,
   "metadata": {
    "collapsed": false
   },
   "outputs": [],
   "source": [
    "t = y.t\n",
    "price_list=list()\n",
    "for decision_time in range(len(t.decision_times)-1):\n",
    "    start_node,end_node = t.get_nodes_in_period(decision_time)\n",
    "    average_mit = y.u.damage.average_mitigation(m,decision_time)\n",
    "    for index in range(end_node-start_node+1):\n",
    "        index_ori =index + start_node\n",
    "        price_list.append(y.u.cost.cost(decision_time,m[index_ori],average_mit[index]))"
   ]
  },
  {
   "cell_type": "code",
   "execution_count": 10,
   "metadata": {
    "collapsed": false
   },
   "outputs": [
    {
     "data": {
      "text/plain": [
       "[0.0,\n",
       " 0.095414989688338073,\n",
       " 0.047958361241716728,\n",
       " 0.15211982065144997,\n",
       " 0.092892608545149996,\n",
       " 0.098038895857966157,\n",
       " 0.031803402367995282,\n",
       " 0.092668537083086172,\n",
       " 0.084563153292068163,\n",
       " 0.097238201669419932,\n",
       " 0.087138929404271259,\n",
       " 0.10699361818793504,\n",
       " 0.0957319986161803,\n",
       " 0.085527509859731898,\n",
       " 0.0019611774630505468,\n",
       " 0.010467948777549368,\n",
       " 0.0094248584754079868,\n",
       " 0.010667102143889327,\n",
       " 0.0094339251422015328,\n",
       " 0.01121634605242096,\n",
       " 0.010009589976305551,\n",
       " 0.011696614267590744,\n",
       " 0.010415779015804314,\n",
       " 0.011264517460219867,\n",
       " 0.010109151527580794,\n",
       " 0.011814845397829442,\n",
       " 0.010558711085450173,\n",
       " 0.01980729559401612,\n",
       " 0.018194442509022427,\n",
       " 0.0028394677507586948,\n",
       " 0.00056540186073647622,\n",
       " 0.0017066288806075662,\n",
       " 0.0016209548231863327,\n",
       " 0.001814936800267434,\n",
       " 0.0016580773025262406,\n",
       " 0.0018008875380916911,\n",
       " 0.0016513958745458181,\n",
       " 0.0018979384397972599,\n",
       " 0.0017718136583919875,\n",
       " 0.0017975725955203668,\n",
       " 0.0016470224717586919,\n",
       " 0.0018799961657183172,\n",
       " 0.0017421075671937068,\n",
       " 0.0018431175669406728,\n",
       " 0.0017062637412438143,\n",
       " 0.0019498284904173623,\n",
       " 0.0014658256841766017,\n",
       " 0.0017907124171910687,\n",
       " 0.0016443355886474485,\n",
       " 0.0018553945887703094,\n",
       " 0.0017234077067313531,\n",
       " 0.001847004463229916,\n",
       " 0.0016933425005221786,\n",
       " 0.0019386804319326068,\n",
       " 0.0013232086606416139,\n",
       " 0.0018113903568854164,\n",
       " 0.0016725047425261144,\n",
       " 0.0018759839689711994,\n",
       " 0.0016979725126649073,\n",
       " 0.0022082818913022771,\n",
       " 3.7114554435350831e-05,\n",
       " 0.00084714448859320884,\n",
       " 6.3105242322054197e-06]"
      ]
     },
     "execution_count": 10,
     "metadata": {},
     "output_type": "execute_result"
    }
   ],
   "source": [
    "price_list"
   ]
  },
  {
   "cell_type": "code",
   "execution_count": null,
   "metadata": {
    "collapsed": true
   },
   "outputs": [],
   "source": []
  }
 ],
 "metadata": {
  "kernelspec": {
   "display_name": "Python 3",
   "language": "python",
   "name": "python3"
  },
  "language_info": {
   "codemirror_mode": {
    "name": "ipython",
    "version": 3
   },
   "file_extension": ".py",
   "mimetype": "text/x-python",
   "name": "python",
   "nbconvert_exporter": "python",
   "pygments_lexer": "ipython3",
   "version": "3.6.0"
  }
 },
 "nbformat": 4,
 "nbformat_minor": 2
}
