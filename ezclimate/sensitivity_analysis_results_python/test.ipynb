{
 "cells": [
  {
   "cell_type": "code",
   "execution_count": 1,
   "metadata": {
    "collapsed": false
   },
   "outputs": [],
   "source": [
    "from scipy.odr import Model, Data, ODR\n",
    "import datetime as dt\n",
    "from tree import TreeModel\n",
    "from bau import DLWBusinessAsUsual\n",
    "from cost import DLWCost\n",
    "#from damage import DLWDamage\n",
    "from utility import EZUtility\n",
    "from optimization import GeneticAlgorithm, GradientSearch\n",
    "import numpy as np\n",
    "import multiprocessing as mp\n",
    "\n",
    "\n",
    "class matlabmode():\n",
    "    def __init__(self,ind):\n",
    "        '''init the class with default settings:\n",
    "        1. decision time is set to [0, 15, 45, 85, 185, 285, 385]\n",
    "        2. cost is using default x60 = 0.543, x100 = 0.671 and euro to dollar exchange rate = 1.2\n",
    "        3. In the back stop tech model, join price is set to 2000, max prive is set to 2500, phi_0 = 1.5, phi_1 = 0 and constant = 30460\n",
    "        3. constant growth of consumption is set to 0.015, subinterval length is 5 and ghg levels are 450,650,1000.\n",
    "        4. Draws of simulation  = 4000000\n",
    "        5. Disaster model's set up is  peak_temperature=6.0, disaster_tail=18.0. \n",
    "        6. Damage is simulated by pindcyk method with time to hit the max temperature = 100\n",
    "        7. In utility, the parameter rho from the DLW-paper is set to 1-1/0.9, alpha is set to -6 and beta is set to 0.995^5 '''\n",
    "        ind = int(ind)\n",
    "        t = TreeModel(decision_times=[0, 15, 45, 85, 185, 285, 385])\n",
    "        self.t = t \n",
    "        bau_default_model = DLWBusinessAsUsual()\n",
    "        bau_default_model.bau_emissions_setup(tree=t)\n",
    "        if ind == -1:\n",
    "            from damage_fix_seed import DLWDamage\n",
    "            c = DLWCost(t, bau_default_model.emit_level[0], g=92.08, a=3.413, join_price=2000.0, max_price=2500.0,\n",
    "                            tech_const=1.5, tech_scale=0.0, cons_at_0=30460.0)\n",
    "            df = DLWDamage(tree=t, bau=bau_default_model, cons_growth=0.015, ghg_levels=[450, 650, 1000], subinterval_len=5)    \n",
    "            df.damage_simulation(draws=4000000, peak_temp=6.0, disaster_tail=18.0, tip_on=True, \n",
    "                                     temp_map=0, temp_dist_params=None, maxh=100.0)\n",
    "            u = EZUtility(tree=t, damage=df, cost=c, period_len=5.0, eis=0.9, ra=7.0, time_pref=0.005)\n",
    "            self.u = u\n",
    "            paralist = np.array([[2.81, 4.6134, 6.14],[1.6667, 1.5974, 1.53139],[-0.25, -0.5, -1.0]])\n",
    "        elif ind in [x for x in range(10)]:\n",
    "            from damage_Yili import DLWDamage\n",
    "            c = DLWCost(t, bau_default_model.emit_level[0], g=92.08, a=3.413, join_price=2000.0, max_price=2500.0,\n",
    "                            tech_const=1.5, tech_scale=0.0, cons_at_0=30460.0)\n",
    "            df = DLWDamage(tree=t, bau=bau_default_model, cons_growth=0.015, ghg_levels=[450, 650, 1000], subinterval_len=5,change=ind)    \n",
    "            df.damage_simulation( draws=4000000, peak_temp=6.0, disaster_tail=18.0, tip_on=True, \n",
    "                                     temp_map=0, temp_dist_params=None, maxh=100.0)\n",
    "            u = EZUtility(tree=t, damage=df, cost=c, period_len=5.0, eis=0.9, ra=7.0, time_pref=0.005)\n",
    "            self.u = u\n",
    "            paralist = np.array(self.u.damage.parameter_list)\n",
    "        elif ind in (10,11):\n",
    "            from damage import DLWDamage\n",
    "            aa,bb,cost,g = self.sensitivity_analysis_c_k(ind)\n",
    "            c = DLWCost(t, bau_default_model.emit_level[0], g=g, a=cost, join_price=2000.0, max_price=2500.0,\n",
    "                    tech_const=1.5, tech_scale=0.0, cons_at_0=30460.0)\n",
    "            df = DLWDamage(tree=t, bau=bau_default_model, cons_growth=0.015, ghg_levels=[450, 650, 1000], subinterval_len=5)    \n",
    "            df.damage_simulation( draws=4000000, peak_temp=6.0, disaster_tail=18.0, tip_on=True, \n",
    "                                     temp_map=0, temp_dist_params=None, maxh=100.0)\n",
    "            u = EZUtility(tree=t, damage=df, cost=c, period_len=5.0, eis=0.9, ra=7.0, time_pref=0.005)\n",
    "            self.u = u\n",
    "            paralist = np.array([aa,bb,cost,g])\n",
    "        else:\n",
    "            raise ValueError('Input indicator should be intergral within -1 to 11')\n",
    "        self.parameters = paralist.ravel()\n",
    "        #handle parameters:\n",
    "\n",
    "    def sensitivity_analysis_c_k(self,ind):\n",
    "        '''take fraction GHG reduction for different taxation rate from normal distribution\n",
    "        returns the modified c and k in project description page 2 equation (2.3)'''\n",
    "        #1.2 dollar = 1 euro\n",
    "        xdata = [60*1.2,100*1.2]\n",
    "        a = np.random.normal(0.543,0.0213)\n",
    "        b = np.random.normal(0.671,0.0213)\n",
    "        if ind == 0:\n",
    "            ydata = [a,0.671]\n",
    "        elif ind ==1:\n",
    "            ydata = [0.543,b]\n",
    "        else:\n",
    "            ydata = [a,b]\n",
    "        def f(p, x):\n",
    "            '''Linear function y = m*x + b'''\n",
    "            # B is a vector of the parameters.\n",
    "            # x is an array of the current x values.\n",
    "            # x is in the same format as the x passed to Data or RealData.\n",
    "            #\n",
    "            # Return an array in the same format as y passed to Data or RealData.\n",
    "            return p[0] * x ** p[1]\n",
    "\n",
    "        linear = Model(f)\n",
    "        #sx, sy are arrays of error estimates\n",
    "        mydata = Data(xdata, ydata)\n",
    "        #beta0 are the initial parameter estimates\n",
    "        myodr = ODR(mydata, linear, beta0=[1, -1.0])\n",
    "        myoutput = myodr.run()\n",
    "        x = myoutput.beta\n",
    "        c= (1/x[1])*(x[1]+1) \n",
    "        g= ((1/(x[0]**(1/x[1])))**(x[1]+1) )*(x[0]-x[0]/(x[1]+1))\n",
    "        return a,b,c,g\n",
    "\n",
    "    def get_start_point(self):\n",
    "        #use GA to get the start point for local optimizer\n",
    "        ga_model = GeneticAlgorithm(pop_amount=150, num_generations=75, cx_prob=0.8, mut_prob=0.5, \n",
    "                              bound=1.5, num_feature=63, utility=self.u, print_progress=True) \n",
    "        final_pop, fitness = ga_model.run()\n",
    "        sort_pop = final_pop[np.argsort(fitness)][::-1]\n",
    "        begin_pop = final_pop[np.argsort(fitness)][-1]\n",
    "        return sort_pop,begin_pop\n",
    "\n",
    "    def utility_grad(self,m):\n",
    "        #use finite differenciation to gradient and utility\n",
    "        m = np.array(m)\n",
    "        gs_model = GradientSearch(var_nums=63, utility=self.u, accuracy=1e-8, \n",
    "                              iterations=1, print_progress=True)\n",
    "        grad = gs_model.numerical_gradient(m)\n",
    "        return self.u.utility(m),grad\n",
    "\n",
    "    def grad(self,m):\n",
    "        #use finite differenciation to gradient and utility\n",
    "        m = np.array(m)\n",
    "        gs_model = GradientSearch(var_nums=63, utility=self.u, accuracy=1e-8, \n",
    "                              iterations=1, print_progress=True)\n",
    "        grad = gs_model.numerical_gradient(m)\n",
    "        return grad\n",
    "\n",
    "    def utility(self,m):\n",
    "        m = np.array(m)\n",
    "        return self.u.utility(m)\n",
    "\n",
    "    def GS(self,m):\n",
    "        #m = np.array(m)\n",
    "        m=m[0]\n",
    "        gs_model = GradientSearch(var_nums=63, utility=self.u, accuracy=1e-8, \n",
    "                              iterations=200, print_progress=True)\n",
    "        m_opt, u_opt = gs_model.run(initial_point_list=m, topk=1)\n",
    "        return m_opt,u_opt\n",
    "\n",
    "    def get_price(self,m):\n",
    "        m = np.array(m)\n",
    "        t = self.t\n",
    "        price_list=list()\n",
    "        for decision_time in range(len(t.decision_times)-1):\n",
    "            start_node,end_node = t.get_nodes_in_period(decision_time)\n",
    "            average_mit = self.u.damage.average_mitigation(m,decision_time)\n",
    "            for index in range(end_node-start_node+1):\n",
    "                index_ori =index + start_node\n",
    "                price_list.append(self.u.cost.price(t.decision_times[decision_time],m[index_ori],average_mit[index]))\n",
    "        return np.array(price_list)\n",
    "\n",
    "    def utility_tree(self,m):\n",
    "        # get utility in a tree structure from utlity class\n",
    "        m = np.array(m)\n",
    "        utility_tree = self.u.utility(m,True)[0]\n",
    "        u_tree = utility_tree.tree\n",
    "        utility_at_each_node = np.array([])\n",
    "        for decision_time in self.t.decision_times[:-1]:\n",
    "            utility_at_each_node = np.append(utility_at_each_node,u_tree[decision_time])\n",
    "\n",
    "        return utility_at_each_node\n",
    "\n",
    "    def utility_sub_optimal(self,m,adj):\n",
    "        # get utility from utlity class\n",
    "        m = np.array(m)\n",
    "        m = np.append(adj,m)\n",
    "        return self.u.utility(m), self.grad(m)\n",
    "\n",
    "    def adj_utility_cons(self,m,cons):\n",
    "        # get utility from utlity class\n",
    "        m = np.array(m)\n",
    "\n",
    "        return self.u.adjusted_utility(m,first_period_consadj=cons)\n",
    "\n",
    "    def adj_utility_g(self,m, cons):\n",
    "        m = np.array(m)\n",
    "        gs_model = GradientSearch(var_nums=63, utility=self.u, accuracy=1e-8, \n",
    "                              iterations=1, print_progress=True)\n",
    "        grad = gs_model.numerical_gradient_cons(m,cons)\n",
    "        return grad"
   ]
  },
  {
   "cell_type": "code",
   "execution_count": 2,
   "metadata": {
    "collapsed": false
   },
   "outputs": [
    {
     "name": "stdout",
     "output_type": "stream",
     "text": [
      "Starting damage simulation..\n",
      "nothing is changed\n",
      "Done!\n"
     ]
    }
   ],
   "source": [
    "y =matlabmode(9)"
   ]
  },
  {
   "cell_type": "code",
   "execution_count": null,
   "metadata": {
    "collapsed": false
   },
   "outputs": [],
   "source": [
    "y.delta=1e-08\n",
    "y.m = np.ones((1,63))\n",
    "cons = 0.01\n",
    "grad = np.zeros(len(y.m))\n",
    "pool = multiprocessing.Pool()\n",
    "indicies = np.array(range(len(y.m)))\n",
    "i =61\n",
    "m_copy = y.m.copy()\n",
    "m_copy[0,i] = m_copy[0,i] - y.delta if (m_copy[0,i] - y.delta)>=0 else 0.0\n",
    "minus_utility = y.adj_utiltiy_cons(m_copy[0],cons)\n",
    "m_copy[0,i] += 2*y.delta\n",
    "plus_utility = y.adj_utiltiy_cons(m_copy[0],cons)\n",
    "grad = (plus_utility-minus_utility) / (2*y.delta) # the math is trival"
   ]
  },
  {
   "cell_type": "code",
   "execution_count": null,
   "metadata": {
    "collapsed": false
   },
   "outputs": [],
   "source": [
    "m = np.ones((1,63))\n",
    "cons = 0.01\n",
    "y.adj_utility_g(m[0],cons)"
   ]
  },
  {
   "cell_type": "code",
   "execution_count": null,
   "metadata": {
    "collapsed": false
   },
   "outputs": [],
   "source": [
    "indicies = np.array(range(len(y.m)))\n",
    "res = pool.map(y._partial_grad,indicies,cons)"
   ]
  },
  {
   "cell_type": "code",
   "execution_count": null,
   "metadata": {
    "collapsed": true
   },
   "outputs": [],
   "source": [
    "def test_f(x):\n",
    "    return x^2"
   ]
  },
  {
   "cell_type": "code",
   "execution_count": null,
   "metadata": {
    "collapsed": true
   },
   "outputs": [],
   "source": [
    "import numpy as np"
   ]
  },
  {
   "cell_type": "code",
   "execution_count": null,
   "metadata": {
    "collapsed": false
   },
   "outputs": [],
   "source": [
    "pool = multiprocessing.Pool()"
   ]
  },
  {
   "cell_type": "code",
   "execution_count": null,
   "metadata": {
    "collapsed": false
   },
   "outputs": [],
   "source": [
    "res = pool.map(test_f,[1,2])"
   ]
  },
  {
   "cell_type": "code",
   "execution_count": null,
   "metadata": {
    "collapsed": false
   },
   "outputs": [],
   "source": [
    "get_utility_tree(np.ones((1,63))[0],y)."
   ]
  },
  {
   "cell_type": "code",
   "execution_count": null,
   "metadata": {
    "collapsed": false
   },
   "outputs": [],
   "source": [
    "\n",
    "y.delta = delta\n",
    "y.m = m\n",
    "grad = np.zeros(len(m))\n",
    "pool = multiprocessing.Pool()\n",
    "indicies = np.array(range(len(m)))\n",
    "res = pool.map(y._partial_grad,indicies,cons)\n",
    "for g, i in res:\n",
    "    grad[i] = g\n",
    "    pool.close()\n",
    "pool.join()\n",
    "del y.m\n",
    "del y.delta"
   ]
  },
  {
   "cell_type": "code",
   "execution_count": null,
   "metadata": {
    "collapsed": false
   },
   "outputs": [],
   "source": [
    "y.delta=1e-08\n",
    "m = np.ones((1,63))\n",
    "m = np.array(m)\n",
    "y.m = m\n",
    "\n",
    "cons = 0.01\n",
    "m_copy = y.m.copy()\n",
    "m_copy[1] = m_copy[1] - y.delta if (m_copy[1] - y.delta)>=0 else 0.0\n",
    "minus_utility = y.adj_utiltiy_cons(m_copy,cons)\n",
    "m_copy[1] += 2*y.delta\n",
    "plus_utility = y.adj_utiltiy_cons(m_copy,cons)\n",
    "grad = (plus_utility-minus_utility) / (2*y.delta) # the math is trival"
   ]
  },
  {
   "cell_type": "code",
   "execution_count": null,
   "metadata": {
    "collapsed": false
   },
   "outputs": [],
   "source": [
    "m_copy[0,2] =0"
   ]
  },
  {
   "cell_type": "code",
   "execution_count": null,
   "metadata": {
    "collapsed": false
   },
   "outputs": [],
   "source": [
    "gs_model = GradientSearch(var_nums=63, utility=y.u, accuracy=1e-8, \n",
    "                      iterations=1, print_progress=True)\n",
    "grad = gs_model.numerical_gradient(m)"
   ]
  },
  {
   "cell_type": "code",
   "execution_count": null,
   "metadata": {
    "collapsed": false
   },
   "outputs": [],
   "source": [
    "y.utility_grad(m)\n"
   ]
  },
  {
   "cell_type": "code",
   "execution_count": null,
   "metadata": {
    "collapsed": false
   },
   "outputs": [],
   "source": [
    "y.adj_utiltiy_cons(opt_m,-0.3641)"
   ]
  },
  {
   "cell_type": "code",
   "execution_count": null,
   "metadata": {
    "collapsed": false
   },
   "outputs": [],
   "source": [
    "y.utility(m)"
   ]
  },
  {
   "cell_type": "code",
   "execution_count": null,
   "metadata": {
    "collapsed": false
   },
   "outputs": [],
   "source": [
    "[0, 15, 45, 85, 185, 285, 385][:-1]"
   ]
  },
  {
   "cell_type": "code",
   "execution_count": null,
   "metadata": {
    "collapsed": false
   },
   "outputs": [],
   "source": [
    "np.array([])"
   ]
  },
  {
   "cell_type": "code",
   "execution_count": null,
   "metadata": {
    "collapsed": false
   },
   "outputs": [],
   "source": [
    " m = np.array([0,\n",
    "0.923249731147440,\n",
    "0.754719483441788,\n",
    "1.20883338344189,\n",
    "1.04617671263710,\n",
    "1.06283596501822,\n",
    "0.764209719230075,\n",
    "1.24802827326655,\n",
    "1.21500326647379,\n",
    "1.26575432525466,\n",
    "1.22573195687188,\n",
    "1.30171212654056,\n",
    "1.25997799026830,\n",
    "1.21904674024527,\n",
    "0.403297122589292,\n",
    "1.02577454258961,\n",
    "0.994706872958886,\n",
    "1.03145446568197,\n",
    "0.994987147735444,\n",
    "1.04674007627225,\n",
    "1.01240549738639,\n",
    "1.05967813466921,\n",
    "1.02427403043297,\n",
    "1.04805524739605,\n",
    "1.01534566748373,\n",
    "1.06280539211635,\n",
    "1.02837250551094,\n",
    "1.23652106519627,\n",
    "1.20612936929712,\n",
    "0.699894190865766,\n",
    "0.436190781473611,\n",
    "0.938789054590447,\n",
    "0.924728408606642,\n",
    "0.955867322283848,\n",
    "0.930883850127116,\n",
    "0.953693393191365,\n",
    "0.929783215055321,\n",
    "0.968473638588558,\n",
    "0.949156242111391,\n",
    "0.953178704410817,\n",
    "0.929061076228053,\n",
    "0.965782081245918,\n",
    "0.944465733437724,\n",
    "0.960192293601782,\n",
    "0.938730199484934,\n",
    "0.976157870014003,\n",
    "0.897870204582257,\n",
    "0.952111435670195,\n",
    "0.928616743975446,\n",
    "0.962061864574879,\n",
    "0.941484004036435,\n",
    "0.960785148412293,\n",
    "0.936641727597721,\n",
    "0.974519294962464,\n",
    "0.871342018465326,\n",
    "0.955319684920212,\n",
    "0.933249837324057,\n",
    "0.965177720803444,\n",
    "0.937391371845865,\n",
    "1.01241586127786,\n",
    "0.305796220695870,\n",
    "0.764616402965820,\n",
    "0.181960386554750])"
   ]
  },
  {
   "cell_type": "code",
   "execution_count": null,
   "metadata": {
    "collapsed": false
   },
   "outputs": [],
   "source": [
    "opt_m = [0.8338,\n",
    "0.9868,\n",
    "0.8448,\n",
    "1.2945,\n",
    "1.0234,\n",
    "1.0398,\n",
    "0.9092,\n",
    "1.1073,\n",
    "1.0714,\n",
    "1.1788,\n",
    "1.1350,\n",
    "1.2050,\n",
    "1.1633,\n",
    "1.2114,\n",
    "0.9166,\n",
    "1.0259,\n",
    "0.9896,\n",
    "1.0291,\n",
    "0.9897,\n",
    "1.0347,\n",
    "0.9973,\n",
    "1.0505,\n",
    "1.0142,\n",
    "1.0397,\n",
    "1.0032,\n",
    "1.0530,\n",
    "1.0171,\n",
    "1.0581,\n",
    "1.0236,\n",
    "1.3148,\n",
    "1.2111,\n",
    "0.9423,\n",
    "0.9250,\n",
    "0.9618,\n",
    "0.9366,\n",
    "0.9600,\n",
    "0.9348,\n",
    "0.9787,\n",
    "0.9559,\n",
    "0.9559,\n",
    "0.9311,\n",
    "0.9708,\n",
    "0.9538,\n",
    "0.9647,\n",
    "0.9452,\n",
    "0.9838,\n",
    "0.8843,\n",
    "0.9552,\n",
    "0.9302,\n",
    "0.9693,\n",
    "0.9507,\n",
    "0.9624,\n",
    "0.9447,\n",
    "0.9815,\n",
    "0.8856,\n",
    "0.9623,\n",
    "0.9412,\n",
    "0.9776,\n",
    "0.8342,\n",
    "1.0005,\n",
    "0.9768,\n",
    "1.0889,\n",
    "0.1412]"
   ]
  },
  {
   "cell_type": "code",
   "execution_count": null,
   "metadata": {
    "collapsed": false
   },
   "outputs": [],
   "source": [
    "t = y.t\n",
    "price_list=list()\n",
    "for decision_time in range(len(t.decision_times)-1):\n",
    "    start_node,end_node = t.get_nodes_in_period(decision_time)\n",
    "    average_mit = y.u.damage.average_mitigation(m,decision_time)\n",
    "    for index in range(end_node-start_node+1):\n",
    "        index_ori =index + start_node\n",
    "        price_list.append(y.u.cost.cost(decision_time,m[index_ori],average_mit[index]))"
   ]
  },
  {
   "cell_type": "code",
   "execution_count": null,
   "metadata": {
    "collapsed": false
   },
   "outputs": [],
   "source": [
    "price_list"
   ]
  },
  {
   "cell_type": "code",
   "execution_count": null,
   "metadata": {
    "collapsed": true
   },
   "outputs": [],
   "source": []
  }
 ],
 "metadata": {
  "kernelspec": {
   "display_name": "Python 3",
   "language": "python",
   "name": "python3"
  },
  "language_info": {
   "codemirror_mode": {
    "name": "ipython",
    "version": 3
   },
   "file_extension": ".py",
   "mimetype": "text/x-python",
   "name": "python",
   "nbconvert_exporter": "python",
   "pygments_lexer": "ipython3",
   "version": "3.6.0"
  }
 },
 "nbformat": 4,
 "nbformat_minor": 2
}
