{
 "cells": [
  {
   "cell_type": "code",
   "execution_count": 1,
   "metadata": {
    "collapsed": false
   },
   "outputs": [],
   "source": [
    "import matplotlib.pyplot as plt\n",
    "\n",
    "import pickle\n",
    "import numpy as np"
   ]
  },
  {
   "cell_type": "code",
   "execution_count": 2,
   "metadata": {
    "collapsed": false
   },
   "outputs": [],
   "source": [
    "with open('sensitive_analysis_9v_100.pkl','r') as inputs:\n",
    "    data= pickle.load(inputs)\n",
    "with open('sensitive_analysis_base_renewal.pkl','r') as inputsbase:\n",
    "    data_base = pickle.load(inputsbase)"
   ]
  },
  {
   "cell_type": "code",
   "execution_count": 3,
   "metadata": {
    "collapsed": false
   },
   "outputs": [
    {
     "data": {
      "text/plain": [
       "([0, 0.0, 0.0, 0.0, 19.477, 0.0, 464.927],\n",
       " [[2.81, 4.63, 6.1], [0.6, 0.63, 0.67], [-0.25, -0.5, -0.8845498235179737]],\n",
       " array([ 0.83339259,  0.98069781,  0.84402627,  1.27182613,  1.02684928,\n",
       "         1.03964157,  0.90736933,  1.11858214,  1.08324004,  1.18013141,\n",
       "         1.14967592,  1.20614125,  1.16208183,  1.20560844,  0.92224523,\n",
       "         1.03058424,  0.99652524,  1.03183546,  0.99010228,  1.03558327,\n",
       "         1.00513466,  1.05345246,  1.0220686 ,  1.0405148 ,  1.00509389,\n",
       "         1.05394844,  1.01817047,  1.06700707,  1.03295254,  1.31407542,\n",
       "         1.19432648,  0.94356203,  0.92529425,  0.96486526,  0.94042373,\n",
       "         0.96090634,  0.93639369,  0.97642025,  0.95157668,  0.95819144,\n",
       "         0.93330666,  0.97191128,  0.943138  ,  0.97222063,  0.94462574,\n",
       "         0.98841155,  0.88343373,  0.95482889,  0.93013367,  0.96837803,\n",
       "         0.94915521,  0.96387682,  0.94315145,  0.98278954,  0.88423962,\n",
       "         0.96068415,  0.93946215,  0.9765367 ,  0.89206778,  0.99608591,\n",
       "         0.97612332,  1.09930739,  0.05203352]),\n",
       " 9.4910213827850978,\n",
       " [202.4471957872862,\n",
       "  239.01188931436903,\n",
       "  166.39566032661983,\n",
       "  284.39117679173739,\n",
       "  169.70617322779515,\n",
       "  174.85263709386638,\n",
       "  125.91138233230666,\n",
       "  113.97688671292761,\n",
       "  105.48043210912098,\n",
       "  129.70274610689276,\n",
       "  121.77263876872395,\n",
       "  136.70833060125346,\n",
       "  124.96758308381753,\n",
       "  136.56265306837344,\n",
       "  71.541098058050096,\n",
       "  20.633586492909743,\n",
       "  19.026395284040088,\n",
       "  20.694086070699807,\n",
       "  18.731830619013998,\n",
       "  20.875924262007626,\n",
       "  19.425461719889132,\n",
       "  21.755751856482,\n",
       "  20.224583823910805,\n",
       "  21.11661496727384,\n",
       "  19.423560781193,\n",
       "  21.78047634383535,\n",
       "  20.038956415347556,\n",
       "  22.437369111647797,\n",
       "  20.748187726335079,\n",
       "  37.088136110883859,\n",
       "  29.451145099608002,\n",
       "  3.6791576481455115,\n",
       "  3.5096241036660905,\n",
       "  3.8828030761943744,\n",
       "  3.6496993132218076,\n",
       "  3.8444718945290326,\n",
       "  3.6120736977811374,\n",
       "  3.995957243102195,\n",
       "  3.7550191236143604,\n",
       "  3.8183141881011609,\n",
       "  3.583406583240464,\n",
       "  3.9515759300118223,\n",
       "  3.6751693115487187,\n",
       "  3.9546115215939852,\n",
       "  3.6891739556875613,\n",
       "  4.1154017247116652,\n",
       "  3.1386659439219904,\n",
       "  3.7860613545954869,\n",
       "  3.5540805031172682,\n",
       "  3.9170011678180803,\n",
       "  3.7320034835142701,\n",
       "  3.8732119230808562,\n",
       "  3.6752957531611798,\n",
       "  4.0591447754861765,\n",
       "  3.1455792063871204,\n",
       "  3.8423271368361056,\n",
       "  3.6407010095522456,\n",
       "  3.9971072996428894,\n",
       "  3.2131967064620768,\n",
       "  4.1929285078600964,\n",
       "  3.9930256914543869,\n",
       "  5.3192180163679037,\n",
       "  0.0033807933590130359])"
      ]
     },
     "execution_count": 3,
     "metadata": {},
     "output_type": "execute_result"
    }
   ],
   "source": [
    "data[0]"
   ]
  },
  {
   "cell_type": "code",
   "execution_count": 6,
   "metadata": {
    "collapsed": false
   },
   "outputs": [
    {
     "data": {
      "text/plain": [
       "([0, 0.0, 0.0, 0.0, 17.908, 0.0, 444.639],\n",
       " [[2.81, 4.63, 6.1], [0.6, 0.63, 0.67], [-0.25, -0.5, -0.9026618876875466]],\n",
       " array([ 0.83164041,  0.9841929 ,  0.84325011,  1.27950079,  1.02573756,\n",
       "         1.03816967,  0.90870179,  1.11703266,  1.0895584 ,  1.17808651,\n",
       "         1.14490599,  1.2025475 ,  1.16257051,  1.20659197,  0.92493805,\n",
       "         1.02372337,  0.98581051,  1.02120007,  0.98396186,  1.03187058,\n",
       "         0.99687471,  1.04212967,  1.00753031,  1.04311421,  1.00953462,\n",
       "         1.05091653,  1.01561225,  1.06701581,  1.03083672,  1.30877666,\n",
       "         1.1723557 ,  0.9426852 ,  0.92439662,  0.96161414,  0.93787309,\n",
       "         0.96086146,  0.93545236,  0.97206446,  0.94532862,  0.95564852,\n",
       "         0.93153809,  0.96789867,  0.94834761,  0.96263391,  0.94250766,\n",
       "         0.98446554,  0.87888664,  0.95857951,  0.93498567,  0.97764775,\n",
       "         0.94677336,  0.96375647,  0.94243424,  0.98331594,  0.88524244,\n",
       "         0.9632425 ,  0.94268725,  0.98392157,  0.89372363,  0.9998511 ,\n",
       "         0.9757915 ,  1.12287932,  0.10696634]),\n",
       " 9.4919884618137473,\n",
       " [201.42165540257508,\n",
       "  241.07248385316842,\n",
       "  166.02667414335269,\n",
       "  288.54984138946128,\n",
       "  169.26316917024556,\n",
       "  174.25588889955111,\n",
       "  126.35800892056557,\n",
       "  113.59628654052128,\n",
       "  106.97115391719869,\n",
       "  129.16110003303038,\n",
       "  120.55709704824945,\n",
       "  135.72751555261704,\n",
       "  125.09442870514346,\n",
       "  136.83163276968216,\n",
       "  72.046187321679341,\n",
       "  20.303686510666001,\n",
       "  18.536503822960182,\n",
       "  20.183138032222477,\n",
       "  18.452737108446247,\n",
       "  20.695786001897762,\n",
       "  19.042499621430686,\n",
       "  21.195782283188361,\n",
       "  19.537369142738033,\n",
       "  21.244133650919686,\n",
       "  19.631285558323096,\n",
       "  21.62959377773738,\n",
       "  19.91767928817012,\n",
       "  22.437812584406576,\n",
       "  20.645786282483495,\n",
       "  36.72829697843337,\n",
       "  28.1607730761982,\n",
       "  3.6709131963185713,\n",
       "  3.501414174115129,\n",
       "  3.8513085876735773,\n",
       "  3.6258592665495271,\n",
       "  3.8440385905456598,\n",
       "  3.6033180023512323,\n",
       "  3.9530789341136532,\n",
       "  3.6958011684668168,\n",
       "  3.7939082796229648,\n",
       "  3.5670432696898247,\n",
       "  3.9123241149599273,\n",
       "  3.7243457955511019,\n",
       "  3.8611712581331989,\n",
       "  3.6692451677596822,\n",
       "  4.0758683278715697,\n",
       "  3.0998258400697623,\n",
       "  3.8220467546612009,\n",
       "  3.5989817858007016,\n",
       "  4.0080896891637776,\n",
       "  3.70944518800099,\n",
       "  3.8720450132736079,\n",
       "  3.6685554402378271,\n",
       "  4.0643929987866194,\n",
       "  3.1541943405607848,\n",
       "  3.8670642028822058,\n",
       "  3.6709323917475603,\n",
       "  4.0704360520068938,\n",
       "  3.2276074840715587,\n",
       "  4.231274861447222,\n",
       "  3.9897511698938195,\n",
       "  5.598620403537411,\n",
       "  0.019239805414422315])"
      ]
     },
     "execution_count": 6,
     "metadata": {},
     "output_type": "execute_result"
    }
   ],
   "source": [
    "data[3]"
   ]
  },
  {
   "cell_type": "code",
   "execution_count": 4,
   "metadata": {
    "collapsed": false
   },
   "outputs": [],
   "source": [
    "# -- coding utf-8 --\n",
    "\n",
    "#Created on Fri Jun 16 151644 2017\n",
    "#@author Ted Yang\n",
    "\n",
    "\n",
    "import datetime as dt\n",
    "from tree import TreeModel\n",
    "from bau import DLWBusinessAsUsual\n",
    "from cost import DLWCost\n",
    "from damage import DLWDamage\n",
    "from utility import EZUtility\n",
    "from optimization import GeneticAlgorithm, GradientSearch\n",
    "import numpy as np\n",
    "class matlabmode():\n",
    "    def __init__(self):\n",
    "        '''init the class with default settings:\n",
    "        1. decision time is set to [0, 15, 45, 85, 185, 285, 385]\n",
    "        2. cost is using default x60 = 0.543, x100 = 0.671 and euro to dollar exchange rate = 1.2\n",
    "        3. In the back stop tech model, join price is set to 2000, max prive is set to 2500, phi_0 = 1.5, phi_1 = 0 and constant = 30460\n",
    "        3. constant growth of consumption is set to 0.015, subinterval length is 5 and ghg levels are 450,650,1000.\n",
    "        4. Draws of simulation  = 4000000\n",
    "        5. Disaster model's set up is  peak_temperature=6.0, disaster_tail=18.0. \n",
    "        6. Damage is simulated by pindcyk method with time to hit the max temperature = 100\n",
    "        7. In utility, the parameter rho from the DLW-paper is set to 1-1/0.9, alpha is set to -6 and beta is set to 0.995^5 '''\n",
    "\n",
    "        t = TreeModel(decision_times=[0, 15, 45, 85, 185, 285, 385])\n",
    "        bau_default_model = DLWBusinessAsUsual()\n",
    "        bau_default_model.bau_emissions_setup(tree=t)\n",
    "        c = DLWCost(t, bau_default_model.emit_level[0], g=92.08, a=3.413, join_price=2000.0, max_price=2500.0,\n",
    "                        tech_const=1.5, tech_scale=0.0, cons_at_0=30460.0)\n",
    "        df = DLWDamage(tree=t, bau=bau_default_model, cons_growth=0.015, ghg_levels=[450, 650, 1000], subinterval_len=5)    \n",
    "        df.damage_simulation(draws=4000000, peak_temp=6.0, disaster_tail=18.0, tip_on=True, \n",
    "                                 temp_map=0, temp_dist_params=None, maxh=100.0)\n",
    "        u = EZUtility(tree=t, damage=df, cost=c, period_len=5.0, eis=0.9, ra=7.0, time_pref=0.005)\n",
    "        self.u = u\n",
    "\n",
    "    def get_start_point(self):\n",
    "        #use GA to get the start point for local optimizer\n",
    "        ga_model = GeneticAlgorithm(pop_amount=150, num_generations=1, cx_prob=0.8, mut_prob=0.5, \n",
    "                              bound=1.5, num_feature=63, utility=self.u, print_progress=True) \n",
    "        final_pop, fitness = ga_model.run()\n",
    "        sort_pop = final_pop[np.argsort(fitness)][::-1]\n",
    "        begin_pop = final_pop[np.argsort(fitness)][-1]\n",
    "        return sort_pop,begin_pop\n",
    "\n",
    "    def utility_grad(self,m):\n",
    "        #use finite differenciation to gradient and utility\n",
    "        m = np.array(m)\n",
    "        gs_model = GradientSearch(var_nums=63, utility=self.u, accuracy=1e-8, \n",
    "                              iterations=1, print_progress=True)\n",
    "        grad = gs_model.numerical_gradient(m)\n",
    "        return self.u.utility(m),grad\n",
    "\n",
    "    def grad(self,m):\n",
    "        #use finite differenciation to gradient and utility\n",
    "        m = np.array(m)\n",
    "        gs_model = GradientSearch(var_nums=63, utility=self.u, accuracy=1e-8, \n",
    "                              iterations=1, print_progress=True)\n",
    "        grad = gs_model.numerical_gradient(m)\n",
    "        return grad\n",
    "\n",
    "    def utility(self,m):\n",
    "        # get utility from utlity class\n",
    "        m = np.array(m)\n",
    "        #result_array=np.array([])\n",
    "        # if m.ndim ==1:\n",
    "        return self.u.utility(m)\n",
    "            \n",
    "        # else:\n",
    "        #     row= 10\n",
    "        #     for row_index in range(row):\n",
    "        #         result_array= np.append(result_array,self.u.utility(m[row_index,:]))\n",
    "        #     return result_array\n",
    "    def GS(self,m):\n",
    "    \t#m = np.array(m)\n",
    "        gs_model = GradientSearch(var_nums=63, utility=self.u, accuracy=1e-8, \n",
    "                              iterations=1, print_progress=True)\n",
    "    \tm_opt, u_opt = gs_model.run(initial_point_list=m, topk=1)\n",
    "    \treturn m_opt,u_opt\n",
    "\n",
    "def get_start(y):\n",
    "    return y.get_start_point()\n",
    "\n",
    "def get_u_g(m,y):\n",
    "    return y.utility_grad(m)\n",
    "\n",
    "def get_u(m,y):\n",
    "    return y.utility(m)\n",
    "\n",
    "def get_g(m,y):\n",
    "    return y.grad(m)\n",
    "    \n",
    "def call_gs(m,y):\n",
    "\treturn y.GS(m)"
   ]
  },
  {
   "cell_type": "code",
   "execution_count": 5,
   "metadata": {
    "collapsed": false,
    "scrolled": false
   },
   "outputs": [
    {
     "name": "stdout",
     "output_type": "stream",
     "text": [
      "Starting damage simulation..\n",
      "Done!\n"
     ]
    }
   ],
   "source": [
    "y = matlabmode()"
   ]
  },
  {
   "cell_type": "code",
   "execution_count": 6,
   "metadata": {
    "collapsed": false,
    "scrolled": true
   },
   "outputs": [
    {
     "name": "stdout",
     "output_type": "stream",
     "text": [
      "----------------Genetic Evolution Starting----------------\n",
      "-- Generation 1 --\n",
      " Min 3.35607767826e-15 \n",
      " Max 8.55134629682 \n",
      " Avg 7.39517060877\n",
      " Std 2.2013072536 \n",
      " Population Size 150\n",
      " Best Individual:  [ 0.85636267  1.08859521  1.09360196  0.68851739  1.43744154  0.26646038\n",
      "  0.55788051  1.16521025  0.32861535  0.21658191  0.87448126  0.52459373\n",
      "  0.51403673  0.95690903  0.65488361  1.01638218  0.68795922  1.37554654\n",
      "  1.11105053  0.41189844  1.16018619  0.04884516  0.97668773  1.08767812\n",
      "  0.28296206  1.34701726  0.98423544  0.48751363  0.88106791  0.4895983\n",
      "  1.23397963  0.85392363  1.19602634  0.09020346  0.775204    1.1161146\n",
      "  1.07979812  1.007442    1.4113279   0.72667251  1.42995766  1.45156783\n",
      "  0.45299493  0.05954894  0.46133719  1.17648982  0.31310729  0.4837061\n",
      "  1.04905967  0.92308716  1.15795716  0.69303871  0.86032862  0.8860074\n",
      "  1.20969554  0.50795306  0.41058159  0.28117515  0.81849397  1.46412066\n",
      "  0.30755213  0.54505347  0.3458119 ]\n"
     ]
    }
   ],
   "source": [
    "x1 = y.get_start_point()[0]"
   ]
  },
  {
   "cell_type": "code",
   "execution_count": null,
   "metadata": {
    "collapsed": false
   },
   "outputs": [],
   "source": [
    "x = get_g(data_base[0][1],y)"
   ]
  },
  {
   "cell_type": "code",
   "execution_count": 8,
   "metadata": {
    "collapsed": true
   },
   "outputs": [],
   "source": [
    "gs_model = GradientSearch(var_nums=63, utility=y.u, accuracy=1e-8, \n",
    "                      iterations=1, print_progress=True)"
   ]
  },
  {
   "cell_type": "code",
   "execution_count": 10,
   "metadata": {
    "collapsed": false
   },
   "outputs": [
    {
     "name": "stdout",
     "output_type": "stream",
     "text": [
      "----------------Gradient Search Starting----------------\n",
      "Starting process 1 of Gradient Descent\n",
      "-- Iteration 1 -- \n",
      " Current Utility: 8.67462237354\n",
      "[ 0.88723083  1.13260687  1.00849216  0.70608165  1.37453865  0.34545208\n",
      "  0.59154862  1.17079882  0.44935561  0.35507893  0.92308466  0.5909344\n",
      "  0.53102939  0.97015276  0.65523253  1.11632077  0.7586037   1.42124087\n",
      "  1.11502082  0.45593677  1.17226848  0.06491383  0.97185119  1.11192001\n",
      "  0.2859927   1.35172843  0.98429726  0.49968544  0.8845851   0.49168796\n",
      "  1.2329735   0.93222625  1.16503625  0.10022462  0.77916043  1.13293075\n",
      "  1.08137779  1.00884115  1.41170947  0.73629346  1.43108103  1.45520132\n",
      "  0.4536139   0.06200777  0.46196189  1.16882262  0.31336842  0.49284798\n",
      "  1.05000732  0.92367283  1.15801898  0.69555936  0.86079545  0.88631568\n",
      "  1.2097451   0.51051768  0.41104602  0.28203326  0.81873884  1.46460534\n",
      "  0.30760822  0.54529674  0.34581031]\n"
     ]
    },
    {
     "data": {
      "text/plain": [
       "(array([ 0.88723083,  1.13260687,  1.00849216,  0.70608165,  1.37453865,\n",
       "         0.34545208,  0.59154862,  1.17079882,  0.44935561,  0.35507893,\n",
       "         0.92308466,  0.5909344 ,  0.53102939,  0.97015276,  0.65523253,\n",
       "         1.11632077,  0.7586037 ,  1.42124087,  1.11502082,  0.45593677,\n",
       "         1.17226848,  0.06491383,  0.97185119,  1.11192001,  0.2859927 ,\n",
       "         1.35172843,  0.98429726,  0.49968544,  0.8845851 ,  0.49168796,\n",
       "         1.2329735 ,  0.93222625,  1.16503625,  0.10022462,  0.77916043,\n",
       "         1.13293075,  1.08137779,  1.00884115,  1.41170947,  0.73629346,\n",
       "         1.43108103,  1.45520132,  0.4536139 ,  0.06200777,  0.46196189,\n",
       "         1.16882262,  0.31336842,  0.49284798,  1.05000732,  0.92367283,\n",
       "         1.15801898,  0.69555936,  0.86079545,  0.88631568,  1.2097451 ,\n",
       "         0.51051768,  0.41104602,  0.28203326,  0.81873884,  1.46460534,\n",
       "         0.30760822,  0.54529674,  0.34581031]), 8.6746223735438992)"
      ]
     },
     "execution_count": 10,
     "metadata": {},
     "output_type": "execute_result"
    }
   ],
   "source": [
    "y.GS(x1)"
   ]
  },
  {
   "cell_type": "code",
   "execution_count": null,
   "metadata": {
    "collapsed": false
   },
   "outputs": [],
   "source": [
    "m_t ='0.903879483936320\t0.363429068455808\t0.573327240626552\t0.0850219497695642\t0.127874993703247\t0.151525814276405\t0.986035915775205\t0.441265495420156\t0.253154179460103\t0.259564792863577\t0.208161562363009\t0.970540857097490\t0.238359398568151\t0.499152902151700\t0.103887581572938\t0.658739874492949\t0.324901334269585\t0.451424347985208\t0.710026998770444\t0.456196085863435\t0.684419923385944\t0.332973836377714\t0.586519259498864\t0.465674496830032\t0.0815914315352912\t0.538194558630774\t0.436857638848319\t0.278769651601049\t0.671906328164850\t0.740574089171126\t0.263478154559095\t0.942635530215477\t0.356542711325427\t0.488581908426025\t0.800536830135403\t1.00022306144958\t0.585262881612693\t0.484230928649010\t0.502892700949846\t1.01978165009667\t0.356470822280127\t0.415975369598411\t0.307999109033091\t0.500391313498943\t0.596831059714939\t0.275277760971193\t0.544947252465684\t1.23307277447374\t0.399846165964901\t0.312025859552821\t0.450329423966375\t0.684139523296810\t0.583741012653225\t0.687064299034125\t0.725676286975953\t0.672343227494014\t0.719600490885657\t0.544693552923714\t0.340558030615798\t0.236754044020643\t0.690846411134270\t0.721410828755815\t0.991257284346195'"
   ]
  },
  {
   "cell_type": "code",
   "execution_count": null,
   "metadata": {
    "collapsed": false
   },
   "outputs": [],
   "source": [
    "list1=m_t.split('\\t')"
   ]
  },
  {
   "cell_type": "code",
   "execution_count": null,
   "metadata": {
    "collapsed": false
   },
   "outputs": [],
   "source": [
    "len(list1)"
   ]
  },
  {
   "cell_type": "code",
   "execution_count": null,
   "metadata": {
    "collapsed": false
   },
   "outputs": [],
   "source": [
    "np.linalg.norm(list1)"
   ]
  },
  {
   "cell_type": "code",
   "execution_count": null,
   "metadata": {
    "collapsed": false
   },
   "outputs": [],
   "source": [
    "data_base[0][1]"
   ]
  },
  {
   "cell_type": "code",
   "execution_count": null,
   "metadata": {
    "collapsed": true
   },
   "outputs": [],
   "source": [
    "def get_price_stat_ave(data,decision_times): #period average for each sample\n",
    "    mitigation = []\n",
    "    utility = []\n",
    "    price = []\n",
    "    a650 = []\n",
    "    from tree import TreeModel \n",
    "    for i in range(len(data)): #load corresponding results\n",
    "        mitigation.append(data[i][-3])\n",
    "        utility.append(data[i][-2])\n",
    "        price.append(data[i][-1])\n",
    "        #a650.append(data[i][2])\n",
    "    #print(np.mean(a650))\n",
    "    \n",
    "    t = TreeModel(decision_times)\n",
    "    nodes_index = []\n",
    "    for i in range(t.num_periods):\n",
    "        nodes_index.append(t.get_nodes_in_period(i)) #get nodes for slicing\n",
    "    price_stat_ave = np.zeros((len(data), t.num_periods))\n",
    "    for i in range(len(data)):\n",
    "        for j in range(t.num_periods):\n",
    "            price_stat_ave[i,j] = np.average(data[i][-1][nodes_index[j][0]:nodes_index[j][1]+1])\n",
    "    return price_stat_ave\n",
    "\n",
    "def get_90_quantile(price_stat_ave):\n",
    "    list0 = price_stat_ave[:,0]\n",
    "    list1 = price_stat_ave[:,1]\n",
    "    list2 = price_stat_ave[:,2]\n",
    "    list3 = price_stat_ave[:,3]\n",
    "    list4 = price_stat_ave[:,4]\n",
    "    list5 = price_stat_ave[:,5]\n",
    "    list_ = [list0,list1,list2,list3,list4,list5]\n",
    "    fivepercent = int(len(list0)*0.05)\n",
    "    for i in range(len(list_)):\n",
    "        list_[i]=np.sort(list_[i])[fivepercent:-fivepercent] #take the 90% of the sorted results\n",
    "    list_min = []\n",
    "    list_max = []\n",
    "    for i in list_:\n",
    "        list_min.append(i[0])\n",
    "        list_max.append(i[-1])   \n",
    "    return list_min,list_max #take the lower and upper bounds for the test results"
   ]
  },
  {
   "cell_type": "code",
   "execution_count": null,
   "metadata": {
    "collapsed": false
   },
   "outputs": [],
   "source": [
    "decision_times=[0, 15, 45, 85, 185, 285, 385]\n",
    "price_stat_ave= get_price_stat_ave(data,decision_times)\n",
    "price_stat_ave_base =get_price_stat_ave(data_base,decision_times)\n",
    "\n",
    "list_min,list_max = get_90_quantile(price_stat_ave)\n",
    "plt.figure()\n",
    "plt.plot(decision_times[:-1],list_min, 'r--')\n",
    "plt.plot(decision_times[:-1],list_max,'r--')\n",
    "plt.plot(decision_times[:-1],price_stat_ave_base[0,:],'b')\n",
    "plt.title('Sensitivity Analysis for Variable theta1000', size ='xx-large')\n",
    "plt.ylabel('Price in $', size = 'x-large')\n",
    "plt.xlabel('Period Index', size = 'x-large')\n",
    "\n",
    "plt.savefig('sensitivity_analysis_theta1000')\n",
    "#plt.xlim(decision_times)"
   ]
  },
  {
   "cell_type": "code",
   "execution_count": null,
   "metadata": {
    "collapsed": false
   },
   "outputs": [],
   "source": [
    "plt.show()"
   ]
  },
  {
   "cell_type": "code",
   "execution_count": null,
   "metadata": {
    "collapsed": true
   },
   "outputs": [],
   "source": []
  }
 ],
 "metadata": {
  "kernelspec": {
   "display_name": "python2.7",
   "language": "python",
   "name": "python2.7"
  },
  "language_info": {
   "codemirror_mode": {
    "name": "ipython",
    "version": 2
   },
   "file_extension": ".py",
   "mimetype": "text/x-python",
   "name": "python",
   "nbconvert_exporter": "python",
   "pygments_lexer": "ipython2",
   "version": "2.7.13"
  }
 },
 "nbformat": 4,
 "nbformat_minor": 2
}
