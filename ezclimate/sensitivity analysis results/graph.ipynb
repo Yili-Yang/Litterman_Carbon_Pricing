{
 "cells": [
  {
   "cell_type": "code",
   "execution_count": 1,
   "metadata": {
    "collapsed": false
   },
   "outputs": [],
   "source": [
    "import matplotlib.pyplot as plt\n",
    "\n",
    "import pickle\n",
    "import numpy as np"
   ]
  },
  {
   "cell_type": "code",
   "execution_count": 2,
   "metadata": {
    "collapsed": false
   },
   "outputs": [],
   "source": [
    "with open('sensitive_analysis_9v_100.pkl','r') as inputs:\n",
    "    data= pickle.load(inputs)\n",
    "with open('sensitive_analysis_base_renewal.pkl','r') as inputsbase:\n",
    "    data_base = pickle.load(inputsbase)"
   ]
  },
  {
   "cell_type": "code",
   "execution_count": 16,
   "metadata": {
    "collapsed": false
   },
   "outputs": [
    {
     "data": {
      "text/plain": [
       "[([0, 0.0, 0.016, 0.0, 20.596, 0.0, 467.399],\n",
       "  array([ 0.83008905,  0.9817648 ,  0.84516012,  1.27475337,  1.0244052 ,\n",
       "          1.03909195,  0.90698106,  1.12186177,  1.09019655,  1.18141355,\n",
       "          1.13557453,  1.20591082,  1.16437795,  1.20458391,  0.92221481,\n",
       "          1.02384782,  0.98053089,  1.02204561,  0.98350538,  1.03463193,\n",
       "          0.99621408,  1.04990327,  1.01224988,  1.03877083,  1.0030059 ,\n",
       "          1.05309382,  1.01533787,  1.0672604 ,  1.031859  ,  1.31708905,\n",
       "          1.20937849,  0.93862589,  0.92277154,  0.95910073,  0.93632036,\n",
       "          0.95944327,  0.93563764,  0.97310095,  0.94753735,  0.9559655 ,\n",
       "          0.9310757 ,  0.9718174 ,  0.95279428,  0.96421669,  0.94645136,\n",
       "          0.98412578,  0.88442933,  0.95401891,  0.92983628,  0.96817022,\n",
       "          0.94927958,  0.96347038,  0.94350084,  0.98101486,  0.88842749,\n",
       "          0.96121446,  0.94017485,  0.97685718,  0.8919154 ,  0.99293843,\n",
       "          0.97050499,  1.08664179,  0.14972177]),\n",
       "  9.4915710578994563,\n",
       "  [200.51619871763413,\n",
       "   239.63985855619046,\n",
       "   166.93555622468753,\n",
       "   285.97319029572753,\n",
       "   168.73312873083853,\n",
       "   174.62966677687388,\n",
       "   125.78141418345473,\n",
       "   114.78492138179016,\n",
       "   107.12239715188718,\n",
       "   130.04303395829857,\n",
       "   118.19974531588639,\n",
       "   136.64531645112658,\n",
       "   125.56423306997331,\n",
       "   136.28278946588932,\n",
       "   71.535403085458356,\n",
       "   20.309642835839234,\n",
       "   18.297860394017626,\n",
       "   20.223485882581897,\n",
       "   18.432086917431747,\n",
       "   20.829678134486247,\n",
       "   19.012062910432611,\n",
       "   21.579305833053326,\n",
       "   19.75893545796443,\n",
       "   21.031313007636015,\n",
       "   19.326337180258765,\n",
       "   21.737883998612958,\n",
       "   19.904697453535711,\n",
       "   22.45022557755939,\n",
       "   20.695225176714665,\n",
       "   37.29370878190371,\n",
       "   30.354768802430751,\n",
       "   3.6328859005527061,\n",
       "   3.4865795490431344,\n",
       "   3.8270634107962866,\n",
       "   3.6113911479319949,\n",
       "   3.8303623875782149,\n",
       "   3.6050403559437871,\n",
       "   3.9632575641322929,\n",
       "   3.7166721312151441,\n",
       "   3.796945535939142,\n",
       "   3.5627723941090546,\n",
       "   3.9506549611157,\n",
       "   3.7666235771531063,\n",
       "   3.8765082339164088,\n",
       "   3.7064017255788357,\n",
       "   4.072474821967659,\n",
       "   3.1472079767515933,\n",
       "   3.778316101130923,\n",
       "   3.5513391191698647,\n",
       "   3.9149731960302923,\n",
       "   3.7331835484649973,\n",
       "   3.8692721267175165,\n",
       "   3.6785820264527911,\n",
       "   4.0414803868627489,\n",
       "   3.1816481744003933,\n",
       "   3.8474471196522826,\n",
       "   3.6473691247093938,\n",
       "   4.0002733216364526,\n",
       "   3.211872477486772,\n",
       "   4.1610299920484142,\n",
       "   3.9377933074981843,\n",
       "   5.1725391335680149,\n",
       "   0.043310168874878117])]"
      ]
     },
     "execution_count": 16,
     "metadata": {},
     "output_type": "execute_result"
    }
   ],
   "source": [
    "data_base"
   ]
  },
  {
   "cell_type": "code",
   "execution_count": 7,
   "metadata": {
    "collapsed": false
   },
   "outputs": [],
   "source": [
    "import datetime as dt\n",
    "from tree import TreeModel\n",
    "from bau import DLWBusinessAsUsual\n",
    "from cost import DLWCost\n",
    "from damage import DLWDamage\n",
    "from utility import EZUtility\n",
    "from optimization import GeneticAlgorithm, GradientSearch\n",
    "import numpy as np\n",
    "class matlabmode():\n",
    "    def __init__(self):\n",
    "        '''init the class with default settings:\n",
    "        1. decision time is set to [0, 15, 45, 85, 185, 285, 385]\n",
    "        2. cost is using default x60 = 0.543, x100 = 0.671 and euro to dollar exchange rate = 1.2\n",
    "        3. In the back stop tech model, join price is set to 2000, max prive is set to 2500, phi_0 = 1.5, phi_1 = 0 and constant = 30460\n",
    "        3. constant growth of consumption is set to 0.015, subinterval length is 5 and ghg levels are 450,650,1000.\n",
    "        4. Draws of simulation  = 4000000\n",
    "        5. Disaster model's set up is  peak_temperature=6.0, disaster_tail=18.0. \n",
    "        6. Damage is simulated by pindcyk method with time to hit the max temperature = 100\n",
    "        7. In utility, the parameter rho from the DLW-paper is set to 1-1/0.9, alpha is set to -6 and beta is set to 0.995^5 '''\n",
    "\n",
    "        t = TreeModel(decision_times=[0, 15, 45, 85, 185, 285, 385])\n",
    "        bau_default_model = DLWBusinessAsUsual()\n",
    "        bau_default_model.bau_emissions_setup(tree=t)\n",
    "        c = DLWCost(t, bau_default_model.emit_level[0], g=92.08, a=3.413, join_price=2000.0, max_price=2500.0,\n",
    "                        tech_const=1.5, tech_scale=0.0, cons_at_0=30460.0)\n",
    "        df = DLWDamage(tree=t, bau=bau_default_model, cons_growth=0.015, ghg_levels=[450, 650, 1000], subinterval_len=5)    \n",
    "        df.damage_simulation(draws=4000000, peak_temp=6.0, disaster_tail=18.0, tip_on=True, \n",
    "                                 temp_map=0, temp_dist_params=None, maxh=100.0)\n",
    "        u = EZUtility(tree=t, damage=df, cost=c, period_len=5.0, eis=0.9, ra=7.0, time_pref=0.005)\n",
    "        self.u = u\n",
    "\n",
    "    def get_start_point(self):\n",
    "        #use GA to get the start point for local optimizer\n",
    "        ga_model = GeneticAlgorithm(pop_amount=150, num_generations=1, cx_prob=0.8, mut_prob=0.5, \n",
    "                              bound=1.5, num_feature=63, utility=self.u, print_progress=True) \n",
    "        final_pop, fitness = ga_model.run()\n",
    "        sort_pop = final_pop[np.argsort(fitness)][::-1]\n",
    "        return sort_pop\n",
    "\n",
    "    def utility_grad(self,m):\n",
    "        #use finite differenciation to gradient and utility\n",
    "        m = np.array(m)\n",
    "        gs_model = GradientSearch(var_nums=63, utility=self.u, accuracy=1e-8, \n",
    "                              iterations=1, print_progress=True)\n",
    "        grad = gs_model.numerical_gradient(m)\n",
    "        return self.u.utility(m),grad\n",
    "\n",
    "    def grad(self,m):\n",
    "        #use finite differenciation to gradient and utility\n",
    "        m = np.array(m)\n",
    "        gs_model = GradientSearch(var_nums=63, utility=self.u, accuracy=1e-8, \n",
    "                              iterations=1, print_progress=True)\n",
    "        grad = gs_model.numerical_gradient(m)\n",
    "        return grad\n",
    "\n",
    "    def utility(self,m):\n",
    "        # get utility from utlity class\n",
    "        m = np.array(m)\n",
    "        #result_array=np.array([])\n",
    "        # if m.ndim ==1:\n",
    "        return self.u.utility(m)\n",
    "            \n",
    "        # else:\n",
    "        #     row= 10\n",
    "        #     for row_index in range(row):\n",
    "        #         result_array= np.append(result_array,self.u.utility(m[row_index,:]))\n",
    "        #     return result_array\n",
    "\n",
    "def get_start(y):\n",
    "    return y.get_start_point()\n",
    "\n",
    "def get_u_g(m,y):\n",
    "    return y.utility_grad(m)\n",
    "\n",
    "def get_u(m,y):\n",
    "    return y.utility(m)\n",
    "\n",
    "def get_g(m,y):\n",
    "    return y.grad(m)"
   ]
  },
  {
   "cell_type": "code",
   "execution_count": 8,
   "metadata": {
    "collapsed": false,
    "scrolled": false
   },
   "outputs": [
    {
     "name": "stdout",
     "output_type": "stream",
     "text": [
      "Starting damage simulation..\n",
      "Done!\n"
     ]
    }
   ],
   "source": [
    "y = matlabmode()"
   ]
  },
  {
   "cell_type": "code",
   "execution_count": 9,
   "metadata": {
    "collapsed": false,
    "scrolled": true
   },
   "outputs": [
    {
     "name": "stdout",
     "output_type": "stream",
     "text": [
      "----------------Genetic Evolution Starting----------------\n",
      "-- Generation 1 --\n",
      " Min 3.35298088992e-15 \n",
      " Max 8.69671823904 \n",
      " Avg 7.40813511098\n",
      " Std 2.11139523576 \n",
      " Population Size 150\n",
      " Best Individual:  [  2.32545812e-01   1.02546701e+00   3.34514633e-01   1.38908617e+00\n",
      "   1.09278206e+00   7.25973125e-01   1.73954229e-01   9.71546048e-01\n",
      "   2.14879049e-01   1.29332924e+00   8.61332659e-02   4.01065069e-01\n",
      "   1.07733168e+00   1.44106712e+00   6.24649964e-01   1.29455098e+00\n",
      "   7.77904778e-01   5.93550137e-01   7.23745556e-01   7.57567836e-01\n",
      "   1.13555481e+00   1.13843975e+00   2.95739465e-01   7.79466584e-01\n",
      "   4.29628398e-01   1.28528544e+00   1.22251968e+00   1.00634622e+00\n",
      "   1.26347063e+00   7.55338893e-01   3.27449434e-01   7.95825640e-01\n",
      "   1.64215439e-01   5.42924091e-01   6.17393032e-01   4.51517284e-02\n",
      "   1.13740941e+00   6.96865287e-01   1.35456466e-01   1.75195071e-01\n",
      "   1.06053450e+00   9.90789899e-01   8.83873607e-01   9.15247953e-01\n",
      "   1.01071892e+00   5.97801938e-02   1.38923973e+00   6.39609237e-01\n",
      "   4.53002711e-01   1.00000000e-05   1.10799277e+00   7.68028695e-01\n",
      "   1.31752851e-01   1.28599461e+00   7.18186171e-01   8.29121420e-01\n",
      "   6.89084607e-02   7.45738384e-01   4.28983912e-01   1.15814746e+00\n",
      "   1.47323523e+00   2.15753112e-01   1.35628476e+00]\n"
     ]
    }
   ],
   "source": [
    "x1 = y.get_start_point()"
   ]
  },
  {
   "cell_type": "code",
   "execution_count": 11,
   "metadata": {
    "collapsed": false
   },
   "outputs": [
    {
     "data": {
      "text/plain": [
       "array([[  2.32545812e-01,   1.02546701e+00,   3.34514633e-01,\n",
       "          1.38908617e+00,   1.09278206e+00,   7.25973125e-01,\n",
       "          1.73954229e-01,   9.71546048e-01,   2.14879049e-01,\n",
       "          1.29332924e+00,   8.61332659e-02,   4.01065069e-01,\n",
       "          1.07733168e+00,   1.44106712e+00,   6.24649964e-01,\n",
       "          1.29455098e+00,   7.77904778e-01,   5.93550137e-01,\n",
       "          7.23745556e-01,   7.57567836e-01,   1.13555481e+00,\n",
       "          1.13843975e+00,   2.95739465e-01,   7.79466584e-01,\n",
       "          4.29628398e-01,   1.28528544e+00,   1.22251968e+00,\n",
       "          1.00634622e+00,   1.26347063e+00,   7.55338893e-01,\n",
       "          3.27449434e-01,   7.95825640e-01,   1.64215439e-01,\n",
       "          5.42924091e-01,   6.17393032e-01,   4.51517284e-02,\n",
       "          1.13740941e+00,   6.96865287e-01,   1.35456466e-01,\n",
       "          1.75195071e-01,   1.06053450e+00,   9.90789899e-01,\n",
       "          8.83873607e-01,   9.15247953e-01,   1.01071892e+00,\n",
       "          5.97801938e-02,   1.38923973e+00,   6.39609237e-01,\n",
       "          4.53002711e-01,   1.00000000e-05,   1.10799277e+00,\n",
       "          7.68028695e-01,   1.31752851e-01,   1.28599461e+00,\n",
       "          7.18186171e-01,   8.29121420e-01,   6.89084607e-02,\n",
       "          7.45738384e-01,   4.28983912e-01,   1.15814746e+00,\n",
       "          1.47323523e+00,   2.15753112e-01,   1.35628476e+00]])"
      ]
     },
     "execution_count": 11,
     "metadata": {},
     "output_type": "execute_result"
    }
   ],
   "source": [
    "x1[:1]"
   ]
  },
  {
   "cell_type": "code",
   "execution_count": 21,
   "metadata": {
    "collapsed": false
   },
   "outputs": [],
   "source": [
    "x = get_g(data_base[0][1],y)"
   ]
  },
  {
   "cell_type": "code",
   "execution_count": 24,
   "metadata": {
    "collapsed": false
   },
   "outputs": [],
   "source": [
    "m_t ='0.903879483936320\t0.363429068455808\t0.573327240626552\t0.0850219497695642\t0.127874993703247\t0.151525814276405\t0.986035915775205\t0.441265495420156\t0.253154179460103\t0.259564792863577\t0.208161562363009\t0.970540857097490\t0.238359398568151\t0.499152902151700\t0.103887581572938\t0.658739874492949\t0.324901334269585\t0.451424347985208\t0.710026998770444\t0.456196085863435\t0.684419923385944\t0.332973836377714\t0.586519259498864\t0.465674496830032\t0.0815914315352912\t0.538194558630774\t0.436857638848319\t0.278769651601049\t0.671906328164850\t0.740574089171126\t0.263478154559095\t0.942635530215477\t0.356542711325427\t0.488581908426025\t0.800536830135403\t1.00022306144958\t0.585262881612693\t0.484230928649010\t0.502892700949846\t1.01978165009667\t0.356470822280127\t0.415975369598411\t0.307999109033091\t0.500391313498943\t0.596831059714939\t0.275277760971193\t0.544947252465684\t1.23307277447374\t0.399846165964901\t0.312025859552821\t0.450329423966375\t0.684139523296810\t0.583741012653225\t0.687064299034125\t0.725676286975953\t0.672343227494014\t0.719600490885657\t0.544693552923714\t0.340558030615798\t0.236754044020643\t0.690846411134270\t0.721410828755815\t0.991257284346195'"
   ]
  },
  {
   "cell_type": "code",
   "execution_count": 31,
   "metadata": {
    "collapsed": false
   },
   "outputs": [],
   "source": [
    "list1=m_t.split('\\t')"
   ]
  },
  {
   "cell_type": "code",
   "execution_count": 29,
   "metadata": {
    "collapsed": false
   },
   "outputs": [
    {
     "data": {
      "text/plain": [
       "1"
      ]
     },
     "execution_count": 29,
     "metadata": {},
     "output_type": "execute_result"
    }
   ],
   "source": [
    "len(list1)"
   ]
  },
  {
   "cell_type": "code",
   "execution_count": 33,
   "metadata": {
    "collapsed": false
   },
   "outputs": [
    {
     "data": {
      "text/plain": [
       "4.6369644235393688"
      ]
     },
     "execution_count": 33,
     "metadata": {},
     "output_type": "execute_result"
    }
   ],
   "source": [
    "np.linalg.norm(list1)"
   ]
  },
  {
   "cell_type": "code",
   "execution_count": 8,
   "metadata": {
    "collapsed": false
   },
   "outputs": [
    {
     "data": {
      "text/plain": [
       "array([ 0.83008905,  0.9817648 ,  0.84516012,  1.27475337,  1.0244052 ,\n",
       "        1.03909195,  0.90698106,  1.12186177,  1.09019655,  1.18141355,\n",
       "        1.13557453,  1.20591082,  1.16437795,  1.20458391,  0.92221481,\n",
       "        1.02384782,  0.98053089,  1.02204561,  0.98350538,  1.03463193,\n",
       "        0.99621408,  1.04990327,  1.01224988,  1.03877083,  1.0030059 ,\n",
       "        1.05309382,  1.01533787,  1.0672604 ,  1.031859  ,  1.31708905,\n",
       "        1.20937849,  0.93862589,  0.92277154,  0.95910073,  0.93632036,\n",
       "        0.95944327,  0.93563764,  0.97310095,  0.94753735,  0.9559655 ,\n",
       "        0.9310757 ,  0.9718174 ,  0.95279428,  0.96421669,  0.94645136,\n",
       "        0.98412578,  0.88442933,  0.95401891,  0.92983628,  0.96817022,\n",
       "        0.94927958,  0.96347038,  0.94350084,  0.98101486,  0.88842749,\n",
       "        0.96121446,  0.94017485,  0.97685718,  0.8919154 ,  0.99293843,\n",
       "        0.97050499,  1.08664179,  0.14972177])"
      ]
     },
     "execution_count": 8,
     "metadata": {},
     "output_type": "execute_result"
    }
   ],
   "source": [
    "data_base[0][1]"
   ]
  },
  {
   "cell_type": "code",
   "execution_count": 4,
   "metadata": {
    "collapsed": true
   },
   "outputs": [],
   "source": [
    "def get_price_stat_ave(data,decision_times): #period average for each sample\n",
    "    mitigation = []\n",
    "    utility = []\n",
    "    price = []\n",
    "    a650 = []\n",
    "    from tree import TreeModel \n",
    "    for i in range(len(data)): #load corresponding results\n",
    "        mitigation.append(data[i][-3])\n",
    "        utility.append(data[i][-2])\n",
    "        price.append(data[i][-1])\n",
    "        #a650.append(data[i][2])\n",
    "    #print(np.mean(a650))\n",
    "    \n",
    "    t = TreeModel(decision_times)\n",
    "    nodes_index = []\n",
    "    for i in range(t.num_periods):\n",
    "        nodes_index.append(t.get_nodes_in_period(i)) #get nodes for slicing\n",
    "    price_stat_ave = np.zeros((len(data), t.num_periods))\n",
    "    for i in range(len(data)):\n",
    "        for j in range(t.num_periods):\n",
    "            price_stat_ave[i,j] = np.average(data[i][-1][nodes_index[j][0]:nodes_index[j][1]+1])\n",
    "    return price_stat_ave\n",
    "\n",
    "def get_90_quantile(price_stat_ave):\n",
    "    list0 = price_stat_ave[:,0]\n",
    "    list1 = price_stat_ave[:,1]\n",
    "    list2 = price_stat_ave[:,2]\n",
    "    list3 = price_stat_ave[:,3]\n",
    "    list4 = price_stat_ave[:,4]\n",
    "    list5 = price_stat_ave[:,5]\n",
    "    list_ = [list0,list1,list2,list3,list4,list5]\n",
    "    fivepercent = int(len(list0)*0.05)\n",
    "    for i in range(len(list_)):\n",
    "        list_[i]=np.sort(list_[i])[fivepercent:-fivepercent] #take the 90% of the sorted results\n",
    "    list_min = []\n",
    "    list_max = []\n",
    "    for i in list_:\n",
    "        list_min.append(i[0])\n",
    "        list_max.append(i[-1])   \n",
    "    return list_min,list_max #take the lower and upper bounds for the test results"
   ]
  },
  {
   "cell_type": "code",
   "execution_count": 5,
   "metadata": {
    "collapsed": false
   },
   "outputs": [],
   "source": [
    "decision_times=[0, 15, 45, 85, 185, 285, 385]\n",
    "price_stat_ave= get_price_stat_ave(data,decision_times)\n",
    "price_stat_ave_base =get_price_stat_ave(data_base,decision_times)\n",
    "\n",
    "list_min,list_max = get_90_quantile(price_stat_ave)\n",
    "plt.figure()\n",
    "plt.plot(decision_times[:-1],list_min, 'r--')\n",
    "plt.plot(decision_times[:-1],list_max,'r--')\n",
    "plt.plot(decision_times[:-1],price_stat_ave_base[0,:],'b')\n",
    "plt.title('Sensitivity Analysis for Variable theta1000', size ='xx-large')\n",
    "plt.ylabel('Price in $', size = 'x-large')\n",
    "plt.xlabel('Period Index', size = 'x-large')\n",
    "\n",
    "plt.savefig('sensitivity_analysis_theta1000')\n",
    "#plt.xlim(decision_times)"
   ]
  },
  {
   "cell_type": "code",
   "execution_count": 6,
   "metadata": {
    "collapsed": false
   },
   "outputs": [
    {
     "data": {
      "image/png": "[encoded data removed]",
      "text/plain": [
       "<matplotlib.figure.Figure at 0x6ff5780>"
      ]
     },
     "metadata": {},
     "output_type": "display_data"
    }
   ],
   "source": [
    "plt.show()"
   ]
  },
  {
   "cell_type": "code",
   "execution_count": null,
   "metadata": {
    "collapsed": true
   },
   "outputs": [],
   "source": []
  }
 ],
 "metadata": {
  "kernelspec": {
   "display_name": "python2.7",
   "language": "python",
   "name": "python2.7"
  },
  "language_info": {
   "codemirror_mode": {
    "name": "ipython",
    "version": 2
   },
   "file_extension": ".py",
   "mimetype": "text/x-python",
   "name": "python",
   "nbconvert_exporter": "python",
   "pygments_lexer": "ipython2",
   "version": "2.7.13"
  }
 },
 "nbformat": 4,
 "nbformat_minor": 2
}
