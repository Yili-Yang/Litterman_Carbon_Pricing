{
 "cells": [
  {
   "cell_type": "code",
   "execution_count": 31,
   "metadata": {
    "collapsed": true
   },
   "outputs": [],
   "source": [
    "# -- coding utf-8 --\n",
    "\n",
    "#Created on Fri Jun 16 151644 2017\n",
    "#@author Ted Yang\n",
    "\n",
    "#from scipy.odr import Model, Data, ODR\n",
    "import datetime as dt\n",
    "from tree import TreeModel\n",
    "from bau import DLWBusinessAsUsual\n",
    "from cost import DLWCost\n",
    "#from damage import DLWDamage\n",
    "from utility import EZUtility\n",
    "from optimization import GeneticAlgorithm, GradientSearch\n",
    "import numpy as np\n",
    "\n",
    "class matlabmode():\n",
    "    def __init__(self,ind):\n",
    "        '''init the class with default settings:\n",
    "        1. decision time is set to [0, 15, 45, 85, 185, 285, 385]\n",
    "        2. cost is using default x60 = 0.543, x100 = 0.671 and euro to dollar exchange rate = 1.2\n",
    "        3. In the back stop tech model, join price is set to 2000, max prive is set to 2500, phi_0 = 1.5, phi_1 = 0 and constant = 30460\n",
    "        3. constant growth of consumption is set to 0.015, subinterval length is 5 and ghg levels are 450,650,1000.\n",
    "        4. Draws of simulation  = 4000000\n",
    "        5. Disaster model's set up is  peak_temperature=6.0, disaster_tail=18.0. \n",
    "        6. Damage is simulated by pindcyk method with time to hit the max temperature = 100\n",
    "        7. In utility, the parameter rho from the DLW-paper is set to 1-1/0.9, alpha is set to -6 and beta is set to 0.995^5 '''\n",
    "        ind = int(ind)\n",
    "        t = TreeModel(decision_times=[0, 15, 45, 85, 185, 285, 385])\n",
    "        self.t = t \n",
    "        bau_default_model = DLWBusinessAsUsual()\n",
    "        bau_default_model.bau_emissions_setup(tree=t)\n",
    "        if ind == -1:\n",
    "            from damage_fix_seed import DLWDamage\n",
    "            c = DLWCost(t, bau_default_model.emit_level[0], g=92.08, a=3.413, join_price=2000.0, max_price=2500.0,\n",
    "                            tech_const=1.5, tech_scale=0.0, cons_at_0=30460.0)\n",
    "            df = DLWDamage(tree=t, bau=bau_default_model, cons_growth=0.015, ghg_levels=[450, 650, 1000], subinterval_len=5)    \n",
    "            df.damage_simulation(draws=4000000, peak_temp=6.0, disaster_tail=18.0, tip_on=True, \n",
    "                                     temp_map=0, temp_dist_params=None, maxh=100.0)\n",
    "            u = EZUtility(tree=t, damage=df, cost=c, period_len=5.0, eis=0.9, ra=7.0, time_pref=0.005)\n",
    "            self.u = u\n",
    "            paralist = np.array([[2.81, 4.6134, 6.14],[1.6667, 1.5974, 1.53139],[-0.25, -0.5, -1.0]])\n",
    "        elif ind in [x for x in range(10)]:\n",
    "            from damage_Yili import DLWDamage\n",
    "            c = DLWCost(t, bau_default_model.emit_level[0], g=92.08, a=3.413, join_price=2000.0, max_price=2500.0,\n",
    "                            tech_const=1.5, tech_scale=0.0, cons_at_0=30460.0)\n",
    "            df = DLWDamage(tree=t, bau=bau_default_model, cons_growth=0.015, ghg_levels=[450, 650, 1000], subinterval_len=5,change=ind)    \n",
    "            df.damage_simulation( draws=4000000, peak_temp=6.0, disaster_tail=18.0, tip_on=True, \n",
    "                                     temp_map=0, temp_dist_params=None, maxh=100.0)\n",
    "            u = EZUtility(tree=t, damage=df, cost=c, period_len=5.0, eis=0.9, ra=7.0, time_pref=0.005)\n",
    "            self.u = u\n",
    "            paralist = np.array(self.u.damage.parameter_list)\n",
    "        elif ind == (10 or 11):\n",
    "            from damage import DLWDamage\n",
    "            aa,bb,cost,g = self.sensitivity_analysis_c_k(ind)\n",
    "            c = DLWCost(t, bau_default_model.emit_level[0], g=g, a=cost, join_price=2000.0, max_price=2500.0,\n",
    "                    tech_const=1.5, tech_scale=0.0, cons_at_0=30460.0)\n",
    "            df = DLWDamage(tree=t, bau=bau_default_model, cons_growth=0.015, ghg_levels=[450, 650, 1000], subinterval_len=5)    \n",
    "            df.damage_simulation( draws=4000000, peak_temp=6.0, disaster_tail=18.0, tip_on=True, \n",
    "                                     temp_map=0, temp_dist_params=None, maxh=100.0)\n",
    "            u = EZUtility(tree=t, damage=df, cost=c, period_len=5.0, eis=0.9, ra=7.0, time_pref=0.005)\n",
    "            self.u = u\n",
    "            paralist = np.array([aa,bb,cost,g])\n",
    "        else:\n",
    "            raise ValueError('Input indicator should be intergral within -1 to 11')\n",
    "        self.parameters = paralist.ravel()\n",
    "        #handle parameters:\n",
    "\n",
    "    def sensitivity_analysis_c_k(ind):\n",
    "        '''take fraction GHG reduction for different taxation rate from normal distribution\n",
    "        returns the modified c and k in project description page 2 equation (2.3)'''\n",
    "        #1.2 dollar = 1 euro\n",
    "        xdata = [60*1.2,100*1.2]\n",
    "        a = np.random.normal(0.543,0.0213)\n",
    "        b = np.random.normal(0.671,0.0213)\n",
    "        if ind == 0:\n",
    "            ydata = [a,0.671]\n",
    "        elif ind ==1:\n",
    "            ydata = [0.543,b]\n",
    "        else:\n",
    "            ydata = [a,b]\n",
    "        def f(p, x):\n",
    "            '''Linear function y = m*x + b'''\n",
    "            # B is a vector of the parameters.\n",
    "            # x is an array of the current x values.\n",
    "            # x is in the same format as the x passed to Data or RealData.\n",
    "            #\n",
    "            # Return an array in the same format as y passed to Data or RealData.\n",
    "            return p[0] * x ** p[1]\n",
    "\n",
    "        linear = Model(f)\n",
    "        #sx, sy are arrays of error estimates\n",
    "        mydata = Data(xdata, ydata)\n",
    "        #beta0 are the initial parameter estimates\n",
    "        myodr = ODR(mydata, linear, beta0=[1, -1.0])\n",
    "        myoutput = myodr.run()\n",
    "        x = myoutput.beta\n",
    "        c= (1/x[1])*(x[1]+1) \n",
    "        g= ((1/(x[0]**(1/x[1])))**(x[1]+1) )*(x[0]-x[0]/(x[1]+1))\n",
    "        return a,b,c,g\n",
    "\n",
    "    def get_start_point(self):\n",
    "        #use GA to get the start point for local optimizer\n",
    "        ga_model = GeneticAlgorithm(pop_amount=150, num_generations=75, cx_prob=0.8, mut_prob=0.5, \n",
    "                              bound=1.5, num_feature=63, utility=self.u, print_progress=True) \n",
    "        final_pop, fitness = ga_model.run()\n",
    "        sort_pop = final_pop[np.argsort(fitness)][::-1]\n",
    "        begin_pop = final_pop[np.argsort(fitness)][-1]\n",
    "        return sort_pop,begin_pop\n",
    "\n",
    "    def utility_grad(self,m):\n",
    "        #use finite differenciation to gradient and utility\n",
    "        m = np.array(m)\n",
    "        gs_model = GradientSearch(var_nums=63, utility=self.u, accuracy=1e-8, \n",
    "                              iterations=1, print_progress=True)\n",
    "        grad = gs_model.numerical_gradient(m)\n",
    "        return self.u.utility(m),grad\n",
    "\n",
    "    def grad(self,m):\n",
    "        #use finite differenciation to gradient and utility\n",
    "        m = np.array(m)\n",
    "        gs_model = GradientSearch(var_nums=63, utility=self.u, accuracy=1e-8, \n",
    "                              iterations=1, print_progress=True)\n",
    "        grad = gs_model.numerical_gradient(m)\n",
    "        return grad\n",
    "\n",
    "    def utility(self,m):\n",
    "        # get utility from utlity class\n",
    "        m = np.array(m)\n",
    "        #result_array=np.array([])\n",
    "        # if m.ndim ==1:\n",
    "        return self.u.utility(m)\n",
    "            \n",
    "        # else:\n",
    "        #     row= 10\n",
    "        #     for row_index in range(row):\n",
    "        #         result_array= np.append(result_array,self.u.utility(m[row_index,:]))\n",
    "        #     return result_array\n",
    "    def GS(self,m):\n",
    "        #m = np.array(m)\n",
    "        m=m[0]\n",
    "        gs_model = GradientSearch(var_nums=63, utility=self.u, accuracy=1e-8, \n",
    "                              iterations=200, print_progress=True)\n",
    "        m_opt, u_opt = gs_model.run(initial_point_list=m, topk=1)\n",
    "        return m_opt,u_opt\n",
    "\n",
    "    def get_price(self,m):\n",
    "        m = np.array(m)\n",
    "        t = self.t\n",
    "        price_list=list()\n",
    "        for decision_time in range(len(t.decision_times)-1):\n",
    "            start_node,end_node = t.get_nodes_in_period(decision_time)\n",
    "            average_mit = self.u.damage.average_mitigation(m,decision_time)\n",
    "            for index in range(end_node-start_node+1):\n",
    "                index_ori =index + start_node\n",
    "                price_list.append(self.u.cost.price(t.decision_times[decision_time],m[index_ori],average_mit[index]))\n",
    "        return np.array(price_list)\n",
    "    def utility_tree(self,m):\n",
    "        # get utility from utlity class\n",
    "        m = np.array(m)\n",
    "        utility_tree = self.u.utility(m,True)[0]\n",
    "        u_tree = utility_tree.tree\n",
    "        utility_at_each_node = np.array([])\n",
    "        for decision_time in self.t.decision_times[:-1]:\n",
    "        \tutility_at_each_node = np.append(utility_at_each_node,u_tree[decision_time])\n",
    "\n",
    "        return utility_at_each_node\n",
    "\n",
    "def get_start(y):\n",
    "    return y.get_start_point()\n",
    "\n",
    "def get_u_g(m,y):\n",
    "    return y.utility_grad(m)\n",
    "\n",
    "def get_u(m,y):\n",
    "    return y.utility(m)\n",
    "\n",
    "def get_g(m,y):\n",
    "    return y.grad(m)\n",
    "    \n",
    "def call_gs(m,y):\n",
    "    return y.GS(m)\n",
    "\n",
    "def get_parameters(y):\n",
    "    return y.parameters\n",
    "\n",
    "def get_price(m,y):\n",
    "    return y.get_price(m)# -- coding utf-8 --\n",
    "\n",
    "def get_utility_tree(m,y):\n",
    "\treturn y.utility_tree(m)"
   ]
  },
  {
   "cell_type": "code",
   "execution_count": 32,
   "metadata": {
    "collapsed": false
   },
   "outputs": [
    {
     "name": "stdout",
     "output_type": "stream",
     "text": [
      "Starting damage simulation..\n",
      "Done!\n"
     ]
    }
   ],
   "source": [
    "y =matlabmode(0)"
   ]
  },
  {
   "cell_type": "code",
   "execution_count": 33,
   "metadata": {
    "collapsed": false
   },
   "outputs": [
    {
     "data": {
      "text/plain": [
       "array([   9.11239894,   10.8225465 ,   11.73374651,   15.27802763,\n",
       "         17.3087368 ,   17.3087368 ,   18.25065986,   23.28494447,\n",
       "         28.1472818 ,   28.1472818 ,   30.57146494,   28.1472818 ,\n",
       "         30.57146494,   30.57146494,   31.81512524,   61.549315  ,\n",
       "         86.64732646,   86.64732646,  100.12692016,   86.64732646,\n",
       "        100.12692016,  100.12692016,  107.55398822,   86.64732646,\n",
       "        100.12692016,  100.12692016,  107.55398822,  100.12692016,\n",
       "        107.55398822,  107.55398822,  111.12865047,  123.92117006,\n",
       "        203.98124242,  203.98124242,  253.63080306,  203.98124242,\n",
       "        253.63080306,  253.63080306,  281.45246073,  203.98124242,\n",
       "        253.63080306,  253.63080306,  281.45246073,  253.63080306,\n",
       "        281.45246073,  281.45246073,  297.07893709,  203.98124242,\n",
       "        253.63080306,  253.63080306,  281.45246073,  253.63080306,\n",
       "        281.45246073,  281.45246073,  297.07893709,  253.63080306,\n",
       "        281.45246073,  281.45246073,  297.07893709,  281.45246073,\n",
       "        297.07893709,  297.07893709,  302.35752076])"
      ]
     },
     "execution_count": 33,
     "metadata": {},
     "output_type": "execute_result"
    }
   ],
   "source": [
    "get_utility_tree(np.ones((1,63))[0],y)."
   ]
  },
  {
   "cell_type": "code",
   "execution_count": 24,
   "metadata": {
    "collapsed": false
   },
   "outputs": [
    {
     "data": {
      "text/plain": [
       "[0, 15, 45, 85, 185, 285]"
      ]
     },
     "execution_count": 24,
     "metadata": {},
     "output_type": "execute_result"
    }
   ],
   "source": [
    "[0, 15, 45, 85, 185, 285, 385][:-1]"
   ]
  },
  {
   "cell_type": "code",
   "execution_count": 25,
   "metadata": {
    "collapsed": false
   },
   "outputs": [
    {
     "data": {
      "text/plain": [
       "array([], dtype=float64)"
      ]
     },
     "execution_count": 25,
     "metadata": {},
     "output_type": "execute_result"
    }
   ],
   "source": [
    "np.array([])"
   ]
  },
  {
   "cell_type": "code",
   "execution_count": null,
   "metadata": {
    "collapsed": true
   },
   "outputs": [],
   "source": []
  }
 ],
 "metadata": {
  "kernelspec": {
   "display_name": "python2.7",
   "language": "python",
   "name": "python2.7"
  },
  "language_info": {
   "codemirror_mode": {
    "name": "ipython",
    "version": 2
   },
   "file_extension": ".py",
   "mimetype": "text/x-python",
   "name": "python",
   "nbconvert_exporter": "python",
   "pygments_lexer": "ipython2",
   "version": "2.7.13"
  }
 },
 "nbformat": 4,
 "nbformat_minor": 2
}
