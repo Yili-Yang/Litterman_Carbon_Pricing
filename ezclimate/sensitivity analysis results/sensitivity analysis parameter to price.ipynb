{
 "cells": [
  {
   "cell_type": "code",
   "execution_count": 1,
   "metadata": {
    "collapsed": true
   },
   "outputs": [],
   "source": [
    "import matplotlib.pyplot as plt\n",
    "\n",
    "import pickle\n",
    "import numpy as np"
   ]
  },
  {
   "cell_type": "code",
   "execution_count": 2,
   "metadata": {
    "collapsed": true
   },
   "outputs": [],
   "source": [
    "with open('sensitive_analysis_1v_100.pkl','r') as inputs:\n",
    "    data = pickle.load(inputs)\n",
    "\n",
    "with open('sensitive_analysis_base_renewal.pkl','r') as inputsbase:\n",
    "    data_base = pickle.load(inputsbase)"
   ]
  },
  {
   "cell_type": "code",
   "execution_count": 10,
   "metadata": {
    "collapsed": false
   },
   "outputs": [],
   "source": [
    "a450_list= list()\n",
    "for item in data:\n",
    "    a450_list.append(item[1][0][0])\n",
    "    "
   ]
  },
  {
   "cell_type": "code",
   "execution_count": 11,
   "metadata": {
    "collapsed": true
   },
   "outputs": [],
   "source": [
    "def get_price_stat_ave(data,decision_times): #period average for each sample\n",
    "    mitigation = []\n",
    "    utility = []\n",
    "    price = []\n",
    "    a650 = []\n",
    "    from tree import TreeModel \n",
    "    for i in range(len(data)): #load corresponding results\n",
    "        mitigation.append(data[i][-3])\n",
    "        utility.append(data[i][-2])\n",
    "        price.append(data[i][-1])\n",
    "        #a650.append(data[i][2])\n",
    "    #print(np.mean(a650))\n",
    "    \n",
    "    t = TreeModel(decision_times)\n",
    "    nodes_index = []\n",
    "    for i in range(t.num_periods):\n",
    "        nodes_index.append(t.get_nodes_in_period(i)) #get nodes for slicing\n",
    "    price_stat_ave = np.zeros((len(data), t.num_periods))\n",
    "    for i in range(len(data)):\n",
    "        for j in range(t.num_periods):\n",
    "            price_stat_ave[i,j] = np.average(data[i][-1][nodes_index[j][0]:nodes_index[j][1]+1])\n",
    "    return price_stat_ave\n"
   ]
  },
  {
   "cell_type": "code",
   "execution_count": 16,
   "metadata": {
    "collapsed": false
   },
   "outputs": [
    {
     "data": {
      "image/png": "[encoded data removed]",
      "text/plain": [
       "<matplotlib.figure.Figure at 0x8293fd0>"
      ]
     },
     "metadata": {},
     "output_type": "display_data"
    }
   ],
   "source": [
    "decision_times=[0, 15, 45, 85, 185, 285, 385]\n",
    "price_stat_ave= get_price_stat_ave(data,decision_times)\n",
    "ziped_list = zip(a450_list,price_stat_ave[:,0])\n",
    "ziped_list.sort(key = lambda t: t[1])\n",
    "target_list = ziped_list[5:95]\n",
    "target_list_ori = zip(*target_list)\n",
    "\n",
    "list_min,list_max = get_90_quantile(price_stat_ave)\n",
    "plt.figure()\n",
    "plt.plot(target_list_ori[1],target_list_ori[0], 'r--')\n",
    "plt.title('price - a450', size ='xx-large')\n",
    "plt.ylabel('value of a450', size = 'x-large')\n",
    "plt.xlabel('Price in $', size = 'x-large')\n",
    "plt.show()\n",
    "plt.savefig('price - a450')\n",
    "#plt.xlim(decision_times)"
   ]
  },
  {
   "cell_type": "code",
   "execution_count": 1,
   "metadata": {
    "collapsed": false
   },
   "outputs": [],
   "source": [
    "import matplotlib.pyplot as plt\n",
    "\n",
    "import pickle\n",
    "import numpy as np"
   ]
  },
  {
   "cell_type": "code",
   "execution_count": 10,
   "metadata": {
    "collapsed": false
   },
   "outputs": [],
   "source": [
    "with open('sensitive_analysis_1G_156.pkl','r') as inputs:\n",
    "    data = pickle.load(inputs)\n",
    "\n",
    "with open('sensitive_analysis_base_renewal.pkl','r') as inputsbase:\n",
    "    data_base = pickle.load(inputsbase)"
   ]
  },
  {
   "cell_type": "code",
   "execution_count": 11,
   "metadata": {
    "collapsed": true
   },
   "outputs": [],
   "source": [
    "p_list =list()\n",
    "for item in data:\n",
    "    p_list.append(item[1])"
   ]
  },
  {
   "cell_type": "code",
   "execution_count": 2,
   "metadata": {
    "collapsed": false
   },
   "outputs": [],
   "source": [
    "p_list=[[3.696177884792442, 95.19446663526719],\n",
    " [3.195730480746087, 90.173123343088406],\n",
    " [2.774147963212463, 87.795891923598717],\n",
    " [2.691920306695617, 87.557053158853449],\n",
    " [3.527271029497594, 93.253332987430227],\n",
    " [3.23800279580299, 90.510586596190436],\n",
    " [4.113870357101148, 101.0412085640761],\n",
    " [2.88740489523673, 88.251466548888786],\n",
    " [3.555573140568842, 93.56043921331316],\n",
    " [4.033761217730082, 99.806066625936992],\n",
    " [3.318747765062939, 91.200654047311318],\n",
    " [3.3804669002071743, 91.766151732815942],\n",
    " [3.6672890390393107, 94.845840454756569],\n",
    " [3.0415075894412333, 89.092624642858695],\n",
    " [4.867832272794972, 115.35921241496627],\n",
    " [3.232686414728443, 90.467051263693776],\n",
    " [3.4330868097881853, 92.277841377497509],\n",
    " [3.174248152860177, 90.009885713703966],\n",
    " [4.1353098011658584, 101.38086489885697],\n",
    " [3.5444936401483167, 93.440057063979111],\n",
    " [3.2722306926314904, 90.795018380162389],\n",
    " [2.9345464335908096, 88.480863541616387],\n",
    " [3.4481077614352067, 92.426876290166476],\n",
    " [3.5160169984423435, 93.132941519769005],\n",
    " [4.082195792371015, 100.54521588924287],\n",
    " [3.5735951939153123, 93.760027122024667],\n",
    " [3.3125530792017046, 91.144112226427609],\n",
    " [3.0229212234800826, 88.976812634298199],\n",
    " [3.1299323315939023, 89.684821107518431],\n",
    " [2.7940266374832325, 87.864154349819771],\n",
    " [3.335848328767107, 91.352890551328656],\n",
    " [3.389547224982981, 91.852843398489071],\n",
    " [4.3472215436981845, 104.94682672172438],\n",
    " [3.724378977563612, 95.542702412157865],\n",
    " [3.209606322122715, 90.28231600955742],\n",
    " [4.12210550160342, 101.17084474966423],\n",
    " [3.4481077614352067, 92.426766373263661],\n",
    " [3.448162448197473, 92.428651042936835],\n",
    " [3.4043432971495133, 91.994874327333775],\n",
    " [3.055394016378639, 89.179342047352023],\n",
    " [3.2120726182922077, 90.30123954615101],\n",
    " [3.25866951964448, 90.682150736439581],\n",
    " [3.896776801123004, 97.818236364413693],\n",
    " [3.005799306756665, 88.875596653449762],\n",
    " [4.518186748776287, 108.10267778145345],\n",
    " [3.8511862956115723, 97.192792151665259],\n",
    " [4.102884316074488, 100.86761890379532],\n",
    " [3.463229317954905, 92.582029253950111],\n",
    " [3.7376246874250696, 95.709925029345257],\n",
    " [4.263912569502203, 103.49901275612569],\n",
    " [4.156610439868436, 101.7217053879604],\n",
    " [2.841363505433221, 88.049223089781862],\n",
    " [3.9351423379129873, 98.359834205258451],\n",
    " [3.6509444298485905, 94.651606743142594],\n",
    " [2.9845006266388925, 88.751887607955865],\n",
    " [3.3274185588226977, 91.277976258858232],\n",
    " [2.93377604270278, 88.477453618404013],\n",
    " [3.1684365470846325, 89.965071892008368],\n",
    " [3.0322486901475276, 89.034724342850467],\n",
    " [3.3312440929505205, 91.312263883067644],\n",
    " [3.3155563184245755, 91.170611716904119],\n",
    " [3.0605811951354074, 89.213164759362513],\n",
    " [3.098185729570071, 89.463285889930134],\n",
    " [3.254565741852671, 90.646760864069009],\n",
    " [3.311166797073589, 91.132624091677584],\n",
    " [3.471486996723361, 92.665530232788356],\n",
    " [3.463688475437692, 92.586638199513104],\n",
    " [3.807556603348814, 96.610773773499915],\n",
    " [3.428839823653311, 92.234500113639442],\n",
    " [2.8734730782438254, 88.186576603198233],\n",
    " [3.5434797572350885, 93.428660822507155],\n",
    " [4.0811357082565065, 100.52951827389579],\n",
    " [3.6193154221884716, 94.281413146972127],\n",
    " [3.5137181308328125, 93.107304762272634],\n",
    " [3.106259083013316, 89.517105080789634],\n",
    " [3.4039593949157707, 91.992585308547461],\n",
    " [3.14571604925158, 89.797683166037928],\n",
    " [3.266107178198391, 90.744311877633734],\n",
    " [2.8515991509857104, 88.092300399518535],\n",
    " [3.020481079749107, 88.962799962755227],\n",
    " [4.578022475657686, 109.26836976434008],\n",
    " [2.901963021489601, 88.318765114129334],\n",
    " [3.9113044936972456, 98.021027320191337],\n",
    " [3.8327287166155046, 96.943200317386328],\n",
    " [3.192346849189064, 90.147493265978369],\n",
    " [3.5730081825262183, 93.753828309971695],\n",
    " [2.8627342625707093, 88.138453748418385],\n",
    " [3.1945478235414178, 90.165355229164362],\n",
    " [3.2781858352821236, 90.845080189556228],\n",
    " [4.3066760693492006, 104.23428967399711],\n",
    " [3.6171639253140455, 94.255073629287764],\n",
    " [2.8537812797683375, 88.100486046863566],\n",
    " [3.1031460344587076, 89.496568743019182],\n",
    " [3.205849097894104, 90.253663639413176],\n",
    " [3.1263171528794262, 89.659360407961671],\n",
    " [3.6702270549138847, 94.880132184607305],\n",
    " [3.387440618061478, 91.833150709023997],\n",
    " [4.168557055890837, 101.91468847258919],\n",
    " [3.5386374434505705, 93.375516709012757],\n",
    " [4.627718926243406, 110.26008901147551],\n",
    " [3.661569169200577, 94.777175579083348],\n",
    " [3.863279911882341, 97.35773021952069],\n",
    " [3.5412427517864677, 93.403890940437321],\n",
    " [3.5059431883914836, 93.025021015288672],\n",
    " [3.274557349768681, 90.815049306511824],\n",
    " [3.4761979865818473, 92.713708326340821],\n",
    " [3.3975402860495687, 91.929276769208712],\n",
    " [3.0511736220569783, 89.154096068512601],\n",
    " [3.0956305539281, 89.445146876587373],\n",
    " [3.5809105745755296, 93.843076094628984],\n",
    " [3.7503587038133124, 95.870554783370267],\n",
    " [3.9925568858142, 99.190735756324571],\n",
    " [3.959179286786916, 98.703978459539954],\n",
    " [3.3650146429388603, 91.621824275503201],\n",
    " [3.7506666547381995, 95.873191252086016],\n",
    " [3.2738071996010114, 90.808898304710496],\n",
    " [2.9070994517746582, 88.344518926950769],\n",
    " [3.203398704459972, 90.23453056872097],\n",
    " [3.1714878237700375, 89.988605673792151],\n",
    " [3.00736101040369, 88.883844971027415],\n",
    " [3.2507184820274864, 90.614728900948165],\n",
    " [2.9275940254640003, 88.445328453550701],\n",
    " [3.2333292952190904, 90.473091918631852],\n",
    " [3.5586721263231484, 93.595420744990903],\n",
    " [3.0911046793457815, 89.414083172771811],\n",
    " [3.508271451740111, 93.049113471026772],\n",
    " [3.662208539152644, 94.78484479530303],\n",
    " [3.674023472564315, 94.926873755343891],\n",
    " [3.5486415602897576, 93.484229881215228],\n",
    " [3.832573792967645, 96.941333881847029],\n",
    " [4.711122676374306, 111.97210882405281],\n",
    " [4.336360860406675, 104.75388216971142],\n",
    " [2.9226824664809894, 88.421142253688089],\n",
    " [4.429792018569368, 106.43894720515833],\n",
    " [3.550509017391306, 93.504368547701162],\n",
    " [3.623831543702482, 94.332765083646478],\n",
    " [2.659128240822121, 87.485507205700728],\n",
    " [3.2786957488732256, 90.849497758429919],\n",
    " [3.916906060974787, 98.101703660300188],\n",
    " [4.182798332646195, 102.14611586841357],\n",
    " [3.5095720761967217, 93.063424230761271],\n",
    " [3.332704350924758, 91.325610526934838],\n",
    " [3.4028167463642807, 91.980136594904394],\n",
    " [4.2061795355382845, 102.52957495044869],\n",
    " [3.348237455465136, 91.467253886374237],\n",
    " [3.256878684600548, 90.667026181893689],\n",
    " [3.7273171120230555, 95.580570042145311],\n",
    " [3.5427718636411067, 93.419931138096544],\n",
    " [4.038847167280243, 99.883026886298381],\n",
    " [3.1023519849030827, 89.490912589425093],\n",
    " [2.8948259572373556, 88.284931252980684],\n",
    " [3.2622760654980407, 90.711036641746347],\n",
    " [4.542668021265871, 108.57662541292207],\n",
    " [3.4485168757108178, 92.432405801606876],\n",
    " [3.4454539148062526, 92.401252309612175],\n",
    " [3.679957891738322, 94.9989132909473]]"
   ]
  },
  {
   "cell_type": "code",
   "execution_count": 3,
   "metadata": {
    "collapsed": false
   },
   "outputs": [],
   "source": [
    "from scipy.odr import Model, Data, ODR\n",
    "def sensitivity_analysis_c_k(ind):\n",
    "    '''take fraction GHG reduction for different taxation rate from normal distribution\n",
    "    returns the modified c and k in project description page 2 equation (2.3)'''\n",
    "    #1.2 dollar = 1 euro\n",
    "    xdata = [60*1.2,100*1.2]\n",
    "    a = np.random.normal(0.543,0.0213)\n",
    "    b = np.random.normal(0.671,0.0213)\n",
    "    if ind == 0:\n",
    "        ydata = [a,0.671]\n",
    "    elif ind ==1:\n",
    "        ydata = [0.543,b]\n",
    "    else:\n",
    "        ydata = [a,b]\n",
    "    def f(p, x):\n",
    "        '''Linear function y = m*x + b'''\n",
    "        # B is a vector of the parameters.\n",
    "        # x is an array of the current x values.\n",
    "        # x is in the same format as the x passed to Data or RealData.\n",
    "        #\n",
    "        # Return an array in the same format as y passed to Data or RealData.\n",
    "        return p[0] * x ** p[1]\n",
    "\n",
    "    linear = Model(f)\n",
    "    #sx, sy are arrays of error estimates\n",
    "    mydata = Data(xdata, ydata)\n",
    "    #beta0 are the initial parameter estimates\n",
    "    myodr = ODR(mydata, linear, beta0=[1, -1.0])\n",
    "    myoutput = myodr.run()\n",
    "    x = myoutput.beta\n",
    "    c= (1/x[1])*(x[1]+1) \n",
    "    g= ((1/(x[0]**(1/x[1])))**(x[1]+1) )*(x[0]-x[0]/(x[1]+1))\n",
    "    return a,b,c,g"
   ]
  },
  {
   "cell_type": "code",
   "execution_count": null,
   "metadata": {
    "collapsed": false
   },
   "outputs": [
    {
     "name": "stderr",
     "output_type": "stream",
     "text": [
      "D:\\Ted_Yang\\Anaconda\\lib\\site-packages\\ipykernel\\__main__.py:32: RuntimeWarning: overflow encountered in double_scalars\n"
     ]
    }
   ],
   "source": [
    "count = 0\n",
    "result_list = list()\n",
    "while count < 300000:\n",
    "    for item in p_list:\n",
    "        a,b,c,g = sensitivity_analysis_c_k(1)\n",
    "        if abs(c-item[0])<0.001 and abs(g-item[1])<0.001:\n",
    "            result_list.append((0.543,b,item[0],item[1]))\n",
    "            p_list.remove(item)\n",
    "    count += 1"
   ]
  },
  {
   "cell_type": "code",
   "execution_count": 10,
   "metadata": {
    "collapsed": true
   },
   "outputs": [],
   "source": [
    "count =0\n",
    "while count < 300000:\n",
    "    for item in p_list:\n",
    "        a,b,c,g = sensitivity_analysis_c_k(1)\n",
    "        if abs(c-item[0])<0.001 and abs(g-item[1])<0.001:\n",
    "            result_list.append((0.543,b,item[0],item[1]))\n",
    "            p_list.remove(item)\n",
    "    count += 1"
   ]
  },
  {
   "cell_type": "code",
   "execution_count": 1,
   "metadata": {
    "collapsed": false
   },
   "outputs": [
    {
     "ename": "NameError",
     "evalue": "name 'data' is not defined",
     "output_type": "error",
     "traceback": [
      "\u001b[0;31m---------------------------------------------------------------------------\u001b[0m",
      "\u001b[0;31mNameError\u001b[0m                                 Traceback (most recent call last)",
      "\u001b[0;32m<ipython-input-1-5066e50f5005>\u001b[0m in \u001b[0;36m<module>\u001b[0;34m()\u001b[0m\n\u001b[1;32m      1\u001b[0m \u001b[0mdata_list\u001b[0m \u001b[1;33m=\u001b[0m\u001b[0mlist\u001b[0m\u001b[1;33m(\u001b[0m\u001b[1;33m)\u001b[0m\u001b[1;33m\u001b[0m\u001b[0m\n\u001b[0;32m----> 2\u001b[0;31m \u001b[1;32mfor\u001b[0m \u001b[0mitem\u001b[0m \u001b[1;32min\u001b[0m \u001b[0mdata\u001b[0m\u001b[1;33m:\u001b[0m\u001b[1;33m\u001b[0m\u001b[0m\n\u001b[0m\u001b[1;32m      3\u001b[0m     \u001b[1;32mfor\u001b[0m \u001b[0mresult\u001b[0m \u001b[1;32min\u001b[0m \u001b[0mresult_list\u001b[0m\u001b[1;33m:\u001b[0m\u001b[1;33m\u001b[0m\u001b[0m\n\u001b[1;32m      4\u001b[0m         \u001b[1;32mif\u001b[0m \u001b[0mitem\u001b[0m\u001b[1;33m[\u001b[0m\u001b[1;36m1\u001b[0m\u001b[1;33m]\u001b[0m\u001b[1;33m[\u001b[0m\u001b[1;36m1\u001b[0m\u001b[1;33m]\u001b[0m \u001b[1;33m==\u001b[0m \u001b[0mresult\u001b[0m\u001b[1;33m[\u001b[0m\u001b[1;33m-\u001b[0m\u001b[1;36m1\u001b[0m\u001b[1;33m]\u001b[0m\u001b[1;33m:\u001b[0m\u001b[1;33m\u001b[0m\u001b[0m\n\u001b[1;32m      5\u001b[0m             \u001b[0mdata_list\u001b[0m\u001b[1;33m.\u001b[0m\u001b[0mappend\u001b[0m\u001b[1;33m(\u001b[0m\u001b[1;33m(\u001b[0m\u001b[0mitem\u001b[0m\u001b[1;33m[\u001b[0m\u001b[1;36m0\u001b[0m\u001b[1;33m]\u001b[0m\u001b[1;33m,\u001b[0m\u001b[0mresult\u001b[0m\u001b[1;33m,\u001b[0m\u001b[0mitem\u001b[0m\u001b[1;33m[\u001b[0m\u001b[1;36m2\u001b[0m\u001b[1;33m]\u001b[0m\u001b[1;33m,\u001b[0m\u001b[0mitem\u001b[0m\u001b[1;33m[\u001b[0m\u001b[1;36m3\u001b[0m\u001b[1;33m]\u001b[0m\u001b[1;33m,\u001b[0m\u001b[0mitem\u001b[0m\u001b[1;33m[\u001b[0m\u001b[1;36m4\u001b[0m\u001b[1;33m]\u001b[0m\u001b[1;33m)\u001b[0m\u001b[1;33m)\u001b[0m\u001b[1;33m\u001b[0m\u001b[0m\n",
      "\u001b[0;31mNameError\u001b[0m: name 'data' is not defined"
     ]
    }
   ],
   "source": [
    "data_list =list()\n",
    "for item in data:\n",
    "    for result in result_list:\n",
    "        if item[1][1] == result[-1]:\n",
    "            data_list.append((item[0],result,item[2],item[3],item[4]))"
   ]
  },
  {
   "cell_type": "code",
   "execution_count": 2,
   "metadata": {
    "collapsed": false
   },
   "outputs": [
    {
     "data": {
      "text/plain": [
       "0"
      ]
     },
     "execution_count": 2,
     "metadata": {},
     "output_type": "execute_result"
    }
   ],
   "source": [
    "len(data_list)"
   ]
  },
  {
   "cell_type": "code",
   "execution_count": 8,
   "metadata": {
    "collapsed": true
   },
   "outputs": [],
   "source": [
    "with open('sensitive_analysis_2G_100_n.pkl','wb') as inputsbase:\n",
    "    pickle.dump(data_list,inputsbase)"
   ]
  },
  {
   "cell_type": "code",
   "execution_count": 64,
   "metadata": {
    "collapsed": false
   },
   "outputs": [],
   "source": [
    "from scipy.odr import Model, Data, ODR\n",
    "xdata = [60*1.2,100*1.2]\n",
    "ydata = [0.543, 0.626148902529]\n",
    "def f(p, x):\n",
    "    '''Linear function y = m*x + b'''\n",
    "    # B is a vector of the parameters.\n",
    "    # x is an array of the current x values.\n",
    "    # x is in the same format as the x passed to Data or RealData.\n",
    "    #\n",
    "    # Return an array in the same format as y passed to Data or RealData.\n",
    "    return p[0] * x ** p[1]\n",
    "\n",
    "linear = Model(f)\n",
    "#sx, sy are arrays of error estimates\n",
    "mydata = Data(xdata, ydata)\n",
    "#beta0 are the initial parameter estimates\n",
    "myodr = ODR(mydata, linear, beta0=[1, -1.0])\n",
    "myoutput = myodr.run()\n",
    "x = myoutput.beta\n",
    "c= (1/x[1])*(x[1]+1) \n",
    "g= ((1/(x[0]**(1/x[1])))**(x[1]+1) )*(x[0]-x[0]/(x[1]+1))"
   ]
  },
  {
   "cell_type": "code",
   "execution_count": 65,
   "metadata": {
    "collapsed": false
   },
   "outputs": [
    {
     "data": {
      "text/plain": [
       "4.5852724348611229"
      ]
     },
     "execution_count": 65,
     "metadata": {},
     "output_type": "execute_result"
    }
   ],
   "source": [
    "c"
   ]
  },
  {
   "cell_type": "code",
   "execution_count": 66,
   "metadata": {
    "collapsed": false
   },
   "outputs": [
    {
     "data": {
      "text/plain": [
       "140.21104064923074"
      ]
     },
     "execution_count": 66,
     "metadata": {},
     "output_type": "execute_result"
    }
   ],
   "source": [
    "g"
   ]
  },
  {
   "cell_type": "code",
   "execution_count": null,
   "metadata": {
    "collapsed": true
   },
   "outputs": [],
   "source": [
    "4.585558773791521, 140.22742565685007"
   ]
  }
 ],
 "metadata": {
  "kernelspec": {
   "display_name": "Python 3",
   "language": "python",
   "name": "python3"
  },
  "language_info": {
   "codemirror_mode": {
    "name": "ipython",
    "version": 3
   },
   "file_extension": ".py",
   "mimetype": "text/x-python",
   "name": "python",
   "nbconvert_exporter": "python",
   "pygments_lexer": "ipython3",
   "version": "3.6.0"
  }
 },
 "nbformat": 4,
 "nbformat_minor": 2
}
