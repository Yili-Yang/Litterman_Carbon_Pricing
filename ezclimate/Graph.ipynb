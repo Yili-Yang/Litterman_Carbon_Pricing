{
 "cells": [
  {
   "cell_type": "code",
   "execution_count": 8,
   "metadata": {},
   "outputs": [],
   "source": [
    "import matplotlib.pyplot as plt\n",
    "%matplotlib inline\n",
    "\n",
    "import pickle\n",
    "import numpy as np"
   ]
  },
  {
   "cell_type": "code",
   "execution_count": 2,
   "metadata": {},
   "outputs": [
    {
     "name": "stdout",
     "output_type": "stream",
     "text": [
      "Collecting matplotlib\n",
      "  Using cached matplotlib-2.0.2-cp27-cp27m-macosx_10_6_intel.macosx_10_9_intel.macosx_10_9_x86_64.macosx_10_10_intel.macosx_10_10_x86_64.whl\n",
      "Collecting update\n",
      "Collecting python-dateutil (from matplotlib)\n",
      "  Downloading python_dateutil-2.6.0-py2.py3-none-any.whl (194kB)\n",
      "\u001b[K    100% |████████████████████████████████| 194kB 1.2MB/s ta 0:00:01\n",
      "\u001b[?25hCollecting subprocess32 (from matplotlib)\n",
      "Collecting cycler>=0.10 (from matplotlib)\n",
      "  Using cached cycler-0.10.0-py2.py3-none-any.whl\n",
      "Collecting six>=1.10 (from matplotlib)\n",
      "  Downloading six-1.10.0-py2.py3-none-any.whl\n",
      "Collecting pytz (from matplotlib)\n",
      "  Using cached pytz-2017.2-py2.py3-none-any.whl\n",
      "Collecting functools32 (from matplotlib)\n",
      "Collecting numpy>=1.7.1 (from matplotlib)\n",
      "  Using cached numpy-1.13.0-cp27-cp27m-macosx_10_6_intel.macosx_10_9_intel.macosx_10_9_x86_64.macosx_10_10_intel.macosx_10_10_x86_64.whl\n",
      "Collecting pyparsing!=2.0.4,!=2.1.2,!=2.1.6,>=1.5.6 (from matplotlib)\n",
      "  Using cached pyparsing-2.2.0-py2.py3-none-any.whl\n",
      "Installing collected packages: six, python-dateutil, subprocess32, cycler, pytz, functools32, numpy, pyparsing, matplotlib, update\n",
      "Successfully installed cycler-0.10.0 functools32-3.2.3.post2 matplotlib-2.0.2 numpy-1.13.0 pyparsing-2.2.0 python-dateutil-2.6.0 pytz-2017.2 six-1.10.0 subprocess32-3.2.7 update-0.4.4\n"
     ]
    }
   ],
   "source": [
    "#!pip install matplotlib update"
   ]
  },
  {
   "cell_type": "code",
   "execution_count": 3,
   "metadata": {},
   "outputs": [],
   "source": [
    "with open('sensitive_analysis_44.pkl','r') as inputs:\n",
    "    data = pickle.load(inputs)"
   ]
  },
  {
   "cell_type": "code",
   "execution_count": 4,
   "metadata": {},
   "outputs": [
    {
     "name": "stdout",
     "output_type": "stream",
     "text": [
      "Requirement already satisfied: numpy in /Library/Frameworks/Python.framework/Versions/2.7/lib/python2.7/site-packages\r\n"
     ]
    }
   ],
   "source": [
    "!pip install numpy"
   ]
  },
  {
   "cell_type": "code",
   "execution_count": 5,
   "metadata": {
    "collapsed": true
   },
   "outputs": [],
   "source": [
    "mitigation = []\n",
    "utility = []\n",
    "price = []"
   ]
  },
  {
   "cell_type": "code",
   "execution_count": 6,
   "metadata": {},
   "outputs": [],
   "source": [
    "for i in range(len(data)):\n",
    "    mitigation.append(data[i][2])\n",
    "    utility.append(data[i][3])\n",
    "    price.append(data[i][4])"
   ]
  },
  {
   "cell_type": "code",
   "execution_count": 7,
   "metadata": {},
   "outputs": [],
   "source": [
    "from tree import TreeModel "
   ]
  },
  {
   "cell_type": "code",
   "execution_count": 9,
   "metadata": {},
   "outputs": [],
   "source": [
    "decision_times=[0, 15, 45, 85, 185, 285, 385]\n",
    "t = TreeModel(decision_times)"
   ]
  },
  {
   "cell_type": "code",
   "execution_count": 10,
   "metadata": {},
   "outputs": [
    {
     "data": {
      "text/plain": [
       "[(0, 0), (1, 2), (3, 6), (7, 14), (15, 30), (31, 62)]"
      ]
     },
     "execution_count": 10,
     "metadata": {},
     "output_type": "execute_result"
    }
   ],
   "source": [
    "nodes_index = []\n",
    "for i in range(t.num_periods):\n",
    "    nodes_index.append(t.get_nodes_in_period(i))\n",
    "nodes_index"
   ]
  },
  {
   "cell_type": "code",
   "execution_count": 11,
   "metadata": {},
   "outputs": [],
   "source": [
    "price_stat_ave = np.zeros((len(data), t.num_periods))"
   ]
  },
  {
   "cell_type": "code",
   "execution_count": 12,
   "metadata": {},
   "outputs": [],
   "source": [
    "for i in range(len(data)):\n",
    "    for j in range(t.num_periods):\n",
    "        price_stat_ave[i,j] = np.average(data[i][4][nodes_index[j][0]:nodes_index[j][1]+1])\n",
    "\n",
    "list0 = price_stat_ave[:,0]\n",
    "list1 = price_stat_ave[:,1]\n",
    "list2 = price_stat_ave[:,2]\n",
    "list3 = price_stat_ave[:,3]\n",
    "list4 = price_stat_ave[:,4]\n",
    "list5 = price_stat_ave[:,5]"
   ]
  },
  {
   "cell_type": "code",
   "execution_count": 13,
   "metadata": {},
   "outputs": [
    {
     "data": {
      "text/plain": [
       "array([ 70.70294342,  60.99318837,  68.05453809,  69.23046701,\n",
       "        67.78508898,  66.93014789,  68.3873694 ,  65.03549799,\n",
       "        69.5141523 ,  67.74174267,  70.85464791,  58.06232256,\n",
       "        67.48263481,  63.423827  ,  65.88115101,  66.22760779,\n",
       "        67.12597135,  68.32665733,  68.36098983,  70.15651501,\n",
       "        69.36553397,  69.58913213,  69.24235487,  66.36611025,\n",
       "        66.43789147,  65.8876672 ,  66.58433317,  68.19918905,\n",
       "        66.31413493,  66.21952781,  63.85967263,  67.01492582,\n",
       "        62.54358647,  57.03344075,  66.07711926,  68.41376662,\n",
       "        54.2932501 ,  66.73697114,  67.89015422,  66.64721385,\n",
       "        69.18931723,  67.74204959,  67.62475047,  64.78325323])"
      ]
     },
     "execution_count": 13,
     "metadata": {},
     "output_type": "execute_result"
    }
   ],
   "source": [
    "list0"
   ]
  },
  {
   "cell_type": "code",
   "execution_count": 14,
   "metadata": {},
   "outputs": [],
   "source": [
    "list_ = [list0,list1,list2,list3,list4,list5]\n",
    "for i in range(len(list_)):\n",
    "    list_[i]=np.sort(list_[i])[2:42]\n",
    "list_min = []\n",
    "list_max = []\n",
    "for i in list_:\n",
    "    list_min.append(i[0])\n",
    "    list_max.append(i[-1])   "
   ]
  },
  {
   "cell_type": "code",
   "execution_count": 15,
   "metadata": {},
   "outputs": [],
   "source": [
    "price_period_ave = []\n",
    "for i in range(t.num_periods):\n",
    "    price"
   ]
  },
  {
   "cell_type": "code",
   "execution_count": 59,
   "metadata": {},
   "outputs": [
    {
     "data": {
      "text/plain": [
       "array([  6.69301479e+01,   1.15612845e+02,   3.51061724e+01,\n",
       "         1.57960457e+02,   8.13640125e+01,   5.90376017e+01,\n",
       "         1.17299336e+01,   1.52532504e+02,   1.41944989e+02,\n",
       "         1.16344764e+02,   3.10786838e+01,   8.63114735e+01,\n",
       "         1.55585464e+01,   1.26496398e+01,   5.77039650e+00,\n",
       "         2.17319445e+01,   2.03208130e+01,   2.27601135e+01,\n",
       "         2.09509558e+01,   3.39985144e+01,   3.22809208e+01,\n",
       "         2.27983197e+01,   7.94453353e+00,   4.73277414e+01,\n",
       "         4.55782601e+01,   1.65249266e+01,   4.77000661e+00,\n",
       "         1.06178798e+01,   5.83735965e+00,   5.65913381e+00,\n",
       "         1.59383458e+00,   3.78343073e+00,   3.59314444e+00,\n",
       "         3.90093473e+00,   3.71731183e+00,   3.87819480e+00,\n",
       "         3.68781003e+00,   4.09182869e+00,   3.05530672e+00,\n",
       "         3.91955187e+00,   3.72393398e+00,   4.01163357e+00,\n",
       "         3.63644055e+00,   1.10706670e+01,   1.08236812e+01,\n",
       "         1.71042182e+01,   2.95811802e+00,   4.63868629e+00,\n",
       "         4.43766908e+00,   4.72881419e+00,   4.46210332e+00,\n",
       "         1.62148761e+01,   1.56178043e+01,   6.67994766e+00,\n",
       "         2.71002500e+00,   1.14942547e+01,   7.64216134e+00,\n",
       "         7.11859352e+00,   2.64219497e+00,   6.73324912e+00,\n",
       "         2.59899756e+00,   2.45901021e+00,   4.57194256e-02])"
      ]
     },
     "execution_count": 59,
     "metadata": {},
     "output_type": "execute_result"
    }
   ],
   "source": [
    "sum_price = np.zeros(t.num_decision_nodes)\n",
    "for j in range(len(data)):\n",
    "    sum_price += data[i][4]\n",
    "average_price = sum_price/len(data)\n",
    "average_price"
   ]
  },
  {
   "cell_type": "code",
   "execution_count": 82,
   "metadata": {},
   "outputs": [],
   "source": [
    "average_price_period=[] \n",
    "average_price_period.append(average_price[0])\n",
    "for i in range(1,len(nodes_index)):\n",
    "    average_price_period.append(np.average(average_price[range(nodes_index[i][0],nodes_index[i][1])]))"
   ]
  },
  {
   "cell_type": "code",
   "execution_count": 83,
   "metadata": {},
   "outputs": [
    {
     "data": {
      "text/plain": [
       "[66.930147885630177,\n",
       " 115.61284492677568,\n",
       " 99.454023890010731,\n",
       " 79.488657117967946,\n",
       " 21.273428220729645,\n",
       " 6.0365997966131761]"
      ]
     },
     "execution_count": 83,
     "metadata": {},
     "output_type": "execute_result"
    }
   ],
   "source": [
    "average_price_period"
   ]
  },
  {
   "cell_type": "code",
   "execution_count": 16,
   "metadata": {},
   "outputs": [
    {
     "data": {
      "image/png": "[encoded data removed]",
      "text/plain": [
       "<matplotlib.figure.Figure at 0x10dfa9d50>"
      ]
     },
     "metadata": {},
     "output_type": "display_data"
    }
   ],
   "source": [
    "plt.figure()\n",
    "plt.plot(decision_times[:-1],list_min, 'r--')\n",
    "plt.plot(decision_times[:-1],list_max,'r--')\n",
    "plt.title('Sensitivity Analysis', size ='xx-large')\n",
    "plt.ylabel('Price in $', size = 'x-large')\n",
    "plt.xlabel('Period Index', size = 'x-large')\n",
    "plt.savefig('sensitive_analysis')\n",
    "#plt.xlim(decision_times)"
   ]
  },
  {
   "cell_type": "code",
   "execution_count": null,
   "metadata": {
    "collapsed": true
   },
   "outputs": [],
   "source": []
  }
 ],
 "metadata": {
  "kernelspec": {
   "display_name": "Python 2",
   "language": "python",
   "name": "python2"
  },
  "language_info": {
   "codemirror_mode": {
    "name": "ipython",
    "version": 2
   },
   "file_extension": ".py",
   "mimetype": "text/x-python",
   "name": "python",
   "nbconvert_exporter": "python",
   "pygments_lexer": "ipython2",
   "version": "2.7.13"
  }
 },
 "nbformat": 4,
 "nbformat_minor": 2
}
