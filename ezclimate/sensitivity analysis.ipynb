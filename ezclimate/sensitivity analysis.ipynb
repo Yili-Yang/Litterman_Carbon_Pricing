{
 "cells": [
  {
   "cell_type": "code",
   "execution_count": 3,
   "metadata": {
    "collapsed": false
   },
   "outputs": [
    {
     "name": "stdout",
     "output_type": "stream",
     "text": [
      "Start 15:45:44.208918\n",
      "End tree 15:45:44.208918\n",
      "End bau 15:45:44.208918\n",
      "End cost 15:45:44.208918\n",
      "Starting damage simulation..\n"
     ]
    },
    {
     "ename": "TypeError",
     "evalue": "a bytes-like object is required, not 'str'",
     "output_type": "error",
     "traceback": [
      "\u001b[1;31m---------------------------------------------------------------------------\u001b[0m",
      "\u001b[1;31mTypeError\u001b[0m                                 Traceback (most recent call last)",
      "\u001b[1;32m<ipython-input-3-894e4bdc1547>\u001b[0m in \u001b[0;36m<module>\u001b[1;34m()\u001b[0m\n\u001b[0;32m     76\u001b[0m     \u001b[0mresult_list\u001b[0m \u001b[1;33m=\u001b[0m \u001b[0mlist\u001b[0m\u001b[1;33m(\u001b[0m\u001b[1;33m)\u001b[0m\u001b[1;33m\u001b[0m\u001b[0m\n\u001b[0;32m     77\u001b[0m     \u001b[1;32mwhile\u001b[0m \u001b[0mcount\u001b[0m \u001b[1;33m<\u001b[0m\u001b[1;36m1\u001b[0m\u001b[1;33m:\u001b[0m\u001b[1;33m\u001b[0m\u001b[0m\n\u001b[1;32m---> 78\u001b[1;33m         \u001b[0mx\u001b[0m\u001b[1;33m=\u001b[0m \u001b[0mbase_case\u001b[0m\u001b[1;33m(\u001b[0m\u001b[1;33m)\u001b[0m\u001b[1;33m\u001b[0m\u001b[0m\n\u001b[0m\u001b[0;32m     79\u001b[0m         \u001b[0mresult_list\u001b[0m\u001b[1;33m.\u001b[0m\u001b[0mappend\u001b[0m\u001b[1;33m(\u001b[0m\u001b[0mx\u001b[0m\u001b[1;33m)\u001b[0m\u001b[1;33m\u001b[0m\u001b[0m\n\u001b[0;32m     80\u001b[0m         \u001b[0mcount\u001b[0m \u001b[1;33m+=\u001b[0m\u001b[1;36m1\u001b[0m\u001b[1;33m\u001b[0m\u001b[0m\n",
      "\u001b[1;32m<ipython-input-3-894e4bdc1547>\u001b[0m in \u001b[0;36mbase_case\u001b[1;34m()\u001b[0m\n\u001b[0;32m     39\u001b[0m     \u001b[0mdf\u001b[0m \u001b[1;33m=\u001b[0m \u001b[0mDLWDamage\u001b[0m\u001b[1;33m(\u001b[0m\u001b[0mtree\u001b[0m\u001b[1;33m=\u001b[0m\u001b[0mt\u001b[0m\u001b[1;33m,\u001b[0m \u001b[0mbau\u001b[0m\u001b[1;33m=\u001b[0m\u001b[0mbau_default_model\u001b[0m\u001b[1;33m,\u001b[0m \u001b[0mcons_growth\u001b[0m\u001b[1;33m=\u001b[0m\u001b[1;36m0.015\u001b[0m\u001b[1;33m,\u001b[0m \u001b[0mghg_levels\u001b[0m\u001b[1;33m=\u001b[0m\u001b[1;33m[\u001b[0m\u001b[1;36m450\u001b[0m\u001b[1;33m,\u001b[0m \u001b[1;36m650\u001b[0m\u001b[1;33m,\u001b[0m \u001b[1;36m1000\u001b[0m\u001b[1;33m]\u001b[0m\u001b[1;33m,\u001b[0m \u001b[0msubinterval_len\u001b[0m\u001b[1;33m=\u001b[0m\u001b[1;36m5\u001b[0m\u001b[1;33m)\u001b[0m\u001b[1;33m\u001b[0m\u001b[0m\n\u001b[0;32m     40\u001b[0m     df.damage_simulation(draws=4000000, peak_temp=6.0, disaster_tail=18.0, tip_on=True, \n\u001b[1;32m---> 41\u001b[1;33m \t\t\t\t\t\t\t temp_map=0, temp_dist_params=None, maxh=100.0,change=[1,1,1])\n\u001b[0m\u001b[0;32m     42\u001b[0m     \u001b[0mprint\u001b[0m\u001b[1;33m(\u001b[0m\u001b[1;34m'End damage'\u001b[0m\u001b[1;33m,\u001b[0m\u001b[0mdt\u001b[0m\u001b[1;33m.\u001b[0m\u001b[0mdatetime\u001b[0m\u001b[1;33m.\u001b[0m\u001b[0mtime\u001b[0m\u001b[1;33m(\u001b[0m\u001b[0mdt\u001b[0m\u001b[1;33m.\u001b[0m\u001b[0mdatetime\u001b[0m\u001b[1;33m.\u001b[0m\u001b[0mnow\u001b[0m\u001b[1;33m(\u001b[0m\u001b[1;33m)\u001b[0m\u001b[1;33m)\u001b[0m\u001b[1;33m)\u001b[0m\u001b[1;33m\u001b[0m\u001b[0m\n\u001b[0;32m     43\u001b[0m     \u001b[0mtime_list\u001b[0m\u001b[1;33m.\u001b[0m\u001b[0mappend\u001b[0m\u001b[1;33m(\u001b[0m\u001b[0mdt\u001b[0m\u001b[1;33m.\u001b[0m\u001b[0mdatetime\u001b[0m\u001b[1;33m.\u001b[0m\u001b[0mtime\u001b[0m\u001b[1;33m(\u001b[0m\u001b[0mdt\u001b[0m\u001b[1;33m.\u001b[0m\u001b[0mdatetime\u001b[0m\u001b[1;33m.\u001b[0m\u001b[0mnow\u001b[0m\u001b[1;33m(\u001b[0m\u001b[1;33m)\u001b[0m\u001b[1;33m)\u001b[0m\u001b[1;33m)\u001b[0m\u001b[1;33m\u001b[0m\u001b[0m\n",
      "\u001b[1;32mS:\\Matlab_Remote_Users\\Yilli_Yang\\Litterman_Carbon_Pricing\\ezclimate\\damage_Yili.py\u001b[0m in \u001b[0;36mdamage_simulation\u001b[1;34m(self, draws, peak_temp, disaster_tail, tip_on, temp_map, temp_dist_params, maxh, save_simulation, change)\u001b[0m\n\u001b[0;32m    269\u001b[0m \t\t\t\t\ttemp_dist_params=temp_dist_params, maxh=maxh, cons_growth=self.cons_growth)\n\u001b[0;32m    270\u001b[0m                 \u001b[0mprint\u001b[0m\u001b[1;33m(\u001b[0m\u001b[1;34m\"Starting damage simulation..\"\u001b[0m\u001b[1;33m)\u001b[0m\u001b[1;33m\u001b[0m\u001b[0m\n\u001b[1;32m--> 271\u001b[1;33m                 \u001b[0mself\u001b[0m\u001b[1;33m.\u001b[0m\u001b[0md\u001b[0m\u001b[1;33m,\u001b[0m \u001b[0mself\u001b[0m\u001b[1;33m.\u001b[0m\u001b[0mparameter_list\u001b[0m\u001b[1;33m=\u001b[0m \u001b[0mds\u001b[0m\u001b[1;33m.\u001b[0m\u001b[0msimulate\u001b[0m\u001b[1;33m(\u001b[0m\u001b[0mdraws\u001b[0m\u001b[1;33m,\u001b[0m\u001b[0mchange\u001b[0m\u001b[1;33m,\u001b[0m \u001b[0mwrite_to_file\u001b[0m \u001b[1;33m=\u001b[0m \u001b[0msave_simulation\u001b[0m\u001b[1;33m)\u001b[0m\u001b[1;33m\u001b[0m\u001b[0m\n\u001b[0m\u001b[0;32m    272\u001b[0m                 \u001b[0mprint\u001b[0m\u001b[1;33m(\u001b[0m\u001b[1;34m\"Done!\"\u001b[0m\u001b[1;33m)\u001b[0m\u001b[1;33m\u001b[0m\u001b[0m\n\u001b[0;32m    273\u001b[0m                 \u001b[0mself\u001b[0m\u001b[1;33m.\u001b[0m\u001b[0m_damage_interpolation\u001b[0m\u001b[1;33m(\u001b[0m\u001b[1;33m)\u001b[0m\u001b[1;33m\u001b[0m\u001b[0m\n",
      "\u001b[1;32mS:\\Matlab_Remote_Users\\Yilli_Yang\\Litterman_Carbon_Pricing\\ezclimate\\Damage_Simulation_Yili.py\u001b[0m in \u001b[0;36msimulate\u001b[1;34m(self, draws, change, write_to_file)\u001b[0m\n\u001b[0;32m    345\u001b[0m \u001b[1;33m\u001b[0m\u001b[0m\n\u001b[0;32m    346\u001b[0m         \u001b[1;32mif\u001b[0m \u001b[0mwrite_to_file\u001b[0m\u001b[1;33m:\u001b[0m\u001b[1;33m\u001b[0m\u001b[0m\n\u001b[1;32m--> 347\u001b[1;33m             \u001b[0mself\u001b[0m\u001b[1;33m.\u001b[0m\u001b[0m_write_to_file\u001b[0m\u001b[1;33m(\u001b[0m\u001b[1;33m)\u001b[0m\u001b[1;33m\u001b[0m\u001b[0m\n\u001b[0m\u001b[0;32m    348\u001b[0m         \u001b[1;32mreturn\u001b[0m \u001b[0mself\u001b[0m\u001b[1;33m.\u001b[0m\u001b[0md\u001b[0m\u001b[1;33m,\u001b[0m \u001b[0mparameter_list\u001b[0m\u001b[1;33m\u001b[0m\u001b[0m\n\u001b[0;32m    349\u001b[0m \u001b[1;33m\u001b[0m\u001b[0m\n",
      "\u001b[1;32mS:\\Matlab_Remote_Users\\Yilli_Yang\\Litterman_Carbon_Pricing\\ezclimate\\Damage_Simulation_Yili.py\u001b[0m in \u001b[0;36m_write_to_file\u001b[1;34m(self)\u001b[0m\n\u001b[0;32m    101\u001b[0m     \u001b[1;32mdef\u001b[0m \u001b[0m_write_to_file\u001b[0m\u001b[1;33m(\u001b[0m\u001b[0mself\u001b[0m\u001b[1;33m)\u001b[0m\u001b[1;33m:\u001b[0m\u001b[1;33m\u001b[0m\u001b[0m\n\u001b[0;32m    102\u001b[0m         \u001b[0mfilename\u001b[0m \u001b[1;33m=\u001b[0m \u001b[1;34m\"simulated_damages\"\u001b[0m\u001b[1;33m\u001b[0m\u001b[0m\n\u001b[1;32m--> 103\u001b[1;33m         \u001b[0mwrite_columns_csv\u001b[0m\u001b[1;33m(\u001b[0m\u001b[0mself\u001b[0m\u001b[1;33m.\u001b[0m\u001b[0md\u001b[0m\u001b[1;33m[\u001b[0m\u001b[1;36m0\u001b[0m\u001b[1;33m]\u001b[0m\u001b[1;33m.\u001b[0m\u001b[0mT\u001b[0m\u001b[1;33m,\u001b[0m \u001b[0mfilename\u001b[0m\u001b[1;33m)\u001b[0m\u001b[1;33m\u001b[0m\u001b[0m\n\u001b[0m\u001b[0;32m    104\u001b[0m         \u001b[1;32mfor\u001b[0m \u001b[0marr\u001b[0m \u001b[1;32min\u001b[0m \u001b[0mself\u001b[0m\u001b[1;33m.\u001b[0m\u001b[0md\u001b[0m\u001b[1;33m[\u001b[0m\u001b[1;36m1\u001b[0m\u001b[1;33m:\u001b[0m\u001b[1;33m]\u001b[0m\u001b[1;33m:\u001b[0m\u001b[1;33m\u001b[0m\u001b[0m\n\u001b[0;32m    105\u001b[0m             \u001b[0mappend_to_existing\u001b[0m\u001b[1;33m(\u001b[0m\u001b[0marr\u001b[0m\u001b[1;33m.\u001b[0m\u001b[0mT\u001b[0m\u001b[1;33m,\u001b[0m \u001b[0mfilename\u001b[0m\u001b[1;33m,\u001b[0m \u001b[0mstart_char\u001b[0m\u001b[1;33m=\u001b[0m\u001b[1;34m'#'\u001b[0m\u001b[1;33m)\u001b[0m\u001b[1;33m\u001b[0m\u001b[0m\n",
      "\u001b[1;32mS:\\Matlab_Remote_Users\\Yilli_Yang\\Litterman_Carbon_Pricing\\ezclimate\\tools.py\u001b[0m in \u001b[0;36mwrite_columns_csv\u001b[1;34m(lst, file_name, header, index, start_char, delimiter, open_as)\u001b[0m\n\u001b[0;32m     56\u001b[0m                         \u001b[0mwriter\u001b[0m\u001b[1;33m.\u001b[0m\u001b[0mwriterow\u001b[0m\u001b[1;33m(\u001b[0m\u001b[0mheader\u001b[0m\u001b[1;33m)\u001b[0m\u001b[1;33m\u001b[0m\u001b[0m\n\u001b[0;32m     57\u001b[0m                 \u001b[1;32mfor\u001b[0m \u001b[0mrow\u001b[0m \u001b[1;32min\u001b[0m \u001b[0moutput_lst\u001b[0m\u001b[1;33m:\u001b[0m\u001b[1;33m\u001b[0m\u001b[0m\n\u001b[1;32m---> 58\u001b[1;33m                         \u001b[0mwriter\u001b[0m\u001b[1;33m.\u001b[0m\u001b[0mwriterow\u001b[0m\u001b[1;33m(\u001b[0m\u001b[0mrow\u001b[0m\u001b[1;33m)\u001b[0m\u001b[1;33m\u001b[0m\u001b[0m\n\u001b[0m\u001b[0;32m     59\u001b[0m \u001b[1;33m\u001b[0m\u001b[0m\n\u001b[0;32m     60\u001b[0m \u001b[1;32mdef\u001b[0m \u001b[0mwrite_columns_to_existing\u001b[0m\u001b[1;33m(\u001b[0m\u001b[0mlst\u001b[0m\u001b[1;33m,\u001b[0m \u001b[0mfile_name\u001b[0m\u001b[1;33m,\u001b[0m \u001b[0mheader\u001b[0m\u001b[1;33m=\u001b[0m\u001b[1;34m\"\"\u001b[0m\u001b[1;33m,\u001b[0m \u001b[0mdelimiter\u001b[0m\u001b[1;33m=\u001b[0m\u001b[1;34m';'\u001b[0m\u001b[1;33m)\u001b[0m\u001b[1;33m:\u001b[0m\u001b[1;33m\u001b[0m\u001b[0m\n",
      "\u001b[1;31mTypeError\u001b[0m: a bytes-like object is required, not 'str'"
     ]
    }
   ],
   "source": [
    "# -*- coding: utf-8 -*-\n",
    "\"\"\"\n",
    "Created on Tue Jun 20 10:26:46 2017\n",
    "\n",
    "@author: matlabyy\n",
    "\"\"\"\n",
    "\n",
    "# -*- coding: utf-8 -*-\n",
    "\"\"\"\n",
    "Created on Fri Jun 16 15:16:44 2017\n",
    "\n",
    "@author: Ted Yang\n",
    "\"\"\"\n",
    "\n",
    "import datetime as dt\n",
    "from tree import TreeModel\n",
    "from bau import DLWBusinessAsUsual\n",
    "from cost import DLWCost\n",
    "from damage_Yili import DLWDamage\n",
    "from utility import EZUtility\n",
    "from optimization import GeneticAlgorithm, GradientSearch\n",
    "import numpy as np\n",
    "import pickle\n",
    "def base_case():\n",
    "    time_list =list()\n",
    "    print('Start',dt.datetime.time(dt.datetime.now()))\n",
    "    time_list.append(dt.datetime.time(dt.datetime.now()))\n",
    "    t = TreeModel(decision_times=[0, 15, 45, 85, 185, 285, 385])\n",
    "    print('End tree',dt.datetime.time(dt.datetime.now()))\n",
    "    time_list.append(dt.datetime.time(dt.datetime.now()))\n",
    "    bau_default_model = DLWBusinessAsUsual()\n",
    "    bau_default_model.bau_emissions_setup(tree=t)\n",
    "    print('End bau',dt.datetime.time(dt.datetime.now()))\n",
    "    time_list.append(dt.datetime.time(dt.datetime.now()))\n",
    "    c = DLWCost(t, bau_default_model.emit_level[0], g=92.08, a=3.413, join_price=2000.0, max_price=2500.0,\n",
    "\t\t\t\t\ttech_const=1.5, tech_scale=0.0, cons_at_0=30460.0)\n",
    "    print('End cost',dt.datetime.time(dt.datetime.now()))\n",
    "    time_list.append(dt.datetime.time(dt.datetime.now()))\n",
    "    df = DLWDamage(tree=t, bau=bau_default_model, cons_growth=0.015, ghg_levels=[450, 650, 1000], subinterval_len=5)    \n",
    "    df.damage_simulation(draws=4000000, peak_temp=6.0, disaster_tail=18.0, tip_on=True, \n",
    "\t\t\t\t\t\t\t temp_map=0, temp_dist_params=None, maxh=100.0,change=[1,1,1])\n",
    "    print('End damage',dt.datetime.time(dt.datetime.now()))\n",
    "    time_list.append(dt.datetime.time(dt.datetime.now()))\n",
    "    u = EZUtility(tree=t, damage=df, cost=c, period_len=5.0, eis=0.9, ra=7.0, time_pref=0.005)\n",
    "    print('End utility',dt.datetime.time(dt.datetime.now()))\n",
    "    time_list.append(dt.datetime.time(dt.datetime.now()))\n",
    "    ga_model = GeneticAlgorithm(pop_amount=150, num_generations=1, cx_prob=0.8, mut_prob=0.5, \n",
    "\t                            bound=1.5, num_feature=63, utility=u, print_progress=True) \n",
    "    gs_model = GradientSearch(var_nums=63, utility=u, accuracy=1e-8, \n",
    "\t                          iterations=1, print_progress=True)\n",
    "    final_pop, fitness = ga_model.run()\n",
    "    sort_pop = final_pop[np.argsort(fitness)][::-1]\n",
    "    m_opt, u_opt = gs_model.run(initial_point_list=sort_pop, topk=1)\n",
    "\n",
    "    print(\"SCC: \", c.price(0, m_opt[0], 0))\n",
    "    print('End opt/End',dt.datetime.time(dt.datetime.now()))\n",
    "    time_list.append(dt.datetime.time(dt.datetime.now()))\n",
    "    result_time_list =[0]\n",
    "    #change dt.time to dt.timedelta so that it can be added or minused\n",
    "    temp_list =list()\n",
    "    for x in time_list:\n",
    "        temp_list.append( dt.timedelta(hours=x.hour, minutes=x.minute, seconds=x.second, microseconds=x.microsecond))\n",
    "    for i in range(len(temp_list)-1):\n",
    "        i+=1\n",
    "        result_time_list.append((temp_list[i]-temp_list[i-1]).total_seconds())\n",
    "    price_list = list()\n",
    "    for decision_time in range(len(t.decision_times)-1):\n",
    "    \tstart_node,end_node = t.get_nodes_in_period(decision_time)\n",
    "    \taverage_mit = df.average_mitigation(m_opt,decision_time)\n",
    "    \tfor index in range(end_node-start_node+1):\n",
    "    \t\tindex_ori =index + start_node\n",
    "    \t\tprice_list.append(c.price(t.decision_times[decision_time],m_opt[index_ori],average_mit[index]))\n",
    "    return result_time_list,df.parameter_list, m_opt,u_opt,price_list\n",
    "if __name__ == \"__main__\":\n",
    "    count =0\n",
    "    result_list = list()\n",
    "    while count <1:\n",
    "        x= base_case()\n",
    "        result_list.append(x)\n",
    "        count +=1\n",
    "    with open('sensitive_analysis_1.pkl','wb') as f:\n",
    "        pickle.dump(result_list,f)\n",
    "    with open('sensitive_analysis_1.pkl','rb') as inputs:\n",
    "        re = pickle.load(inputs)\n",
    "    print(re)"
   ]
  },
  {
   "cell_type": "code",
   "execution_count": 2,
   "metadata": {
    "collapsed": false
   },
   "outputs": [
    {
     "name": "stdout",
     "output_type": "stream",
     "text": [
      "Collecting numpy\n",
      "  Downloading numpy-1.13.0-cp36-none-win_amd64.whl (7.8MB)\n",
      "Installing collected packages: numpy\n",
      "Successfully installed numpy-1.13.0\n"
     ]
    }
   ],
   "source": [
    "!pip install numpy"
   ]
  },
  {
   "cell_type": "code",
   "execution_count": null,
   "metadata": {
    "collapsed": true
   },
   "outputs": [],
   "source": []
  }
 ],
 "metadata": {
  "kernelspec": {
   "display_name": "py36-jupyter",
   "language": "python",
   "name": "py36-jupyter"
  },
  "language_info": {
   "codemirror_mode": {
    "name": "ipython",
    "version": 3
   },
   "file_extension": ".py",
   "mimetype": "text/x-python",
   "name": "python",
   "nbconvert_exporter": "python",
   "pygments_lexer": "ipython3",
   "version": "3.6.1"
  }
 },
 "nbformat": 4,
 "nbformat_minor": 2
}
