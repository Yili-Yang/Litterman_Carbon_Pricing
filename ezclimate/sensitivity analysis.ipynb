{
 "cells": [
  {
   "cell_type": "code",
   "execution_count": 5,
   "metadata": {
    "collapsed": false
   },
   "outputs": [
    {
     "name": "stdout",
     "output_type": "stream",
     "text": [
      "('Start', datetime.time(16, 34, 16, 591000))\n",
      "('End tree', datetime.time(16, 34, 16, 591000))\n",
      "('End bau', datetime.time(16, 34, 16, 608000))\n",
      "('End cost', datetime.time(16, 34, 16, 608000))\n",
      "Starting damage simulation..\n",
      "Done!\n",
      "('End damage', datetime.time(16, 34, 17, 168000))\n",
      "('End utility', datetime.time(16, 34, 17, 168000))\n",
      "----------------Genetic Evolution Starting----------------\n",
      "-- Generation 1 --\n",
      " Min 1.70569266155e-15 \n",
      " Max 8.36358215786 \n",
      " Avg 5.73172063902\n",
      " Std 3.32095868597 \n",
      " Population Size 150\n",
      " Best Individual:  [  2.53798146e-01   5.52507105e-01   3.59019679e-01   2.77222073e-01\n",
      "   4.51074929e-01   8.95142501e-02   8.75453449e-01   2.28567754e-02\n",
      "   1.17884861e+00   8.07151146e-01   2.24274554e-01   7.50489499e-01\n",
      "   7.03106947e-01   1.89298867e-01   9.10094198e-01   1.45253019e+00\n",
      "   1.79855058e+00   5.58848774e-01   9.93389351e-01   6.50783354e-02\n",
      "   2.31707144e-02   2.66461572e-01   1.11285953e+00   7.98847649e-01\n",
      "   5.37441955e-01   6.85630778e-01   2.89874208e-01   9.06725385e-01\n",
      "   1.40915430e+00   4.64290940e-01   7.09698058e-01   1.10513609e+00\n",
      "   1.14934281e+00   3.27923823e-01   1.07798164e+00   9.80432493e-01\n",
      "   8.24679365e-01   8.34579051e-01   1.43353416e+00   1.13707207e+00\n",
      "   1.62557914e-01   2.43033817e-01   7.81978410e-01   6.74168839e-01\n",
      "   1.00000000e-05   1.36977077e+00   1.11834293e+00   5.28953883e-01\n",
      "   1.26890958e+00   9.73571991e-01   1.19191543e+00   1.00000000e-05\n",
      "   5.98556172e-01   1.36607946e+00   9.01162575e-01   1.60399035e+00\n",
      "   1.49034437e+00   3.38651652e-01   1.06248967e+00   1.07909415e-01\n",
      "   1.04637916e+00   1.60760720e-01   1.00172938e+00]\n",
      "----------------Gradient Search Starting----------------\n",
      "Starting process 1 of Gradient Descent\n"
     ]
    },
    {
     "ename": "KeyboardInterrupt",
     "evalue": "",
     "output_type": "error",
     "traceback": [
      "\u001b[1;31m---------------------------------------------------------------------------\u001b[0m",
      "\u001b[1;31mKeyboardInterrupt\u001b[0m                         Traceback (most recent call last)",
      "\u001b[1;32m<ipython-input-5-dfb3b92eaa5e>\u001b[0m in \u001b[0;36m<module>\u001b[1;34m()\u001b[0m\n\u001b[0;32m     76\u001b[0m     \u001b[0mresult_list\u001b[0m \u001b[1;33m=\u001b[0m \u001b[0mlist\u001b[0m\u001b[1;33m(\u001b[0m\u001b[1;33m)\u001b[0m\u001b[1;33m\u001b[0m\u001b[0m\n\u001b[0;32m     77\u001b[0m     \u001b[1;32mwhile\u001b[0m \u001b[0mcount\u001b[0m \u001b[1;33m<\u001b[0m\u001b[1;36m1\u001b[0m\u001b[1;33m:\u001b[0m\u001b[1;33m\u001b[0m\u001b[0m\n\u001b[1;32m---> 78\u001b[1;33m         \u001b[0mx\u001b[0m\u001b[1;33m=\u001b[0m \u001b[0mbase_case\u001b[0m\u001b[1;33m(\u001b[0m\u001b[1;33m)\u001b[0m\u001b[1;33m\u001b[0m\u001b[0m\n\u001b[0m\u001b[0;32m     79\u001b[0m         \u001b[0mresult_list\u001b[0m\u001b[1;33m.\u001b[0m\u001b[0mappend\u001b[0m\u001b[1;33m(\u001b[0m\u001b[0mx\u001b[0m\u001b[1;33m)\u001b[0m\u001b[1;33m\u001b[0m\u001b[0m\n\u001b[0;32m     80\u001b[0m         \u001b[0mcount\u001b[0m \u001b[1;33m+=\u001b[0m\u001b[1;36m1\u001b[0m\u001b[1;33m\u001b[0m\u001b[0m\n",
      "\u001b[1;32m<ipython-input-5-dfb3b92eaa5e>\u001b[0m in \u001b[0;36mbase_case\u001b[1;34m()\u001b[0m\n\u001b[0;32m     51\u001b[0m     \u001b[0mfinal_pop\u001b[0m\u001b[1;33m,\u001b[0m \u001b[0mfitness\u001b[0m \u001b[1;33m=\u001b[0m \u001b[0mga_model\u001b[0m\u001b[1;33m.\u001b[0m\u001b[0mrun\u001b[0m\u001b[1;33m(\u001b[0m\u001b[1;33m)\u001b[0m\u001b[1;33m\u001b[0m\u001b[0m\n\u001b[0;32m     52\u001b[0m     \u001b[0msort_pop\u001b[0m \u001b[1;33m=\u001b[0m \u001b[0mfinal_pop\u001b[0m\u001b[1;33m[\u001b[0m\u001b[0mnp\u001b[0m\u001b[1;33m.\u001b[0m\u001b[0margsort\u001b[0m\u001b[1;33m(\u001b[0m\u001b[0mfitness\u001b[0m\u001b[1;33m)\u001b[0m\u001b[1;33m]\u001b[0m\u001b[1;33m[\u001b[0m\u001b[1;33m:\u001b[0m\u001b[1;33m:\u001b[0m\u001b[1;33m-\u001b[0m\u001b[1;36m1\u001b[0m\u001b[1;33m]\u001b[0m\u001b[1;33m\u001b[0m\u001b[0m\n\u001b[1;32m---> 53\u001b[1;33m     \u001b[0mm_opt\u001b[0m\u001b[1;33m,\u001b[0m \u001b[0mu_opt\u001b[0m \u001b[1;33m=\u001b[0m \u001b[0mgs_model\u001b[0m\u001b[1;33m.\u001b[0m\u001b[0mrun\u001b[0m\u001b[1;33m(\u001b[0m\u001b[0minitial_point_list\u001b[0m\u001b[1;33m=\u001b[0m\u001b[0msort_pop\u001b[0m\u001b[1;33m,\u001b[0m \u001b[0mtopk\u001b[0m\u001b[1;33m=\u001b[0m\u001b[1;36m1\u001b[0m\u001b[1;33m)\u001b[0m\u001b[1;33m\u001b[0m\u001b[0m\n\u001b[0m\u001b[0;32m     54\u001b[0m \u001b[1;33m\u001b[0m\u001b[0m\n\u001b[0;32m     55\u001b[0m     \u001b[1;32mprint\u001b[0m\u001b[1;33m(\u001b[0m\u001b[1;34m\"SCC: \"\u001b[0m\u001b[1;33m,\u001b[0m \u001b[0mc\u001b[0m\u001b[1;33m.\u001b[0m\u001b[0mprice\u001b[0m\u001b[1;33m(\u001b[0m\u001b[1;36m0\u001b[0m\u001b[1;33m,\u001b[0m \u001b[0mm_opt\u001b[0m\u001b[1;33m[\u001b[0m\u001b[1;36m0\u001b[0m\u001b[1;33m]\u001b[0m\u001b[1;33m,\u001b[0m \u001b[1;36m0\u001b[0m\u001b[1;33m)\u001b[0m\u001b[1;33m)\u001b[0m\u001b[1;33m\u001b[0m\u001b[0m\n",
      "\u001b[1;32mD:\\Columbia\\wri\\Litterman_Carbon_Pricing\\ezclimate\\optimization.py\u001b[0m in \u001b[0;36mrun\u001b[1;34m(self, initial_point_list, topk)\u001b[0m\n\u001b[0;32m    558\u001b[0m                                 \u001b[0mcp\u001b[0m \u001b[1;33m=\u001b[0m \u001b[0mnp\u001b[0m\u001b[1;33m.\u001b[0m\u001b[0marray\u001b[0m\u001b[1;33m(\u001b[0m\u001b[0mcp\u001b[0m\u001b[1;33m)\u001b[0m\u001b[1;33m\u001b[0m\u001b[0m\n\u001b[0;32m    559\u001b[0m                         \u001b[1;32mprint\u001b[0m\u001b[1;33m(\u001b[0m\u001b[1;34m\"Starting process {} of Gradient Descent\"\u001b[0m\u001b[1;33m.\u001b[0m\u001b[0mformat\u001b[0m\u001b[1;33m(\u001b[0m\u001b[0mcount\u001b[0m\u001b[1;33m+\u001b[0m\u001b[1;36m1\u001b[0m\u001b[1;33m)\u001b[0m\u001b[1;33m)\u001b[0m\u001b[1;33m\u001b[0m\u001b[0m\n\u001b[1;32m--> 560\u001b[1;33m                         \u001b[0mm\u001b[0m\u001b[1;33m,\u001b[0m \u001b[0mu\u001b[0m  \u001b[1;33m=\u001b[0m \u001b[0mself\u001b[0m\u001b[1;33m.\u001b[0m\u001b[0mgradient_descent\u001b[0m\u001b[1;33m(\u001b[0m\u001b[0mcp\u001b[0m\u001b[1;33m)\u001b[0m\u001b[1;33m\u001b[0m\u001b[0m\n\u001b[0m\u001b[0;32m    561\u001b[0m                         \u001b[0mmitigations\u001b[0m\u001b[1;33m.\u001b[0m\u001b[0mappend\u001b[0m\u001b[1;33m(\u001b[0m\u001b[0mm\u001b[0m\u001b[1;33m)\u001b[0m\u001b[1;33m\u001b[0m\u001b[0m\n\u001b[0;32m    562\u001b[0m                         \u001b[0mutilities\u001b[0m\u001b[1;33m[\u001b[0m\u001b[0mcount\u001b[0m\u001b[1;33m]\u001b[0m \u001b[1;33m=\u001b[0m \u001b[0mu\u001b[0m\u001b[1;33m\u001b[0m\u001b[0m\n",
      "\u001b[1;32mD:\\Columbia\\wri\\Litterman_Carbon_Pricing\\ezclimate\\optimization.py\u001b[0m in \u001b[0;36mgradient_descent\u001b[1;34m(self, initial_point, return_last)\u001b[0m\n\u001b[0;32m    493\u001b[0m                 \u001b[1;31m# formula at http://sebastianruder.com/optimizing-gradient-descent/index.html#fnref:15\u001b[0m\u001b[1;33m\u001b[0m\u001b[1;33m\u001b[0m\u001b[0m\n\u001b[0;32m    494\u001b[0m                 \u001b[1;32mfor\u001b[0m \u001b[0mi\u001b[0m \u001b[1;32min\u001b[0m \u001b[0mrange\u001b[0m\u001b[1;33m(\u001b[0m\u001b[0mself\u001b[0m\u001b[1;33m.\u001b[0m\u001b[0miterations\u001b[0m\u001b[1;33m)\u001b[0m\u001b[1;33m:\u001b[0m\u001b[1;33m\u001b[0m\u001b[0m\n\u001b[1;32m--> 495\u001b[1;33m                         \u001b[0mgrad\u001b[0m \u001b[1;33m=\u001b[0m \u001b[0mself\u001b[0m\u001b[1;33m.\u001b[0m\u001b[0mnumerical_gradient\u001b[0m\u001b[1;33m(\u001b[0m\u001b[0mx_hist\u001b[0m\u001b[1;33m[\u001b[0m\u001b[0mi\u001b[0m\u001b[1;33m]\u001b[0m\u001b[1;33m,\u001b[0m \u001b[0mfixed_indicies\u001b[0m\u001b[1;33m=\u001b[0m\u001b[0mself\u001b[0m\u001b[1;33m.\u001b[0m\u001b[0mfixed_indicies\u001b[0m\u001b[1;33m)\u001b[0m\u001b[1;33m\u001b[0m\u001b[0m\n\u001b[0m\u001b[0;32m    496\u001b[0m                         \u001b[0mm_t\u001b[0m \u001b[1;33m=\u001b[0m \u001b[0mbeta1\u001b[0m\u001b[1;33m*\u001b[0m\u001b[0mm_t\u001b[0m \u001b[1;33m+\u001b[0m \u001b[1;33m(\u001b[0m\u001b[1;36m1\u001b[0m\u001b[1;33m-\u001b[0m\u001b[0mbeta1\u001b[0m\u001b[1;33m)\u001b[0m\u001b[1;33m*\u001b[0m\u001b[0mgrad\u001b[0m\u001b[1;33m\u001b[0m\u001b[0m\n\u001b[0;32m    497\u001b[0m                         \u001b[0mv_t\u001b[0m \u001b[1;33m=\u001b[0m \u001b[0mbeta2\u001b[0m\u001b[1;33m*\u001b[0m\u001b[0mv_t\u001b[0m \u001b[1;33m+\u001b[0m \u001b[1;33m(\u001b[0m\u001b[1;36m1\u001b[0m\u001b[1;33m-\u001b[0m\u001b[0mbeta2\u001b[0m\u001b[1;33m)\u001b[0m\u001b[1;33m*\u001b[0m\u001b[0mnp\u001b[0m\u001b[1;33m.\u001b[0m\u001b[0mpower\u001b[0m\u001b[1;33m(\u001b[0m\u001b[0mgrad\u001b[0m\u001b[1;33m,\u001b[0m \u001b[1;36m2\u001b[0m\u001b[1;33m)\u001b[0m\u001b[1;33m\u001b[0m\u001b[0m\n",
      "\u001b[1;32mD:\\Columbia\\wri\\Litterman_Carbon_Pricing\\ezclimate\\optimization.py\u001b[0m in \u001b[0;36mnumerical_gradient\u001b[1;34m(self, m, delta, fixed_indicies)\u001b[0m\n\u001b[0;32m    440\u001b[0m                 \u001b[0mpool\u001b[0m \u001b[1;33m=\u001b[0m \u001b[0mmultiprocessing\u001b[0m\u001b[1;33m.\u001b[0m\u001b[0mPool\u001b[0m\u001b[1;33m(\u001b[0m\u001b[1;33m)\u001b[0m\u001b[1;33m\u001b[0m\u001b[0m\n\u001b[0;32m    441\u001b[0m                 \u001b[0mindicies\u001b[0m \u001b[1;33m=\u001b[0m \u001b[0mnp\u001b[0m\u001b[1;33m.\u001b[0m\u001b[0mdelete\u001b[0m\u001b[1;33m(\u001b[0m\u001b[0mrange\u001b[0m\u001b[1;33m(\u001b[0m\u001b[0mlen\u001b[0m\u001b[1;33m(\u001b[0m\u001b[0mm\u001b[0m\u001b[1;33m)\u001b[0m\u001b[1;33m)\u001b[0m\u001b[1;33m,\u001b[0m \u001b[0mfixed_indicies\u001b[0m\u001b[1;33m)\u001b[0m\u001b[1;33m\u001b[0m\u001b[0m\n\u001b[1;32m--> 442\u001b[1;33m                 \u001b[0mres\u001b[0m \u001b[1;33m=\u001b[0m \u001b[0mpool\u001b[0m\u001b[1;33m.\u001b[0m\u001b[0mmap\u001b[0m\u001b[1;33m(\u001b[0m\u001b[0mself\u001b[0m\u001b[1;33m.\u001b[0m\u001b[0m_partial_grad\u001b[0m\u001b[1;33m,\u001b[0m \u001b[0mindicies\u001b[0m\u001b[1;33m)\u001b[0m\u001b[1;33m\u001b[0m\u001b[0m\n\u001b[0m\u001b[0;32m    443\u001b[0m                 \u001b[1;32mfor\u001b[0m \u001b[0mg\u001b[0m\u001b[1;33m,\u001b[0m \u001b[0mi\u001b[0m \u001b[1;32min\u001b[0m \u001b[0mres\u001b[0m\u001b[1;33m:\u001b[0m\u001b[1;33m\u001b[0m\u001b[0m\n\u001b[0;32m    444\u001b[0m                         \u001b[0mgrad\u001b[0m\u001b[1;33m[\u001b[0m\u001b[0mi\u001b[0m\u001b[1;33m]\u001b[0m \u001b[1;33m=\u001b[0m \u001b[0mg\u001b[0m\u001b[1;33m\u001b[0m\u001b[0m\n",
      "\u001b[1;32mD:\\Ted_Yang\\Anaconda\\envs\\py27\\lib\\multiprocessing\\pool.pyc\u001b[0m in \u001b[0;36mmap\u001b[1;34m(self, func, iterable, chunksize)\u001b[0m\n\u001b[0;32m    249\u001b[0m         '''\n\u001b[0;32m    250\u001b[0m         \u001b[1;32massert\u001b[0m \u001b[0mself\u001b[0m\u001b[1;33m.\u001b[0m\u001b[0m_state\u001b[0m \u001b[1;33m==\u001b[0m \u001b[0mRUN\u001b[0m\u001b[1;33m\u001b[0m\u001b[0m\n\u001b[1;32m--> 251\u001b[1;33m         \u001b[1;32mreturn\u001b[0m \u001b[0mself\u001b[0m\u001b[1;33m.\u001b[0m\u001b[0mmap_async\u001b[0m\u001b[1;33m(\u001b[0m\u001b[0mfunc\u001b[0m\u001b[1;33m,\u001b[0m \u001b[0miterable\u001b[0m\u001b[1;33m,\u001b[0m \u001b[0mchunksize\u001b[0m\u001b[1;33m)\u001b[0m\u001b[1;33m.\u001b[0m\u001b[0mget\u001b[0m\u001b[1;33m(\u001b[0m\u001b[1;33m)\u001b[0m\u001b[1;33m\u001b[0m\u001b[0m\n\u001b[0m\u001b[0;32m    252\u001b[0m \u001b[1;33m\u001b[0m\u001b[0m\n\u001b[0;32m    253\u001b[0m     \u001b[1;32mdef\u001b[0m \u001b[0mimap\u001b[0m\u001b[1;33m(\u001b[0m\u001b[0mself\u001b[0m\u001b[1;33m,\u001b[0m \u001b[0mfunc\u001b[0m\u001b[1;33m,\u001b[0m \u001b[0miterable\u001b[0m\u001b[1;33m,\u001b[0m \u001b[0mchunksize\u001b[0m\u001b[1;33m=\u001b[0m\u001b[1;36m1\u001b[0m\u001b[1;33m)\u001b[0m\u001b[1;33m:\u001b[0m\u001b[1;33m\u001b[0m\u001b[0m\n",
      "\u001b[1;32mD:\\Ted_Yang\\Anaconda\\envs\\py27\\lib\\multiprocessing\\pool.pyc\u001b[0m in \u001b[0;36mget\u001b[1;34m(self, timeout)\u001b[0m\n\u001b[0;32m    559\u001b[0m \u001b[1;33m\u001b[0m\u001b[0m\n\u001b[0;32m    560\u001b[0m     \u001b[1;32mdef\u001b[0m \u001b[0mget\u001b[0m\u001b[1;33m(\u001b[0m\u001b[0mself\u001b[0m\u001b[1;33m,\u001b[0m \u001b[0mtimeout\u001b[0m\u001b[1;33m=\u001b[0m\u001b[0mNone\u001b[0m\u001b[1;33m)\u001b[0m\u001b[1;33m:\u001b[0m\u001b[1;33m\u001b[0m\u001b[0m\n\u001b[1;32m--> 561\u001b[1;33m         \u001b[0mself\u001b[0m\u001b[1;33m.\u001b[0m\u001b[0mwait\u001b[0m\u001b[1;33m(\u001b[0m\u001b[0mtimeout\u001b[0m\u001b[1;33m)\u001b[0m\u001b[1;33m\u001b[0m\u001b[0m\n\u001b[0m\u001b[0;32m    562\u001b[0m         \u001b[1;32mif\u001b[0m \u001b[1;32mnot\u001b[0m \u001b[0mself\u001b[0m\u001b[1;33m.\u001b[0m\u001b[0m_ready\u001b[0m\u001b[1;33m:\u001b[0m\u001b[1;33m\u001b[0m\u001b[0m\n\u001b[0;32m    563\u001b[0m             \u001b[1;32mraise\u001b[0m \u001b[0mTimeoutError\u001b[0m\u001b[1;33m\u001b[0m\u001b[0m\n",
      "\u001b[1;32mD:\\Ted_Yang\\Anaconda\\envs\\py27\\lib\\multiprocessing\\pool.pyc\u001b[0m in \u001b[0;36mwait\u001b[1;34m(self, timeout)\u001b[0m\n\u001b[0;32m    554\u001b[0m         \u001b[1;32mtry\u001b[0m\u001b[1;33m:\u001b[0m\u001b[1;33m\u001b[0m\u001b[0m\n\u001b[0;32m    555\u001b[0m             \u001b[1;32mif\u001b[0m \u001b[1;32mnot\u001b[0m \u001b[0mself\u001b[0m\u001b[1;33m.\u001b[0m\u001b[0m_ready\u001b[0m\u001b[1;33m:\u001b[0m\u001b[1;33m\u001b[0m\u001b[0m\n\u001b[1;32m--> 556\u001b[1;33m                 \u001b[0mself\u001b[0m\u001b[1;33m.\u001b[0m\u001b[0m_cond\u001b[0m\u001b[1;33m.\u001b[0m\u001b[0mwait\u001b[0m\u001b[1;33m(\u001b[0m\u001b[0mtimeout\u001b[0m\u001b[1;33m)\u001b[0m\u001b[1;33m\u001b[0m\u001b[0m\n\u001b[0m\u001b[0;32m    557\u001b[0m         \u001b[1;32mfinally\u001b[0m\u001b[1;33m:\u001b[0m\u001b[1;33m\u001b[0m\u001b[0m\n\u001b[0;32m    558\u001b[0m             \u001b[0mself\u001b[0m\u001b[1;33m.\u001b[0m\u001b[0m_cond\u001b[0m\u001b[1;33m.\u001b[0m\u001b[0mrelease\u001b[0m\u001b[1;33m(\u001b[0m\u001b[1;33m)\u001b[0m\u001b[1;33m\u001b[0m\u001b[0m\n",
      "\u001b[1;32mD:\\Ted_Yang\\Anaconda\\envs\\py27\\lib\\threading.pyc\u001b[0m in \u001b[0;36mwait\u001b[1;34m(self, timeout)\u001b[0m\n\u001b[0;32m    338\u001b[0m         \u001b[1;32mtry\u001b[0m\u001b[1;33m:\u001b[0m    \u001b[1;31m# restore state no matter what (e.g., KeyboardInterrupt)\u001b[0m\u001b[1;33m\u001b[0m\u001b[0m\n\u001b[0;32m    339\u001b[0m             \u001b[1;32mif\u001b[0m \u001b[0mtimeout\u001b[0m \u001b[1;32mis\u001b[0m \u001b[0mNone\u001b[0m\u001b[1;33m:\u001b[0m\u001b[1;33m\u001b[0m\u001b[0m\n\u001b[1;32m--> 340\u001b[1;33m                 \u001b[0mwaiter\u001b[0m\u001b[1;33m.\u001b[0m\u001b[0macquire\u001b[0m\u001b[1;33m(\u001b[0m\u001b[1;33m)\u001b[0m\u001b[1;33m\u001b[0m\u001b[0m\n\u001b[0m\u001b[0;32m    341\u001b[0m                 \u001b[1;32mif\u001b[0m \u001b[0m__debug__\u001b[0m\u001b[1;33m:\u001b[0m\u001b[1;33m\u001b[0m\u001b[0m\n\u001b[0;32m    342\u001b[0m                     \u001b[0mself\u001b[0m\u001b[1;33m.\u001b[0m\u001b[0m_note\u001b[0m\u001b[1;33m(\u001b[0m\u001b[1;34m\"%s.wait(): got it\"\u001b[0m\u001b[1;33m,\u001b[0m \u001b[0mself\u001b[0m\u001b[1;33m)\u001b[0m\u001b[1;33m\u001b[0m\u001b[0m\n",
      "\u001b[1;31mKeyboardInterrupt\u001b[0m: "
     ]
    }
   ],
   "source": [
    "# -*- coding: utf-8 -*-\n",
    "\"\"\"\n",
    "Created on Tue Jun 20 10:26:46 2017\n",
    "\n",
    "@author: matlabyy\n",
    "\"\"\"\n",
    "\n",
    "# -*- coding: utf-8 -*-\n",
    "\"\"\"\n",
    "Created on Fri Jun 16 15:16:44 2017\n",
    "\n",
    "@author: Ted Yang\n",
    "\"\"\"\n",
    "\n",
    "import datetime as dt\n",
    "from tree import TreeModel\n",
    "from bau import DLWBusinessAsUsual\n",
    "from cost import DLWCost\n",
    "from damage_Yili import DLWDamage\n",
    "from utility import EZUtility\n",
    "from optimization import GeneticAlgorithm, GradientSearch\n",
    "import numpy as np\n",
    "import pickle\n",
    "def base_case():\n",
    "    time_list =list()\n",
    "    print('Start',dt.datetime.time(dt.datetime.now()))\n",
    "    time_list.append(dt.datetime.time(dt.datetime.now()))\n",
    "    t = TreeModel(decision_times=[0, 15, 45, 85, 185, 285, 385])\n",
    "    print('End tree',dt.datetime.time(dt.datetime.now()))\n",
    "    time_list.append(dt.datetime.time(dt.datetime.now()))\n",
    "    bau_default_model = DLWBusinessAsUsual()\n",
    "    bau_default_model.bau_emissions_setup(tree=t)\n",
    "    print('End bau',dt.datetime.time(dt.datetime.now()))\n",
    "    time_list.append(dt.datetime.time(dt.datetime.now()))\n",
    "    c = DLWCost(t, bau_default_model.emit_level[0], g=92.08, a=3.413, join_price=2000.0, max_price=2500.0,\n",
    "\t\t\t\t\ttech_const=1.5, tech_scale=0.0, cons_at_0=30460.0)\n",
    "    print('End cost',dt.datetime.time(dt.datetime.now()))\n",
    "    time_list.append(dt.datetime.time(dt.datetime.now()))\n",
    "    df = DLWDamage(tree=t, bau=bau_default_model, cons_growth=0.015, ghg_levels=[450, 650, 1000], subinterval_len=5,change=2)    \n",
    "    df.damage_simulation(draws=40, peak_temp=6.0, disaster_tail=18.0, tip_on=True, \n",
    "\t\t\t\t\t\t\t temp_map=0, temp_dist_params=None, maxh=100.0)\n",
    "    print('End damage',dt.datetime.time(dt.datetime.now()))\n",
    "    time_list.append(dt.datetime.time(dt.datetime.now()))\n",
    "    u = EZUtility(tree=t, damage=df, cost=c, period_len=5.0, eis=0.9, ra=7.0, time_pref=0.005)\n",
    "    print('End utility',dt.datetime.time(dt.datetime.now()))\n",
    "    time_list.append(dt.datetime.time(dt.datetime.now()))\n",
    "    ga_model = GeneticAlgorithm(pop_amount=150, num_generations=1, cx_prob=0.8, mut_prob=0.5, \n",
    "\t                            bound=1.5, num_feature=63, utility=u, print_progress=True) \n",
    "    gs_model = GradientSearch(var_nums=63, utility=u, accuracy=1e-8, \n",
    "\t                          iterations=1, print_progress=True)\n",
    "    final_pop, fitness = ga_model.run()\n",
    "    sort_pop = final_pop[np.argsort(fitness)][::-1]\n",
    "    m_opt, u_opt = gs_model.run(initial_point_list=sort_pop, topk=1)\n",
    "\n",
    "    print(\"SCC: \", c.price(0, m_opt[0], 0))\n",
    "    print('End opt/End',dt.datetime.time(dt.datetime.now()))\n",
    "    time_list.append(dt.datetime.time(dt.datetime.now()))\n",
    "    result_time_list =[0]\n",
    "    #change dt.time to dt.timedelta so that it can be added or minused\n",
    "    temp_list =list()\n",
    "    for x in time_list:\n",
    "        temp_list.append( dt.timedelta(hours=x.hour, minutes=x.minute, seconds=x.second, microseconds=x.microsecond))\n",
    "    for i in range(len(temp_list)-1):\n",
    "        i+=1\n",
    "        result_time_list.append((temp_list[i]-temp_list[i-1]).total_seconds())\n",
    "    price_list = list()\n",
    "    for decision_time in range(len(t.decision_times)-1):\n",
    "    \tstart_node,end_node = t.get_nodes_in_period(decision_time)\n",
    "    \taverage_mit = df.average_mitigation(m_opt,decision_time)\n",
    "    \tfor index in range(end_node-start_node+1):\n",
    "    \t\tindex_ori =index + start_node\n",
    "    \t\tprice_list.append(c.price(t.decision_times[decision_time],m_opt[index_ori],average_mit[index]))\n",
    "    return result_time_list,df.parameter_list, m_opt,u_opt,price_list\n",
    "if __name__ == \"__main__\":\n",
    "    count =0\n",
    "    result_list = list()\n",
    "    while count <1:\n",
    "        x= base_case()\n",
    "        result_list.append(x)\n",
    "        count +=1\n",
    "    with open('sensitive_analysis_1.pkl','wb') as f:\n",
    "        pickle.dump(result_list,f)\n",
    "    with open('sensitive_analysis_1.pkl','rb') as inputs:\n",
    "        re = pickle.load(inputs)\n",
    "    print(re)"
   ]
  },
  {
   "cell_type": "code",
   "execution_count": null,
   "metadata": {
    "collapsed": false
   },
   "outputs": [],
   "source": [
    "!pip install numpy"
   ]
  },
  {
   "cell_type": "code",
   "execution_count": null,
   "metadata": {
    "collapsed": true
   },
   "outputs": [],
   "source": []
  }
 ],
 "metadata": {
  "kernelspec": {
   "display_name": "Python 2",
   "language": "python",
   "name": "python2"
  },
  "language_info": {
   "codemirror_mode": {
    "name": "ipython",
    "version": 2
   },
   "file_extension": ".py",
   "mimetype": "text/x-python",
   "name": "python",
   "nbconvert_exporter": "python",
   "pygments_lexer": "ipython2",
   "version": "2.7.13"
  }
 },
 "nbformat": 4,
 "nbformat_minor": 2
}
