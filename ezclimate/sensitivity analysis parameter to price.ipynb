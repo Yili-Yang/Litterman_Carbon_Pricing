{
 "cells": [
  {
   "cell_type": "code",
   "execution_count": 1,
   "metadata": {
    "collapsed": true
   },
   "outputs": [],
   "source": [
    "import matplotlib.pyplot as plt\n",
    "\n",
    "import pickle\n",
    "import numpy as np"
   ]
  },
  {
   "cell_type": "code",
   "execution_count": 2,
   "metadata": {
    "collapsed": true
   },
   "outputs": [],
   "source": [
    "with open('sensitive_analysis_1v_100.pkl','r') as inputs:\n",
    "    data = pickle.load(inputs)\n",
    "\n",
    "with open('sensitive_analysis_base_renewal.pkl','r') as inputsbase:\n",
    "    data_base = pickle.load(inputsbase)"
   ]
  },
  {
   "cell_type": "code",
   "execution_count": 10,
   "metadata": {
    "collapsed": false
   },
   "outputs": [],
   "source": [
    "a450_list= list()\n",
    "for item in data:\n",
    "    a450_list.append(item[1][0][0])\n",
    "    "
   ]
  },
  {
   "cell_type": "code",
   "execution_count": 11,
   "metadata": {
    "collapsed": true
   },
   "outputs": [],
   "source": [
    "def get_price_stat_ave(data,decision_times): #period average for each sample\n",
    "    mitigation = []\n",
    "    utility = []\n",
    "    price = []\n",
    "    a650 = []\n",
    "    from tree import TreeModel \n",
    "    for i in range(len(data)): #load corresponding results\n",
    "        mitigation.append(data[i][-3])\n",
    "        utility.append(data[i][-2])\n",
    "        price.append(data[i][-1])\n",
    "        #a650.append(data[i][2])\n",
    "    #print(np.mean(a650))\n",
    "    \n",
    "    t = TreeModel(decision_times)\n",
    "    nodes_index = []\n",
    "    for i in range(t.num_periods):\n",
    "        nodes_index.append(t.get_nodes_in_period(i)) #get nodes for slicing\n",
    "    price_stat_ave = np.zeros((len(data), t.num_periods))\n",
    "    for i in range(len(data)):\n",
    "        for j in range(t.num_periods):\n",
    "            price_stat_ave[i,j] = np.average(data[i][-1][nodes_index[j][0]:nodes_index[j][1]+1])\n",
    "    return price_stat_ave\n"
   ]
  },
  {
   "cell_type": "code",
   "execution_count": 16,
   "metadata": {
    "collapsed": false
   },
   "outputs": [
    {
     "data": {
      "image/png": "[encoded data removed]",
      "text/plain": [
       "<matplotlib.figure.Figure at 0x8293fd0>"
      ]
     },
     "metadata": {},
     "output_type": "display_data"
    }
   ],
   "source": [
    "decision_times=[0, 15, 45, 85, 185, 285, 385]\n",
    "price_stat_ave= get_price_stat_ave(data,decision_times)\n",
    "ziped_list = zip(a450_list,price_stat_ave[:,0])\n",
    "ziped_list.sort(key = lambda t: t[1])\n",
    "target_list = ziped_list[5:95]\n",
    "target_list_ori = zip(*target_list)\n",
    "\n",
    "list_min,list_max = get_90_quantile(price_stat_ave)\n",
    "plt.figure()\n",
    "plt.plot(target_list_ori[1],target_list_ori[0], 'r--')\n",
    "plt.title('price - a450', size ='xx-large')\n",
    "plt.ylabel('value of a450', size = 'x-large')\n",
    "plt.xlabel('Price in $', size = 'x-large')\n",
    "plt.show()\n",
    "plt.savefig('price - a450')\n",
    "#plt.xlim(decision_times)"
   ]
  },
  {
   "cell_type": "code",
   "execution_count": null,
   "metadata": {
    "collapsed": false
   },
   "outputs": [],
   "source": [
    "import matplotlib.pyplot as plt\n",
    "\n",
    "import pickle\n",
    "import numpy as np"
   ]
  },
  {
   "cell_type": "code",
   "execution_count": 6,
   "metadata": {
    "collapsed": false
   },
   "outputs": [],
   "source": [
    "with open('sensitive_analysis_2G_100.pkl','r') as inputs:\n",
    "    data = pickle.load(inputs)\n",
    "\n",
    "with open('sensitive_analysis_base_renewal.pkl','r') as inputsbase:\n",
    "    data_base = pickle.load(inputsbase)"
   ]
  },
  {
   "cell_type": "code",
   "execution_count": null,
   "metadata": {
    "collapsed": true
   },
   "outputs": [],
   "source": [
    "from scipy.odr import Model, Data, ODR\n",
    "def sensitivity_analysis_c_k(ind):\n",
    "    '''take fraction GHG reduction for different taxation rate from normal distribution\n",
    "    returns the modified c and k in project description page 2 equation (2.3)'''\n",
    "    #1.2 dollar = 1 euro\n",
    "    xdata = [60*1.2,100*1.2]\n",
    "    a = np.random.normal(0.543,0.0213)\n",
    "    b = np.random.normal(0.671,0.0213)\n",
    "    if ind == 0:\n",
    "        ydata = [a,0.671]\n",
    "    elif ind ==1:\n",
    "        ydata = [0.543,b]\n",
    "    else:\n",
    "        ydata = [a,b]\n",
    "    def f(p, x):\n",
    "        '''Linear function y = m*x + b'''\n",
    "        # B is a vector of the parameters.\n",
    "        # x is an array of the current x values.\n",
    "        # x is in the same format as the x passed to Data or RealData.\n",
    "        #\n",
    "        # Return an array in the same format as y passed to Data or RealData.\n",
    "        return p[0] * x ** p[1]\n",
    "\n",
    "    linear = Model(f)\n",
    "    #sx, sy are arrays of error estimates\n",
    "    mydata = Data(xdata, ydata)\n",
    "    #beta0 are the initial parameter estimates\n",
    "    myodr = ODR(mydata, linear, beta0=[1, -1.0])\n",
    "    myoutput = myodr.run()\n",
    "    x = myoutput.beta\n",
    "    c= (1/x[1])*(x[1]+1) \n",
    "    g= ((1/(x[0]**(1/x[1])))**(x[1]+1) )*(x[0]-x[0]/(x[1]+1))\n",
    "    return a,b,c,g"
   ]
  },
  {
   "cell_type": "code",
   "execution_count": 3,
   "metadata": {
    "collapsed": false
   },
   "outputs": [
    {
     "ename": "NameError",
     "evalue": "name 'data' is not defined",
     "output_type": "error",
     "traceback": [
      "\u001b[0;31m---------------------------------------------------------------------------\u001b[0m",
      "\u001b[0;31mNameError\u001b[0m                                 Traceback (most recent call last)",
      "\u001b[0;32m<ipython-input-3-2810d0d6adfc>\u001b[0m in \u001b[0;36m<module>\u001b[0;34m()\u001b[0m\n\u001b[1;32m      1\u001b[0m \u001b[0mp_list\u001b[0m \u001b[1;33m=\u001b[0m \u001b[0mlist\u001b[0m\u001b[1;33m(\u001b[0m\u001b[1;33m)\u001b[0m\u001b[1;33m\u001b[0m\u001b[0m\n\u001b[0;32m----> 2\u001b[0;31m \u001b[1;32mfor\u001b[0m \u001b[0mitem\u001b[0m \u001b[1;32min\u001b[0m \u001b[0mdata\u001b[0m\u001b[1;33m:\u001b[0m\u001b[1;33m\u001b[0m\u001b[0m\n\u001b[0m\u001b[1;32m      3\u001b[0m     \u001b[0mp_list\u001b[0m\u001b[1;33m.\u001b[0m\u001b[0mappend\u001b[0m\u001b[1;33m(\u001b[0m\u001b[0mitem\u001b[0m\u001b[1;33m[\u001b[0m\u001b[1;36m1\u001b[0m\u001b[1;33m]\u001b[0m\u001b[1;33m)\u001b[0m\u001b[1;33m\u001b[0m\u001b[0m\n",
      "\u001b[0;31mNameError\u001b[0m: name 'data' is not defined"
     ]
    }
   ],
   "source": [
    "p_list = list()\n",
    "for item in data:\n",
    "    p_list.append(item[1])"
   ]
  },
  {
   "cell_type": "code",
   "execution_count": null,
   "metadata": {
    "collapsed": false
   },
   "outputs": [],
   "source": [
    "p_list=[[4.359888009237514, 128.49900502558569],\n",
    " [3.256337992103505, 87.697631163625559],\n",
    " [3.697761559796065, 101.12088460651056],\n",
    " [3.4502255410740506, 93.17124206405893],\n",
    " [3.5123044465725806, 95.06188902327311],\n",
    " [3.6682588685634347, 100.11424603359202],\n",
    " [3.5936364261010216, 97.639980715320291],\n",
    " [3.4015012213830214, 91.735568933881979],\n",
    " [3.1393449013129593, 84.693975204261534],\n",
    " [3.259804181851498, 87.789581086866733],\n",
    " [3.9648139619516605, 111.01491884060036],\n",
    " [3.0069802324662898, 81.555335127353715],\n",
    " [3.103001384352612, 83.805244884219817],\n",
    " [3.597794490309991, 97.7767532193444],\n",
    " [3.9324012856290813, 109.73572905128924],\n",
    " [3.1893689841043407, 85.95063410861016],\n",
    " [3.462163554229926, 93.529926680895016],\n",
    " [3.797822188911538, 104.65915556452796],\n",
    " [3.3330475988439514, 89.787463495483763],\n",
    " [3.142964444973019, 84.783573384308085],\n",
    " [3.7050809172119195, 101.37329249185296],\n",
    " [3.1710780120680853, 85.485401082308528],\n",
    " [2.9310209668742386, 79.876927617035733],\n",
    " [3.3129163281806893, 89.228567272338296],\n",
    " [4.585558773791521, 140.22742565685007],\n",
    " [3.0104658139639984, 81.635588963000998],\n",
    " [3.0599552866216686, 82.777632354330478],\n",
    " [3.6825730095160507, 100.60086069859697],\n",
    " [4.13764486064706, 118.21714915715087],\n",
    " [4.240923202155397, 122.84652676178541],\n",
    " [3.8196669769632385, 105.45926070741335],\n",
    " [3.3591116467905175, 90.519481616943395],\n",
    " [3.4043432030068774, 91.818357479838028],\n",
    " [3.5721479730016417, 96.947274888677683],\n",
    " [3.771682576018738, 103.7174418493137],\n",
    " [4.265922846084322, 124.00530014717482],\n",
    " [3.3893459070002985, 91.384269398727355],\n",
    " [3.5359577703787766, 95.798406526235667],\n",
    " [3.3270167768244483, 89.619462433898121],\n",
    " [3.588329979406444, 97.468639819201854],\n",
    " [3.1210089882677896, 84.242016121531776],\n",
    " [3.9985413215339816, 112.36801234509356],\n",
    " [3.2981116796315213, 88.82316700618658],\n",
    " [3.409939037819015, 91.981947049550385],\n",
    " [3.1780249152061057, 85.661133117321882],\n",
    " [3.2342454456789285, 87.113539805055723],\n",
    " [3.5013067947467276, 94.721816609719298],\n",
    " [3.900018988981644, 108.48080074675188],\n",
    " [3.4731033227358483, 93.859881147000266],\n",
    " [2.904987009347238, 79.322205174852542],\n",
    " [3.1212428152343934, 84.248159192395306],\n",
    " [4.048238894449824, 114.40937324310414],\n",
    " [3.212909249200929, 86.555628912307327],\n",
    " [3.390345744096364, 91.412980318316116],\n",
    " [3.7311479459223174, 102.27955582502591],\n",
    " [3.5373902596540496, 95.843586614463959],\n",
    " [4.045462145008361, 114.29311921993803],\n",
    " [3.3628464882101503, 90.625111903027715],\n",
    " [3.007164835666851, 81.560420075548379],\n",
    " [3.3898460027865043, 91.397729305703578],\n",
    " [3.391806742868406, 91.455889290956947],\n",
    " [3.1686393952257337, 85.42518089806434],\n",
    " [3.716496755094939, 101.76856874888011],\n",
    " [3.362120950922368, 90.605488642988732],\n",
    " [3.8301532485939074, 105.84645848718647],\n",
    " [3.76776308191818, 103.57585622962888],\n",
    " [3.2625673697016984, 87.862619082338441],\n",
    " [3.164099680822614, 85.309699964004395],\n",
    " [3.489484596149651, 94.35920995203179],\n",
    " [3.833517232992686, 105.97013660213774],\n",
    " [3.580332314292451, 97.209767931799007],\n",
    " [3.054064498116872, 82.640694039610551],\n",
    " [3.574374423432069, 97.019162720283376],\n",
    " [3.4238548896254044, 92.390372445019352],\n",
    " [3.8474637294142977, 106.49007559968004],\n",
    " [3.3046626640046406, 89.003389582737043],\n",
    " [3.236759524073534, 87.178096914046577],\n",
    " [3.4199362197717154, 92.274996812054127],\n",
    " [2.953043633279854, 80.354308064995124],\n",
    " [3.6668893112047756, 100.06781352750552],\n",
    " [3.1840765957182002, 85.816414447996777],\n",
    " [2.9080717452532565, 79.387518645770001],\n",
    " [4.399812372826607, 130.47632511805455],\n",
    " [3.261495207527553, 87.834023962837207],\n",
    " [3.998697367726351, 112.37492051925079],\n",
    " [3.4305362664885823, 92.587277753037696],\n",
    " [3.30174041028365, 88.921669029934904],\n",
    " [3.0974921321072495, 83.671666434904921],\n",
    " [3.8463237554012086, 106.44589935572174],\n",
    " [3.583084269140891, 97.300172138076491],\n",
    " [3.078664307365976, 83.221867747543726],\n",
    " [3.3870815250893282, 91.319316267371718],\n",
    " [3.47203626298017, 93.827851146008527],\n",
    " [3.5079461791466113, 94.92704935991641],\n",
    " [3.265489305203789, 87.942175794359514],\n",
    " [2.923975825741972, 79.724562696478699],\n",
    " [3.5352128915039254, 95.775443690907679],\n",
    " [2.9501319006748488, 80.290519267357141],\n",
    " [3.764171787530471, 103.4477088283664],\n",
    " [4.041741663345652, 114.13904219611082]]"
   ]
  },
  {
   "cell_type": "code",
   "execution_count": null,
   "metadata": {
    "collapsed": false
   },
   "outputs": [],
   "source": [
    "count = 0\n",
    "result_list = list()\n",
    "while count < 300000:\n",
    "    for item in p_list:\n",
    "        a,b,c,g = sensitivity_analysis_c_k(1)\n",
    "        if abs(c-item[0])<0.001 and abs(g-item[1])<0.001:\n",
    "            result_list.append((0.543,b,item[0],item[1]))\n",
    "            p_list.remove(item)\n",
    "    count += 1"
   ]
  },
  {
   "cell_type": "code",
   "execution_count": null,
   "metadata": {
    "collapsed": true
   },
   "outputs": [],
   "source": []
  }
 ],
 "metadata": {
  "kernelspec": {
   "display_name": "Python 3",
   "language": "python",
   "name": "python3"
  },
  "language_info": {
   "codemirror_mode": {
    "name": "ipython",
    "version": 3
   },
   "file_extension": ".py",
   "mimetype": "text/x-python",
   "name": "python",
   "nbconvert_exporter": "python",
   "pygments_lexer": "ipython3",
   "version": "3.6.0"
  }
 },
 "nbformat": 4,
 "nbformat_minor": 2
}
